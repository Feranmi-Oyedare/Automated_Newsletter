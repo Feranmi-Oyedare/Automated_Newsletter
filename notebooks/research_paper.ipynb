{
 "cells": [
  {
   "cell_type": "code",
   "execution_count": 3,
   "id": "d9aaf121",
   "metadata": {},
   "outputs": [],
   "source": [
    "import os\n",
    "import traceback\n",
    "import requests\n",
    "from bs4 import BeautifulSoup\n",
    "from pybliometrics.scopus import ScopusSearch, AbstractRetrieval\n",
    "import json\n",
    "from tqdm import tqdm\n",
    "import pandas as pd\n",
    "from datetime import datetime, timedelta\n",
    "import pybliometrics\n",
    "pybliometrics.scopus.init()\n",
    "import arxiv\n",
    "import pandas as pd\n",
    "from openai import OpenAI\n",
    "from habanero import Crossref\n",
    "import warnings\n",
    "warnings.filterwarnings(\"ignore\")\n",
    "\n",
    "# Get today's date and the date one month ago\n",
    "end_date = datetime.today().strftime('%Y-%m-%d')\n",
    "start_date = (datetime.today() - timedelta(days=30)).strftime('%Y-%m-%d')\n",
    "\n",
    "\n",
    "def retrieve_arxiv_data(max_results=400):\n",
    "    \n",
    "    # Define the list of keywords to search for\n",
    "    keywords = [\"Africa\", \"Nigeria\", \"Kenya\", \"Ghana\", \"South Africa\", \"Liberia\", \"Egypt\", \"Lagos\", \"Abuja\", \"Morocco\", \"Rwanda\", \"Senegal\", \"Sub-Saharan Africa\"]\n",
    "\n",
    "    # Construct the OR-based search query\n",
    "    query = \" OR \".join(keywords)\n",
    "\n",
    "    search = arxiv.Search(\n",
    "        query=query,\n",
    "        max_results=max_results,\n",
    "        # sort_by=arxiv.SortCriterion.SubmittedDate\n",
    "    )\n",
    "\n",
    "    new_data = []\n",
    "    for result in search.results():\n",
    "        new_data.append({\n",
    "          \"Title\": result.title,\n",
    "          \"Author\": result.authors,\n",
    "          \"Publication_Year\": str(result.published.date()),\n",
    "          \"Link\": result.pdf_url,\n",
    "          \"Abstract\": result.summary\n",
    "        })\n",
    "\n",
    "    arxiv_df = pd.DataFrame(new_data)\n",
    "\n",
    "    # Clean the author column\n",
    "    def clean_authors(x):\n",
    "        author_list = []\n",
    "        for i in x:\n",
    "            author_list.append(i.name)\n",
    "        author_string = \", \".join(author_list)\n",
    "        return author_string\n",
    "    \n",
    "    arxiv_df[\"Author\"] = arxiv_df[\"Author\"].map(clean_authors)\n",
    "    \n",
    "    # Filter out the Publication Date\n",
    "    arxiv_df[\"Publication_Year\"].astype(str)\n",
    "    arxiv_df = arxiv_df[(arxiv_df[\"Publication_Year\"] >= \"2015-01-01\") & (arxiv_df[\"Publication_Year\"] <= str(end_date))]\n",
    "\n",
    "    # Reset the index of the Dataframe\n",
    "    arxiv_df = arxiv_df.reset_index(drop=True)\n",
    "\n",
    "    # Add the ArXiv column\n",
    "    arxiv_df[\"Repository\"] = \"arxiv\"\n",
    "\n",
    "    # Return the dataframe\n",
    "    return arxiv_df\n",
    "\n",
    "def retrieve_scopus_data():\n",
    "    # Define the query\n",
    "    query = '''\n",
    "            (TITLE-ABS-KEY((\"knowledge production\" OR \"research output\" OR \"academic publishing\") AND (Africa OR Nigeria OR Kenya OR Ghana OR South Africa OR Liberia OR Egypt OR Lagos OR Abuja OR Morocco OR Rwanda OR Senegal OR \"Sub-Saharan Africa\"))) \n",
    "            AND DOCTYPE(ar) \n",
    "            AND SRCTYPE(j) \n",
    "            AND PUBYEAR > 2014 AND PUBYEAR < 2026\n",
    "            '''\n",
    "\n",
    "    # Perform Scopus search\n",
    "    x = ScopusSearch(query=query, view=\"STANDARD\", cursor=None, verbose=True)\n",
    "    \n",
    "    # Extract results\n",
    "    scopus_data = []\n",
    "    for result in x.results:\n",
    "        scopus_data.append({\n",
    "            \"Title\": result.title,\n",
    "            \"Author\": result.creator,\n",
    "            \"Publication_Year\": result.coverDate,\n",
    "            \"Link\": f\"http://dx.doi.org/{result.doi}\" if result.doi else \"No DOI available\"\n",
    "        })\n",
    "    \n",
    "    scopus_df = pd.DataFrame(scopus_data)\n",
    "\n",
    "    # Ensure only results within the date range\n",
    "    scopus_df = scopus_df[\n",
    "        (scopus_df[\"Publication_Year\"] >= \"2015-01-01\") & \n",
    "        (scopus_df[\"Publication_Year\"] <= end_date)\n",
    "    ].reset_index(drop=True)\n",
    "\n",
    "    # Fetch abstracts using Crossref from Habanero\n",
    "    cr = Crossref()\n",
    "    abstracts = []\n",
    "    \n",
    "    for link in scopus_df[\"Link\"]:\n",
    "        if \"No DOI available\" in link:\n",
    "            abstracts.append(\"No abstract available\")\n",
    "            continue\n",
    "        \n",
    "        doi = link.split(\"doi.org/\")[-1]\n",
    "        try:\n",
    "            paper = cr.works(ids=doi)\n",
    "            abstract_raw = paper[\"message\"].get(\"abstract\", \"No abstract available\")\n",
    "            soup = BeautifulSoup(abstract_raw, \"html.parser\")\n",
    "            abstracts.append(soup.get_text())\n",
    "        except Exception as e:\n",
    "            abstracts.append(\"No abstract available\")  # Handle errors gracefully\n",
    "\n",
    "    scopus_df[\"Abstract\"] = abstracts\n",
    "\n",
    "    # Remove rows with no abstracts\n",
    "    scopus_df = scopus_df[scopus_df[\"Abstract\"] != \"No abstract available\"]\n",
    "\n",
    "     # Add the scopus column\n",
    "    scopus_df[\"Repository\"] = \"scopus\"\n",
    "\n",
    "\n",
    "    # return the dataframe\n",
    "    return scopus_df\n",
    "\n",
    "# Merge both dataframes together\n",
    "def merge_dataframes():\n",
    "    df_1 = retrieve_arxiv_data()\n",
    "    df_2 = retrieve_scopus_data()\n",
    "    df = pd.concat([df_1, df_2], axis = 0)\n",
    "\n",
    "    # Reset the index\n",
    "    df = df.reset_index(drop=True)\n",
    "    return df\n",
    "\n",
    "df = merge_dataframes()"
   ]
  },
  {
   "cell_type": "code",
   "execution_count": 4,
   "id": "9f0aac41",
   "metadata": {},
   "outputs": [
    {
     "data": {
      "text/html": [
       "<div>\n",
       "<style scoped>\n",
       "    .dataframe tbody tr th:only-of-type {\n",
       "        vertical-align: middle;\n",
       "    }\n",
       "\n",
       "    .dataframe tbody tr th {\n",
       "        vertical-align: top;\n",
       "    }\n",
       "\n",
       "    .dataframe thead th {\n",
       "        text-align: right;\n",
       "    }\n",
       "</style>\n",
       "<table border=\"1\" class=\"dataframe\">\n",
       "  <thead>\n",
       "    <tr style=\"text-align: right;\">\n",
       "      <th></th>\n",
       "      <th>Title</th>\n",
       "      <th>Author</th>\n",
       "      <th>Publication_Year</th>\n",
       "      <th>Link</th>\n",
       "      <th>Abstract</th>\n",
       "      <th>Repository</th>\n",
       "    </tr>\n",
       "  </thead>\n",
       "  <tbody>\n",
       "    <tr>\n",
       "      <th>0</th>\n",
       "      <td>A Continent-Wide Assessment of Cyber Vulnerabi...</td>\n",
       "      <td>Abdijabar Yussuf Mohamed, Samuel Kang'ara Kamau</td>\n",
       "      <td>2023-01-08</td>\n",
       "      <td>http://arxiv.org/pdf/2301.03008v1</td>\n",
       "      <td>As the internet penetration rate in Africa inc...</td>\n",
       "      <td>arxiv</td>\n",
       "    </tr>\n",
       "    <tr>\n",
       "      <th>1</th>\n",
       "      <td>Physics Masterclasses in Africa and the World</td>\n",
       "      <td>Uta Bilow, Kenneth Cecire</td>\n",
       "      <td>2022-05-24</td>\n",
       "      <td>http://arxiv.org/pdf/2206.07004v1</td>\n",
       "      <td>International Masterclasses (IMC) enable high ...</td>\n",
       "      <td>arxiv</td>\n",
       "    </tr>\n",
       "    <tr>\n",
       "      <th>2</th>\n",
       "      <td>Modelling spatio-temporal trends of air pollut...</td>\n",
       "      <td>Paterne Gahungu, Jean Remy Kubwimana, Lionel J...</td>\n",
       "      <td>2022-08-21</td>\n",
       "      <td>http://arxiv.org/pdf/2208.12719v1</td>\n",
       "      <td>Atmospheric pollution remains one of the major...</td>\n",
       "      <td>arxiv</td>\n",
       "    </tr>\n",
       "    <tr>\n",
       "      <th>3</th>\n",
       "      <td>Radio astronomy in Africa: the case of Ghana</td>\n",
       "      <td>Bernard Duah Asabere, Michael Gaylard, Cathy H...</td>\n",
       "      <td>2015-03-30</td>\n",
       "      <td>http://arxiv.org/pdf/1503.08850v2</td>\n",
       "      <td>South Africa has played a leading role in radi...</td>\n",
       "      <td>arxiv</td>\n",
       "    </tr>\n",
       "    <tr>\n",
       "      <th>4</th>\n",
       "      <td>Modelling the impact of vaccination on the COV...</td>\n",
       "      <td>Dephney Mathebula, Abigail Amankwah, Kossi Amo...</td>\n",
       "      <td>2022-09-19</td>\n",
       "      <td>http://arxiv.org/pdf/2209.08694v4</td>\n",
       "      <td>The rapid development of vaccines to combat th...</td>\n",
       "      <td>arxiv</td>\n",
       "    </tr>\n",
       "  </tbody>\n",
       "</table>\n",
       "</div>"
      ],
      "text/plain": [
       "                                               Title  \\\n",
       "0  A Continent-Wide Assessment of Cyber Vulnerabi...   \n",
       "1      Physics Masterclasses in Africa and the World   \n",
       "2  Modelling spatio-temporal trends of air pollut...   \n",
       "3       Radio astronomy in Africa: the case of Ghana   \n",
       "4  Modelling the impact of vaccination on the COV...   \n",
       "\n",
       "                                              Author Publication_Year  \\\n",
       "0    Abdijabar Yussuf Mohamed, Samuel Kang'ara Kamau       2023-01-08   \n",
       "1                          Uta Bilow, Kenneth Cecire       2022-05-24   \n",
       "2  Paterne Gahungu, Jean Remy Kubwimana, Lionel J...       2022-08-21   \n",
       "3  Bernard Duah Asabere, Michael Gaylard, Cathy H...       2015-03-30   \n",
       "4  Dephney Mathebula, Abigail Amankwah, Kossi Amo...       2022-09-19   \n",
       "\n",
       "                                Link  \\\n",
       "0  http://arxiv.org/pdf/2301.03008v1   \n",
       "1  http://arxiv.org/pdf/2206.07004v1   \n",
       "2  http://arxiv.org/pdf/2208.12719v1   \n",
       "3  http://arxiv.org/pdf/1503.08850v2   \n",
       "4  http://arxiv.org/pdf/2209.08694v4   \n",
       "\n",
       "                                            Abstract Repository  \n",
       "0  As the internet penetration rate in Africa inc...      arxiv  \n",
       "1  International Masterclasses (IMC) enable high ...      arxiv  \n",
       "2  Atmospheric pollution remains one of the major...      arxiv  \n",
       "3  South Africa has played a leading role in radi...      arxiv  \n",
       "4  The rapid development of vaccines to combat th...      arxiv  "
      ]
     },
     "execution_count": 4,
     "metadata": {},
     "output_type": "execute_result"
    }
   ],
   "source": [
    "df.head()"
   ]
  },
  {
   "cell_type": "markdown",
   "id": "e47f00fb",
   "metadata": {},
   "source": [
    "Checking the shape of the dataset"
   ]
  },
  {
   "cell_type": "code",
   "execution_count": 5,
   "id": "18be94a5",
   "metadata": {},
   "outputs": [
    {
     "data": {
      "text/plain": [
       "(257, 6)"
      ]
     },
     "execution_count": 5,
     "metadata": {},
     "output_type": "execute_result"
    }
   ],
   "source": [
    "df.shape"
   ]
  },
  {
   "cell_type": "markdown",
   "id": "46b497f9",
   "metadata": {},
   "source": [
    "Checking for duplicate rows"
   ]
  },
  {
   "cell_type": "code",
   "execution_count": 6,
   "id": "1d9870cb",
   "metadata": {},
   "outputs": [
    {
     "data": {
      "text/plain": [
       "np.int64(0)"
      ]
     },
     "execution_count": 6,
     "metadata": {},
     "output_type": "execute_result"
    }
   ],
   "source": [
    "df.duplicated().sum()"
   ]
  },
  {
   "cell_type": "code",
   "execution_count": 7,
   "id": "5d6df3b4",
   "metadata": {},
   "outputs": [],
   "source": [
    "from dotenv import load_dotenv\n",
    "import os\n",
    "\n",
    "load_dotenv()\n",
    "\n",
    "def categorize_topics():\n",
    "    # Set up OpenAI API client\n",
    "    client = OpenAI(api_key=os.getenv(\"OPENAI_API_KEY\"))\n",
    "\n",
    "    topic_category = []\n",
    "    for title in df[\"Title\"]:\n",
    "        # Query OpenAI API for topic categorization\n",
    "        completion = client.chat.completions.create(\n",
    "            model=\"gpt-4o\",\n",
    "            messages=[\n",
    "                {\n",
    "                    \"role\": \"system\",\n",
    "                    \"content\": \"You are an academic assistant. Given a research paper title, classify it into a relevant academic category. Your response should only contain the category name.\"\n",
    "                },\n",
    "                {\n",
    "                    \"role\": \"user\",\n",
    "                    \"content\": f\"Categorize the research paper titled: '{title}'. Only return the topic category.\"\n",
    "                }\n",
    "            ],\n",
    "            temperature=0 \n",
    "        )\n",
    "\n",
    "        # Extract and print topic categorization\n",
    "        topic_categorization = completion.choices[0].message.content.strip()\n",
    "        topic_category.append(topic_categorization)\n",
    "\n",
    "    # Merge topic categories to the dataframe\n",
    "    df[\"Topic_Category\"] = topic_category\n",
    "\n",
    "    # Reset the index of the dataframe\n",
    "    df.reset_index(drop=True, inplace=True)\n",
    "\n",
    "    # Return the dataframe with topic categories\n",
    "    return df"
   ]
  },
  {
   "cell_type": "code",
   "execution_count": 8,
   "id": "f933432e",
   "metadata": {},
   "outputs": [],
   "source": [
    "df = categorize_topics()"
   ]
  },
  {
   "cell_type": "code",
   "execution_count": 7,
   "id": "39844c8f",
   "metadata": {},
   "outputs": [],
   "source": [
    "# !pipx install --force poetry"
   ]
  },
  {
   "cell_type": "code",
   "execution_count": 9,
   "id": "9202e636",
   "metadata": {},
   "outputs": [
    {
     "data": {
      "text/html": [
       "<div>\n",
       "<style scoped>\n",
       "    .dataframe tbody tr th:only-of-type {\n",
       "        vertical-align: middle;\n",
       "    }\n",
       "\n",
       "    .dataframe tbody tr th {\n",
       "        vertical-align: top;\n",
       "    }\n",
       "\n",
       "    .dataframe thead th {\n",
       "        text-align: right;\n",
       "    }\n",
       "</style>\n",
       "<table border=\"1\" class=\"dataframe\">\n",
       "  <thead>\n",
       "    <tr style=\"text-align: right;\">\n",
       "      <th></th>\n",
       "      <th>Title</th>\n",
       "      <th>Author</th>\n",
       "      <th>Publication_Year</th>\n",
       "      <th>Link</th>\n",
       "      <th>Abstract</th>\n",
       "      <th>Repository</th>\n",
       "      <th>Topic_Category</th>\n",
       "    </tr>\n",
       "  </thead>\n",
       "  <tbody>\n",
       "    <tr>\n",
       "      <th>0</th>\n",
       "      <td>A Continent-Wide Assessment of Cyber Vulnerabi...</td>\n",
       "      <td>Abdijabar Yussuf Mohamed, Samuel Kang'ara Kamau</td>\n",
       "      <td>2023-01-08</td>\n",
       "      <td>http://arxiv.org/pdf/2301.03008v1</td>\n",
       "      <td>As the internet penetration rate in Africa inc...</td>\n",
       "      <td>arxiv</td>\n",
       "      <td>Cybersecurity</td>\n",
       "    </tr>\n",
       "    <tr>\n",
       "      <th>1</th>\n",
       "      <td>Physics Masterclasses in Africa and the World</td>\n",
       "      <td>Uta Bilow, Kenneth Cecire</td>\n",
       "      <td>2022-05-24</td>\n",
       "      <td>http://arxiv.org/pdf/2206.07004v1</td>\n",
       "      <td>International Masterclasses (IMC) enable high ...</td>\n",
       "      <td>arxiv</td>\n",
       "      <td>Physics Education</td>\n",
       "    </tr>\n",
       "    <tr>\n",
       "      <th>2</th>\n",
       "      <td>Modelling spatio-temporal trends of air pollut...</td>\n",
       "      <td>Paterne Gahungu, Jean Remy Kubwimana, Lionel J...</td>\n",
       "      <td>2022-08-21</td>\n",
       "      <td>http://arxiv.org/pdf/2208.12719v1</td>\n",
       "      <td>Atmospheric pollution remains one of the major...</td>\n",
       "      <td>arxiv</td>\n",
       "      <td>Environmental Science</td>\n",
       "    </tr>\n",
       "    <tr>\n",
       "      <th>3</th>\n",
       "      <td>Radio astronomy in Africa: the case of Ghana</td>\n",
       "      <td>Bernard Duah Asabere, Michael Gaylard, Cathy H...</td>\n",
       "      <td>2015-03-30</td>\n",
       "      <td>http://arxiv.org/pdf/1503.08850v2</td>\n",
       "      <td>South Africa has played a leading role in radi...</td>\n",
       "      <td>arxiv</td>\n",
       "      <td>Astronomy</td>\n",
       "    </tr>\n",
       "    <tr>\n",
       "      <th>4</th>\n",
       "      <td>Modelling the impact of vaccination on the COV...</td>\n",
       "      <td>Dephney Mathebula, Abigail Amankwah, Kossi Amo...</td>\n",
       "      <td>2022-09-19</td>\n",
       "      <td>http://arxiv.org/pdf/2209.08694v4</td>\n",
       "      <td>The rapid development of vaccines to combat th...</td>\n",
       "      <td>arxiv</td>\n",
       "      <td>Epidemiology</td>\n",
       "    </tr>\n",
       "  </tbody>\n",
       "</table>\n",
       "</div>"
      ],
      "text/plain": [
       "                                               Title  \\\n",
       "0  A Continent-Wide Assessment of Cyber Vulnerabi...   \n",
       "1      Physics Masterclasses in Africa and the World   \n",
       "2  Modelling spatio-temporal trends of air pollut...   \n",
       "3       Radio astronomy in Africa: the case of Ghana   \n",
       "4  Modelling the impact of vaccination on the COV...   \n",
       "\n",
       "                                              Author Publication_Year  \\\n",
       "0    Abdijabar Yussuf Mohamed, Samuel Kang'ara Kamau       2023-01-08   \n",
       "1                          Uta Bilow, Kenneth Cecire       2022-05-24   \n",
       "2  Paterne Gahungu, Jean Remy Kubwimana, Lionel J...       2022-08-21   \n",
       "3  Bernard Duah Asabere, Michael Gaylard, Cathy H...       2015-03-30   \n",
       "4  Dephney Mathebula, Abigail Amankwah, Kossi Amo...       2022-09-19   \n",
       "\n",
       "                                Link  \\\n",
       "0  http://arxiv.org/pdf/2301.03008v1   \n",
       "1  http://arxiv.org/pdf/2206.07004v1   \n",
       "2  http://arxiv.org/pdf/2208.12719v1   \n",
       "3  http://arxiv.org/pdf/1503.08850v2   \n",
       "4  http://arxiv.org/pdf/2209.08694v4   \n",
       "\n",
       "                                            Abstract Repository  \\\n",
       "0  As the internet penetration rate in Africa inc...      arxiv   \n",
       "1  International Masterclasses (IMC) enable high ...      arxiv   \n",
       "2  Atmospheric pollution remains one of the major...      arxiv   \n",
       "3  South Africa has played a leading role in radi...      arxiv   \n",
       "4  The rapid development of vaccines to combat th...      arxiv   \n",
       "\n",
       "          Topic_Category  \n",
       "0          Cybersecurity  \n",
       "1      Physics Education  \n",
       "2  Environmental Science  \n",
       "3              Astronomy  \n",
       "4           Epidemiology  "
      ]
     },
     "execution_count": 9,
     "metadata": {},
     "output_type": "execute_result"
    }
   ],
   "source": [
    "df.head()"
   ]
  },
  {
   "cell_type": "code",
   "execution_count": 10,
   "id": "768b87ee",
   "metadata": {},
   "outputs": [
    {
     "data": {
      "text/plain": [
       "np.int64(0)"
      ]
     },
     "execution_count": 10,
     "metadata": {},
     "output_type": "execute_result"
    }
   ],
   "source": [
    "df.duplicated().sum()"
   ]
  },
  {
   "cell_type": "code",
   "execution_count": 11,
   "id": "28316c65",
   "metadata": {},
   "outputs": [
    {
     "data": {
      "text/plain": [
       "Title               0\n",
       "Author              0\n",
       "Publication_Year    0\n",
       "Link                0\n",
       "Abstract            0\n",
       "Repository          0\n",
       "Topic_Category      0\n",
       "dtype: int64"
      ]
     },
     "execution_count": 11,
     "metadata": {},
     "output_type": "execute_result"
    }
   ],
   "source": [
    "df.isna().sum()"
   ]
  },
  {
   "cell_type": "code",
   "execution_count": 11,
   "id": "ed5fe417",
   "metadata": {},
   "outputs": [],
   "source": [
    "# df[\"Abstract\"].unique()"
   ]
  },
  {
   "cell_type": "code",
   "execution_count": 47,
   "id": "5d27f858",
   "metadata": {},
   "outputs": [],
   "source": [
    "df.to_csv(\"Automated_Newsletter_Research_Dataset.csv\")"
   ]
  },
  {
   "cell_type": "code",
   "execution_count": 114,
   "id": "0126ef3d",
   "metadata": {},
   "outputs": [
    {
     "data": {
      "text/html": [
       "<div>\n",
       "<style scoped>\n",
       "    .dataframe tbody tr th:only-of-type {\n",
       "        vertical-align: middle;\n",
       "    }\n",
       "\n",
       "    .dataframe tbody tr th {\n",
       "        vertical-align: top;\n",
       "    }\n",
       "\n",
       "    .dataframe thead th {\n",
       "        text-align: right;\n",
       "    }\n",
       "</style>\n",
       "<table border=\"1\" class=\"dataframe\">\n",
       "  <thead>\n",
       "    <tr style=\"text-align: right;\">\n",
       "      <th></th>\n",
       "      <th>Unnamed: 0.1</th>\n",
       "      <th>Unnamed: 0</th>\n",
       "      <th>Title</th>\n",
       "      <th>Author</th>\n",
       "      <th>Publication_Year</th>\n",
       "      <th>Link</th>\n",
       "      <th>Abstract</th>\n",
       "      <th>Repository</th>\n",
       "      <th>Topic_Category</th>\n",
       "      <th>Year</th>\n",
       "      <th>Country(s)</th>\n",
       "    </tr>\n",
       "  </thead>\n",
       "  <tbody>\n",
       "    <tr>\n",
       "      <th>0</th>\n",
       "      <td>0</td>\n",
       "      <td>0</td>\n",
       "      <td>A Continent-Wide Assessment of Cyber Vulnerabi...</td>\n",
       "      <td>Abdijabar Yussuf Mohamed, Samuel Kang'ara Kamau</td>\n",
       "      <td>2023-01-08</td>\n",
       "      <td>http://arxiv.org/pdf/2301.03008v1</td>\n",
       "      <td>As the internet penetration rate in Africa inc...</td>\n",
       "      <td>arxiv</td>\n",
       "      <td>Cybersecurity</td>\n",
       "      <td>2023</td>\n",
       "      <td>South Africa, Tunisia, Morocco, Egypt, Nigeria</td>\n",
       "    </tr>\n",
       "    <tr>\n",
       "      <th>1</th>\n",
       "      <td>1</td>\n",
       "      <td>1</td>\n",
       "      <td>Physics Masterclasses in Africa and the World</td>\n",
       "      <td>Uta Bilow, Kenneth Cecire</td>\n",
       "      <td>2022-05-24</td>\n",
       "      <td>http://arxiv.org/pdf/2206.07004v1</td>\n",
       "      <td>International Masterclasses (IMC) enable high ...</td>\n",
       "      <td>arxiv</td>\n",
       "      <td>Physics Education</td>\n",
       "      <td>2022</td>\n",
       "      <td>Egypt, Algeria, Morocco, Sao Tomé and Principe...</td>\n",
       "    </tr>\n",
       "    <tr>\n",
       "      <th>2</th>\n",
       "      <td>2</td>\n",
       "      <td>2</td>\n",
       "      <td>Modelling spatio-temporal trends of air pollut...</td>\n",
       "      <td>Paterne Gahungu, Jean Remy Kubwimana, Lionel J...</td>\n",
       "      <td>2022-08-21</td>\n",
       "      <td>http://arxiv.org/pdf/2208.12719v1</td>\n",
       "      <td>Atmospheric pollution remains one of the major...</td>\n",
       "      <td>arxiv</td>\n",
       "      <td>Environmental Science</td>\n",
       "      <td>2022</td>\n",
       "      <td>Africa, Nigeria, Uganda, Rwanda, Chad</td>\n",
       "    </tr>\n",
       "    <tr>\n",
       "      <th>3</th>\n",
       "      <td>3</td>\n",
       "      <td>3</td>\n",
       "      <td>Radio astronomy in Africa: the case of Ghana</td>\n",
       "      <td>Bernard Duah Asabere, Michael Gaylard, Cathy H...</td>\n",
       "      <td>2015-03-30</td>\n",
       "      <td>http://arxiv.org/pdf/1503.08850v2</td>\n",
       "      <td>South Africa has played a leading role in radi...</td>\n",
       "      <td>arxiv</td>\n",
       "      <td>Astronomy</td>\n",
       "      <td>2015</td>\n",
       "      <td>South Africa, Ghana</td>\n",
       "    </tr>\n",
       "    <tr>\n",
       "      <th>4</th>\n",
       "      <td>4</td>\n",
       "      <td>4</td>\n",
       "      <td>Modelling the impact of vaccination on the COV...</td>\n",
       "      <td>Dephney Mathebula, Abigail Amankwah, Kossi Amo...</td>\n",
       "      <td>2022-09-19</td>\n",
       "      <td>http://arxiv.org/pdf/2209.08694v4</td>\n",
       "      <td>The rapid development of vaccines to combat th...</td>\n",
       "      <td>arxiv</td>\n",
       "      <td>Epidemiology</td>\n",
       "      <td>2022</td>\n",
       "      <td>Ghana, Kenya, Mozambique, Nigeria, South Afric...</td>\n",
       "    </tr>\n",
       "  </tbody>\n",
       "</table>\n",
       "</div>"
      ],
      "text/plain": [
       "   Unnamed: 0.1  Unnamed: 0  \\\n",
       "0             0           0   \n",
       "1             1           1   \n",
       "2             2           2   \n",
       "3             3           3   \n",
       "4             4           4   \n",
       "\n",
       "                                               Title  \\\n",
       "0  A Continent-Wide Assessment of Cyber Vulnerabi...   \n",
       "1      Physics Masterclasses in Africa and the World   \n",
       "2  Modelling spatio-temporal trends of air pollut...   \n",
       "3       Radio astronomy in Africa: the case of Ghana   \n",
       "4  Modelling the impact of vaccination on the COV...   \n",
       "\n",
       "                                              Author Publication_Year  \\\n",
       "0    Abdijabar Yussuf Mohamed, Samuel Kang'ara Kamau       2023-01-08   \n",
       "1                          Uta Bilow, Kenneth Cecire       2022-05-24   \n",
       "2  Paterne Gahungu, Jean Remy Kubwimana, Lionel J...       2022-08-21   \n",
       "3  Bernard Duah Asabere, Michael Gaylard, Cathy H...       2015-03-30   \n",
       "4  Dephney Mathebula, Abigail Amankwah, Kossi Amo...       2022-09-19   \n",
       "\n",
       "                                Link  \\\n",
       "0  http://arxiv.org/pdf/2301.03008v1   \n",
       "1  http://arxiv.org/pdf/2206.07004v1   \n",
       "2  http://arxiv.org/pdf/2208.12719v1   \n",
       "3  http://arxiv.org/pdf/1503.08850v2   \n",
       "4  http://arxiv.org/pdf/2209.08694v4   \n",
       "\n",
       "                                            Abstract Repository  \\\n",
       "0  As the internet penetration rate in Africa inc...      arxiv   \n",
       "1  International Masterclasses (IMC) enable high ...      arxiv   \n",
       "2  Atmospheric pollution remains one of the major...      arxiv   \n",
       "3  South Africa has played a leading role in radi...      arxiv   \n",
       "4  The rapid development of vaccines to combat th...      arxiv   \n",
       "\n",
       "          Topic_Category  Year  \\\n",
       "0          Cybersecurity  2023   \n",
       "1      Physics Education  2022   \n",
       "2  Environmental Science  2022   \n",
       "3              Astronomy  2015   \n",
       "4           Epidemiology  2022   \n",
       "\n",
       "                                          Country(s)  \n",
       "0     South Africa, Tunisia, Morocco, Egypt, Nigeria  \n",
       "1  Egypt, Algeria, Morocco, Sao Tomé and Principe...  \n",
       "2              Africa, Nigeria, Uganda, Rwanda, Chad  \n",
       "3                                South Africa, Ghana  \n",
       "4  Ghana, Kenya, Mozambique, Nigeria, South Afric...  "
      ]
     },
     "execution_count": 114,
     "metadata": {},
     "output_type": "execute_result"
    }
   ],
   "source": [
    "import pandas as pd\n",
    "\n",
    "df = pd.read_csv(r\"C:\\Users\\Rise Networks\\Desktop\\Automated_Newsletter\\notebooks\\Automated_Newsletter_Research_Dataset.csv\")\n",
    "df.head()"
   ]
  },
  {
   "cell_type": "code",
   "execution_count": 115,
   "id": "787b9395",
   "metadata": {},
   "outputs": [
    {
     "data": {
      "text/plain": [
       "(257, 11)"
      ]
     },
     "execution_count": 115,
     "metadata": {},
     "output_type": "execute_result"
    }
   ],
   "source": [
    "df.shape"
   ]
  },
  {
   "cell_type": "code",
   "execution_count": 116,
   "id": "f43f6e6a",
   "metadata": {},
   "outputs": [
    {
     "data": {
      "text/plain": [
       "Repository\n",
       "arxiv     211\n",
       "scopus     46\n",
       "Name: count, dtype: int64"
      ]
     },
     "execution_count": 116,
     "metadata": {},
     "output_type": "execute_result"
    }
   ],
   "source": [
    "# How many papers are from ArXiv and Scopus\n",
    "df[\"Repository\"].value_counts()"
   ]
  },
  {
   "cell_type": "code",
   "execution_count": 117,
   "id": "98b39181",
   "metadata": {},
   "outputs": [
    {
     "name": "stdout",
     "output_type": "stream",
     "text": [
      "The publication range of the articles is between 2015-01-22 and 2025-05-20\n"
     ]
    }
   ],
   "source": [
    "# What is the time range of the articles\n",
    "min_publicate_date = df[\"Publication_Year\"].min()\n",
    "max_publication_date = df[\"Publication_Year\"].max()\n",
    "\n",
    "print(f\"The publication range of the articles is between {min_publicate_date} and {max_publication_date}\")"
   ]
  },
  {
   "cell_type": "code",
   "execution_count": 118,
   "id": "900bd8a3",
   "metadata": {},
   "outputs": [
    {
     "data": {
      "text/plain": [
       "Year\n",
       "2017     8\n",
       "2018    11\n",
       "2019    14\n",
       "2015    16\n",
       "2016    17\n",
       "2021    24\n",
       "2024    25\n",
       "2025    29\n",
       "2023    33\n",
       "2020    36\n",
       "2022    44\n",
       "Name: count, dtype: int64"
      ]
     },
     "execution_count": 118,
     "metadata": {},
     "output_type": "execute_result"
    }
   ],
   "source": [
    "# breakdown of number of articles per year\n",
    "df[\"Year\"] = df[\"Publication_Year\"].str.split(\"-\").str[0]\n",
    "\n",
    "df[\"Year\"].value_counts().sort_values(ascending=True)"
   ]
  },
  {
   "cell_type": "code",
   "execution_count": 119,
   "id": "1b8fa5a1",
   "metadata": {},
   "outputs": [
    {
     "data": {
      "text/plain": [
       "76"
      ]
     },
     "execution_count": 119,
     "metadata": {},
     "output_type": "execute_result"
    }
   ],
   "source": [
    "# How many unique themes did GPT 4 produce?\n",
    "df[\"Topic_Category\"].nunique()"
   ]
  },
  {
   "cell_type": "code",
   "execution_count": 120,
   "id": "9da034d6",
   "metadata": {},
   "outputs": [
    {
     "name": "stdout",
     "output_type": "stream",
     "text": [
      "Computer Science ---> 25\n",
      "Astrophysics ---> 17\n",
      "Economics ---> 15\n",
      "Epidemiology ---> 15\n",
      "Physics ---> 15\n"
     ]
    }
   ],
   "source": [
    "# What are the top five most common thematic categories\n",
    "top_5_common_themes = df[\"Topic_Category\"].value_counts().sort_values(ascending=False).index[:5].to_list()\n",
    "\n",
    "# How many articles fall into each?\n",
    "top_5_common_themes_articles = df[\"Topic_Category\"].value_counts().sort_values(ascending=False).values[:5]\n",
    "\n",
    "for theme, number_of_articles in zip(top_5_common_themes, top_5_common_themes_articles):\n",
    "    print(f\"{theme} ---> {number_of_articles}\")"
   ]
  },
  {
   "cell_type": "markdown",
   "id": "8e700612",
   "metadata": {},
   "source": [
    "THEMATIC MAPPING"
   ]
  },
  {
   "cell_type": "markdown",
   "id": "1862ca12",
   "metadata": {},
   "source": [
    "Geographical Mapping"
   ]
  },
  {
   "cell_type": "code",
   "execution_count": 63,
   "id": "237f6e08",
   "metadata": {},
   "outputs": [],
   "source": [
    "from dotenv import load_dotenv\n",
    "import os\n",
    "\n",
    "load_dotenv()\n",
    "\n",
    "def identify_countries():\n",
    "    # Set up OpenAI API client\n",
    "    client = OpenAI(api_key=os.getenv(\"OPENAI_API_KEY\"))\n",
    "\n",
    "    country = []\n",
    "    for title, abstract in zip(df[\"Title\"], df[\"Abstract\"]):\n",
    "        # Query OpenAI API for topic categorization\n",
    "        completion = client.chat.completions.create(\n",
    "            model=\"gpt-4o\",\n",
    "            messages=[\n",
    "                {\n",
    "                    \"role\": \"system\",\n",
    "                    \"content\": \"You are an academic assistant. Given a research paper title and abstract, identify the African country(s) mentioned in the abstract. Your response should only contain the African country name(s).\"\n",
    "                },\n",
    "                {\n",
    "                    \"role\": \"user\",\n",
    "                    \"content\": f\"\"\"\n",
    "                                    Extract the African country name(s) from the title: '{title}' and abstract: '{abstract}'. Only return the African country name(s) if none, return \"None\". \n",
    "                                    Note: The African country of focus can be a single African country. If no African country return \"None\"\n",
    "                                \"\"\"\n",
    "                }\n",
    "            ],\n",
    "            temperature=0 \n",
    "        )\n",
    "\n",
    "        # Extract and print topic categorization\n",
    "        model_result = completion.choices[0].message.content.strip()\n",
    "        country.append(model_result)\n",
    "\n",
    "    # Merge topic categories to the dataframe\n",
    "    df[\"Country(s)\"] = country\n",
    "\n",
    "    # Reset the index of the dataframe\n",
    "    df.reset_index(drop=True, inplace=True)\n",
    "\n",
    "    # Return the dataframe with topic categories\n",
    "    return df"
   ]
  },
  {
   "cell_type": "code",
   "execution_count": null,
   "id": "84e9fbdc",
   "metadata": {},
   "outputs": [],
   "source": []
  },
  {
   "cell_type": "code",
   "execution_count": 64,
   "id": "e000586b",
   "metadata": {},
   "outputs": [],
   "source": [
    "df = identify_countries()"
   ]
  },
  {
   "cell_type": "code",
   "execution_count": 65,
   "id": "ae324b9d",
   "metadata": {},
   "outputs": [
    {
     "data": {
      "text/html": [
       "<div>\n",
       "<style scoped>\n",
       "    .dataframe tbody tr th:only-of-type {\n",
       "        vertical-align: middle;\n",
       "    }\n",
       "\n",
       "    .dataframe tbody tr th {\n",
       "        vertical-align: top;\n",
       "    }\n",
       "\n",
       "    .dataframe thead th {\n",
       "        text-align: right;\n",
       "    }\n",
       "</style>\n",
       "<table border=\"1\" class=\"dataframe\">\n",
       "  <thead>\n",
       "    <tr style=\"text-align: right;\">\n",
       "      <th></th>\n",
       "      <th>Unnamed: 0</th>\n",
       "      <th>Title</th>\n",
       "      <th>Author</th>\n",
       "      <th>Publication_Year</th>\n",
       "      <th>Link</th>\n",
       "      <th>Abstract</th>\n",
       "      <th>Repository</th>\n",
       "      <th>Topic_Category</th>\n",
       "      <th>Year</th>\n",
       "      <th>Country(s)</th>\n",
       "    </tr>\n",
       "  </thead>\n",
       "  <tbody>\n",
       "    <tr>\n",
       "      <th>0</th>\n",
       "      <td>0</td>\n",
       "      <td>A Continent-Wide Assessment of Cyber Vulnerabi...</td>\n",
       "      <td>Abdijabar Yussuf Mohamed, Samuel Kang'ara Kamau</td>\n",
       "      <td>2023-01-08</td>\n",
       "      <td>http://arxiv.org/pdf/2301.03008v1</td>\n",
       "      <td>As the internet penetration rate in Africa inc...</td>\n",
       "      <td>arxiv</td>\n",
       "      <td>Cybersecurity</td>\n",
       "      <td>2023</td>\n",
       "      <td>South Africa, Tunisia, Morocco, Egypt, Nigeria</td>\n",
       "    </tr>\n",
       "    <tr>\n",
       "      <th>1</th>\n",
       "      <td>1</td>\n",
       "      <td>Physics Masterclasses in Africa and the World</td>\n",
       "      <td>Uta Bilow, Kenneth Cecire</td>\n",
       "      <td>2022-05-24</td>\n",
       "      <td>http://arxiv.org/pdf/2206.07004v1</td>\n",
       "      <td>International Masterclasses (IMC) enable high ...</td>\n",
       "      <td>arxiv</td>\n",
       "      <td>Physics Education</td>\n",
       "      <td>2022</td>\n",
       "      <td>Egypt, Algeria, Morocco, Sao Tomé and Principe...</td>\n",
       "    </tr>\n",
       "    <tr>\n",
       "      <th>2</th>\n",
       "      <td>2</td>\n",
       "      <td>Modelling spatio-temporal trends of air pollut...</td>\n",
       "      <td>Paterne Gahungu, Jean Remy Kubwimana, Lionel J...</td>\n",
       "      <td>2022-08-21</td>\n",
       "      <td>http://arxiv.org/pdf/2208.12719v1</td>\n",
       "      <td>Atmospheric pollution remains one of the major...</td>\n",
       "      <td>arxiv</td>\n",
       "      <td>Environmental Science</td>\n",
       "      <td>2022</td>\n",
       "      <td>Nigeria, Mali, Uganda, Rwanda, Chad</td>\n",
       "    </tr>\n",
       "    <tr>\n",
       "      <th>3</th>\n",
       "      <td>3</td>\n",
       "      <td>Radio astronomy in Africa: the case of Ghana</td>\n",
       "      <td>Bernard Duah Asabere, Michael Gaylard, Cathy H...</td>\n",
       "      <td>2015-03-30</td>\n",
       "      <td>http://arxiv.org/pdf/1503.08850v2</td>\n",
       "      <td>South Africa has played a leading role in radi...</td>\n",
       "      <td>arxiv</td>\n",
       "      <td>Astronomy</td>\n",
       "      <td>2015</td>\n",
       "      <td>Ghana, South Africa</td>\n",
       "    </tr>\n",
       "    <tr>\n",
       "      <th>4</th>\n",
       "      <td>4</td>\n",
       "      <td>Modelling the impact of vaccination on the COV...</td>\n",
       "      <td>Dephney Mathebula, Abigail Amankwah, Kossi Amo...</td>\n",
       "      <td>2022-09-19</td>\n",
       "      <td>http://arxiv.org/pdf/2209.08694v4</td>\n",
       "      <td>The rapid development of vaccines to combat th...</td>\n",
       "      <td>arxiv</td>\n",
       "      <td>Epidemiology</td>\n",
       "      <td>2022</td>\n",
       "      <td>Ghana, Kenya, Mozambique, Nigeria, South Afric...</td>\n",
       "    </tr>\n",
       "  </tbody>\n",
       "</table>\n",
       "</div>"
      ],
      "text/plain": [
       "   Unnamed: 0                                              Title  \\\n",
       "0           0  A Continent-Wide Assessment of Cyber Vulnerabi...   \n",
       "1           1      Physics Masterclasses in Africa and the World   \n",
       "2           2  Modelling spatio-temporal trends of air pollut...   \n",
       "3           3       Radio astronomy in Africa: the case of Ghana   \n",
       "4           4  Modelling the impact of vaccination on the COV...   \n",
       "\n",
       "                                              Author Publication_Year  \\\n",
       "0    Abdijabar Yussuf Mohamed, Samuel Kang'ara Kamau       2023-01-08   \n",
       "1                          Uta Bilow, Kenneth Cecire       2022-05-24   \n",
       "2  Paterne Gahungu, Jean Remy Kubwimana, Lionel J...       2022-08-21   \n",
       "3  Bernard Duah Asabere, Michael Gaylard, Cathy H...       2015-03-30   \n",
       "4  Dephney Mathebula, Abigail Amankwah, Kossi Amo...       2022-09-19   \n",
       "\n",
       "                                Link  \\\n",
       "0  http://arxiv.org/pdf/2301.03008v1   \n",
       "1  http://arxiv.org/pdf/2206.07004v1   \n",
       "2  http://arxiv.org/pdf/2208.12719v1   \n",
       "3  http://arxiv.org/pdf/1503.08850v2   \n",
       "4  http://arxiv.org/pdf/2209.08694v4   \n",
       "\n",
       "                                            Abstract Repository  \\\n",
       "0  As the internet penetration rate in Africa inc...      arxiv   \n",
       "1  International Masterclasses (IMC) enable high ...      arxiv   \n",
       "2  Atmospheric pollution remains one of the major...      arxiv   \n",
       "3  South Africa has played a leading role in radi...      arxiv   \n",
       "4  The rapid development of vaccines to combat th...      arxiv   \n",
       "\n",
       "          Topic_Category  Year  \\\n",
       "0          Cybersecurity  2023   \n",
       "1      Physics Education  2022   \n",
       "2  Environmental Science  2022   \n",
       "3              Astronomy  2015   \n",
       "4           Epidemiology  2022   \n",
       "\n",
       "                                          Country(s)  \n",
       "0     South Africa, Tunisia, Morocco, Egypt, Nigeria  \n",
       "1  Egypt, Algeria, Morocco, Sao Tomé and Principe...  \n",
       "2                Nigeria, Mali, Uganda, Rwanda, Chad  \n",
       "3                                Ghana, South Africa  \n",
       "4  Ghana, Kenya, Mozambique, Nigeria, South Afric...  "
      ]
     },
     "execution_count": 65,
     "metadata": {},
     "output_type": "execute_result"
    }
   ],
   "source": [
    "df.head()"
   ]
  },
  {
   "cell_type": "code",
   "execution_count": 66,
   "id": "b6de6dfd",
   "metadata": {},
   "outputs": [],
   "source": [
    "def extract_all_countries(x):\n",
    "    list_of_countries = []\n",
    "    x = x.split(\",\")\n",
    "    for i in x:\n",
    "        list_of_countries.append(i)\n",
    "\n",
    "    return list(set(list_of_countries))\n",
    "\n",
    "list_of_countries = df[\"Country(s)\"].map(extract_all_countries)"
   ]
  },
  {
   "cell_type": "code",
   "execution_count": 67,
   "id": "e5b879dd",
   "metadata": {},
   "outputs": [
    {
     "name": "stdout",
     "output_type": "stream",
     "text": [
      "55\n"
     ]
    }
   ],
   "source": [
    "total_countries = []\n",
    "for i in list_of_countries:\n",
    "    for j in i:\n",
    "        total_countries.append(j)\n",
    "total_countries = list(set(total_countries))\n",
    "print(len(total_countries))"
   ]
  },
  {
   "cell_type": "code",
   "execution_count": 70,
   "id": "1c2dfd96",
   "metadata": {},
   "outputs": [
    {
     "data": {
      "text/plain": [
       "55"
      ]
     },
     "execution_count": 70,
     "metadata": {},
     "output_type": "execute_result"
    }
   ],
   "source": [
    "len(total_countries)"
   ]
  },
  {
   "cell_type": "markdown",
   "id": "a5f2586a",
   "metadata": {},
   "source": [
    "Number of papers associated with a country"
   ]
  },
  {
   "cell_type": "code",
   "execution_count": 111,
   "id": "6115ff19",
   "metadata": {},
   "outputs": [
    {
     "data": {
      "text/plain": [
       "South Africa     101\n",
       "None              74\n",
       "Nigeria           31\n",
       "Kenya             26\n",
       "Ghana             21\n",
       " Kenya            12\n",
       " South Africa     12\n",
       "Egypt             11\n",
       "Liberia           10\n",
       "Uganda             9\n",
       "Rwanda             8\n",
       " Tanzania          8\n",
       "Guinea             8\n",
       " Uganda            7\n",
       " Nigeria           7\n",
       " Liberia           7\n",
       " Sierra Leone      7\n",
       "Senegal            6\n",
       " Egypt             5\n",
       "Tunisia            4\n",
       "dtype: int64"
      ]
     },
     "execution_count": 111,
     "metadata": {},
     "output_type": "execute_result"
    }
   ],
   "source": [
    "country_dict = {}\n",
    "count = 1\n",
    "for i in range(len(df)):\n",
    "    for j in total_countries:\n",
    "        if j in df[\"Country(s)\"][i]:\n",
    "            if j not in country_dict:\n",
    "                country_dict[j] = count\n",
    "            else:\n",
    "                country_dict[j] = country_dict[j] + count\n",
    "pd.Series(country_dict).sort_values(ascending=False)[:20]"
   ]
  },
  {
   "cell_type": "markdown",
   "id": "6867d38d",
   "metadata": {},
   "source": [
    "Temporal Mapping"
   ]
  },
  {
   "cell_type": "code",
   "execution_count": 74,
   "id": "e194381e",
   "metadata": {},
   "outputs": [
    {
     "data": {
      "image/png": "[encoded data removed]",
      "text/plain": [
       "<Figure size 1800x600 with 1 Axes>"
      ]
     },
     "metadata": {},
     "output_type": "display_data"
    }
   ],
   "source": [
    "import matplotlib.pyplot as plt\n",
    "\n",
    "df[\"Topic_Category\"].value_counts().plot(\n",
    "    kind=\"bar\",\n",
    "    title=\"Thematic Mapping\",\n",
    "    ylabel= \"Number of Publications\",\n",
    "    figsize = (18, 6)\n",
    "    )\n",
    "plt.show()"
   ]
  },
  {
   "cell_type": "code",
   "execution_count": 75,
   "id": "74ad56f9",
   "metadata": {},
   "outputs": [
    {
     "data": {
      "image/png": "[encoded data removed]",
      "text/plain": [
       "<Figure size 1800x600 with 1 Axes>"
      ]
     },
     "metadata": {},
     "output_type": "display_data"
    }
   ],
   "source": [
    "df[\"Topic_Category\"].value_counts()[:15].plot(\n",
    "    kind=\"pie\",\n",
    "    title=\"Distribution of The Top 15 Themes with the Highest Publications\",\n",
    "    autopct = \"%.2f%%\",\n",
    "    figsize = (18,6),\n",
    "    ylabel = \"\"\n",
    ")\n",
    "plt.show()"
   ]
  },
  {
   "cell_type": "code",
   "execution_count": 11,
   "id": "f3fe167a",
   "metadata": {},
   "outputs": [
    {
     "data": {
      "text/plain": [
       "'http://arxiv.org/pdf/2206.07004v1'"
      ]
     },
     "execution_count": 11,
     "metadata": {},
     "output_type": "execute_result"
    }
   ],
   "source": [
    "df[\"Link\"][1]"
   ]
  },
  {
   "cell_type": "code",
   "execution_count": 12,
   "id": "f4ec0dee",
   "metadata": {},
   "outputs": [],
   "source": [
    "df['Year'] = pd.to_datetime(df['Publication_Year']).dt.year"
   ]
  },
  {
   "cell_type": "code",
   "execution_count": 13,
   "id": "8a4498cd",
   "metadata": {},
   "outputs": [],
   "source": [
    "theme_trends = df.groupby(['Year', 'Topic_Category']).size().reset_index(name='Count')"
   ]
  },
  {
   "cell_type": "code",
   "execution_count": 77,
   "id": "4e8e7e65",
   "metadata": {},
   "outputs": [],
   "source": [
    "\n",
    "# Step 1: Count the top 20 most frequent themes\n",
    "top_20_themes = df['Topic_Category'].value_counts().nlargest(20).index\n",
    "\n",
    "# Step 2: Filter the dataframe to only include those top 20 themes\n",
    "df_top_20 = df[df['Topic_Category'].isin(top_20_themes)]\n",
    "\n",
    "# Optional: Check the result\n",
    "# print(df_top_20['Topic_Category'].value_counts())\n",
    "df_top_20 = df_top_20.groupby([\"Year\", \"Topic_Category\"]).size().reset_index(name=\"Count\")"
   ]
  },
  {
   "cell_type": "code",
   "execution_count": 78,
   "id": "03ca4ba9",
   "metadata": {},
   "outputs": [
    {
     "data": {
      "text/html": [
       "<div>\n",
       "<style scoped>\n",
       "    .dataframe tbody tr th:only-of-type {\n",
       "        vertical-align: middle;\n",
       "    }\n",
       "\n",
       "    .dataframe tbody tr th {\n",
       "        vertical-align: top;\n",
       "    }\n",
       "\n",
       "    .dataframe thead th {\n",
       "        text-align: right;\n",
       "    }\n",
       "</style>\n",
       "<table border=\"1\" class=\"dataframe\">\n",
       "  <thead>\n",
       "    <tr style=\"text-align: right;\">\n",
       "      <th></th>\n",
       "      <th>Year</th>\n",
       "      <th>Topic_Category</th>\n",
       "      <th>Count</th>\n",
       "    </tr>\n",
       "  </thead>\n",
       "  <tbody>\n",
       "    <tr>\n",
       "      <th>0</th>\n",
       "      <td>2015</td>\n",
       "      <td>Astronomy</td>\n",
       "      <td>1</td>\n",
       "    </tr>\n",
       "    <tr>\n",
       "      <th>1</th>\n",
       "      <td>2015</td>\n",
       "      <td>Economics</td>\n",
       "      <td>1</td>\n",
       "    </tr>\n",
       "    <tr>\n",
       "      <th>2</th>\n",
       "      <td>2015</td>\n",
       "      <td>Epidemiology</td>\n",
       "      <td>4</td>\n",
       "    </tr>\n",
       "    <tr>\n",
       "      <th>3</th>\n",
       "      <td>2015</td>\n",
       "      <td>Library and Information Science</td>\n",
       "      <td>1</td>\n",
       "    </tr>\n",
       "    <tr>\n",
       "      <th>4</th>\n",
       "      <td>2015</td>\n",
       "      <td>Mathematics</td>\n",
       "      <td>2</td>\n",
       "    </tr>\n",
       "  </tbody>\n",
       "</table>\n",
       "</div>"
      ],
      "text/plain": [
       "   Year                   Topic_Category  Count\n",
       "0  2015                        Astronomy      1\n",
       "1  2015                        Economics      1\n",
       "2  2015                     Epidemiology      4\n",
       "3  2015  Library and Information Science      1\n",
       "4  2015                      Mathematics      2"
      ]
     },
     "execution_count": 78,
     "metadata": {},
     "output_type": "execute_result"
    }
   ],
   "source": [
    "# theme_trends = theme_trends.sort_values(by=\"Count\", ascending=False)\n",
    "# theme_trends = df_top_20.sort_values(by=\"Count\", ascending=False)\n",
    "df_top_20.head()"
   ]
  },
  {
   "cell_type": "code",
   "execution_count": 79,
   "id": "1df6ba5b",
   "metadata": {},
   "outputs": [
    {
     "data": {
      "image/png": "[encoded data removed]",
      "text/plain": [
       "<Figure size 1200x600 with 1 Axes>"
      ]
     },
     "metadata": {},
     "output_type": "display_data"
    }
   ],
   "source": [
    "import seaborn as sns\n",
    "import matplotlib.pyplot as plt\n",
    "\n",
    "plt.figure(figsize=(12, 6))\n",
    "sns.lineplot(data=df_top_20, x='Year', y='Count', hue='Topic_Category', marker='o')\n",
    "plt.title('Emerging Themes Over Time')\n",
    "plt.ylabel('Number of Publications')\n",
    "plt.xlabel('Year')\n",
    "plt.xticks(rotation=45)\n",
    "plt.tight_layout()\n",
    "plt.show()"
   ]
  },
  {
   "cell_type": "code",
   "execution_count": 80,
   "id": "ac8281e2",
   "metadata": {},
   "outputs": [
    {
     "data": {
      "image/png": "[encoded data removed]",
      "text/plain": [
       "<Figure size 1600x1000 with 2 Axes>"
      ]
     },
     "metadata": {},
     "output_type": "display_data"
    }
   ],
   "source": [
    "import pandas as pd\n",
    "import seaborn as sns\n",
    "import matplotlib.pyplot as plt\n",
    "\n",
    "# Step 1: Convert publication date to year (if needed)\n",
    "df['Publication_Year'] = pd.to_datetime(df['Publication_Year'], errors='coerce').dt.year\n",
    "\n",
    "# Step 2: Get top 20 themes\n",
    "top_20_themes = df['Topic_Category'].value_counts().nlargest(20).index\n",
    "df_top_20 = df[df['Topic_Category'].isin(top_20_themes)]\n",
    "\n",
    "# Step 3: Create pivot table (rows=Theme, cols=Year, values=Counts)\n",
    "heatmap_data = df_top_20.pivot_table(index='Topic_Category',\n",
    "                                      columns='Publication_Year',\n",
    "                                      values='Title',  # or any column\n",
    "                                      aggfunc='count',\n",
    "                                      fill_value=0)\n",
    "\n",
    "# Step 4: Plot the heatmap\n",
    "plt.figure(figsize=(16, 10))\n",
    "sns.heatmap(heatmap_data, cmap=\"YlGnBu\", linewidths=.5, annot=True, fmt=\"d\")\n",
    "plt.title('Top 20 Emerging Themes Over Time')\n",
    "plt.xlabel('Year')\n",
    "plt.ylabel('Topic Category')\n",
    "plt.tight_layout()\n",
    "plt.show()"
   ]
  },
  {
   "cell_type": "markdown",
   "id": "fad552a2",
   "metadata": {},
   "source": [
    "TOPIC MODELING USING BERTOPIC"
   ]
  },
  {
   "cell_type": "code",
   "execution_count": 18,
   "id": "c30365d4",
   "metadata": {},
   "outputs": [],
   "source": [
    "# Clean the titles column\n",
    "titles = df[\"Title\"].dropna().to_list()"
   ]
  },
  {
   "cell_type": "code",
   "execution_count": 29,
   "id": "4fe41d54",
   "metadata": {},
   "outputs": [
    {
     "name": "stdout",
     "output_type": "stream",
     "text": [
      "253\n"
     ]
    }
   ],
   "source": [
    "print(len(titles))\n",
    "research_titles = df[\"Title\"]"
   ]
  },
  {
   "cell_type": "code",
   "execution_count": 30,
   "id": "8a18b6fb",
   "metadata": {},
   "outputs": [],
   "source": [
    "from bertopic import BERTopic\n",
    "# \"all-MiniLM-L6-v2\"\n",
    "# \"paraphrase-MiniLLM-\""
   ]
  },
  {
   "cell_type": "code",
   "execution_count": 44,
   "id": "2e3ec537",
   "metadata": {},
   "outputs": [],
   "source": [
    "model =BERTopic(verbose=True, embedding_model=\"all-MiniLM-L6-v2\", min_topic_size=10, nr_topics=5)"
   ]
  },
  {
   "cell_type": "code",
   "execution_count": 45,
   "id": "859eb633",
   "metadata": {},
   "outputs": [
    {
     "name": "stderr",
     "output_type": "stream",
     "text": [
      "2025-04-24 14:46:14,746 - BERTopic - Embedding - Transforming documents to embeddings.\n"
     ]
    },
    {
     "data": {
      "application/vnd.jupyter.widget-view+json": {
       "model_id": "13c2802e9e264860bebba60d85271732",
       "version_major": 2,
       "version_minor": 0
      },
      "text/plain": [
       "Batches:   0%|          | 0/8 [00:00<?, ?it/s]"
      ]
     },
     "metadata": {},
     "output_type": "display_data"
    },
    {
     "name": "stderr",
     "output_type": "stream",
     "text": [
      "2025-04-24 14:46:25,251 - BERTopic - Embedding - Completed ✓\n",
      "2025-04-24 14:46:25,257 - BERTopic - Dimensionality - Fitting the dimensionality reduction algorithm\n",
      "2025-04-24 14:46:25,963 - BERTopic - Dimensionality - Completed ✓\n",
      "2025-04-24 14:46:25,965 - BERTopic - Cluster - Start clustering the reduced embeddings\n",
      "2025-04-24 14:46:25,983 - BERTopic - Cluster - Completed ✓\n",
      "2025-04-24 14:46:25,984 - BERTopic - Representation - Extracting topics using c-TF-IDF for topic reduction.\n",
      "2025-04-24 14:46:26,019 - BERTopic - Representation - Completed ✓\n",
      "2025-04-24 14:46:26,020 - BERTopic - Topic reduction - Reducing number of topics\n",
      "2025-04-24 14:46:26,021 - BERTopic - Topic reduction - Number of topics (5) is equal or higher than the clustered topics(4).\n",
      "2025-04-24 14:46:26,025 - BERTopic - Representation - Fine-tuning topics using representation models.\n",
      "2025-04-24 14:46:26,178 - BERTopic - Representation - Completed ✓\n"
     ]
    },
    {
     "data": {
      "text/plain": [
       "([2,\n",
       "  2,\n",
       "  -1,\n",
       "  1,\n",
       "  0,\n",
       "  2,\n",
       "  2,\n",
       "  0,\n",
       "  -1,\n",
       "  1,\n",
       "  2,\n",
       "  2,\n",
       "  1,\n",
       "  2,\n",
       "  -1,\n",
       "  2,\n",
       "  2,\n",
       "  2,\n",
       "  2,\n",
       "  1,\n",
       "  0,\n",
       "  2,\n",
       "  2,\n",
       "  2,\n",
       "  2,\n",
       "  0,\n",
       "  2,\n",
       "  2,\n",
       "  1,\n",
       "  0,\n",
       "  2,\n",
       "  2,\n",
       "  1,\n",
       "  2,\n",
       "  2,\n",
       "  0,\n",
       "  -1,\n",
       "  2,\n",
       "  2,\n",
       "  2,\n",
       "  -1,\n",
       "  2,\n",
       "  1,\n",
       "  0,\n",
       "  -1,\n",
       "  2,\n",
       "  2,\n",
       "  2,\n",
       "  2,\n",
       "  2,\n",
       "  2,\n",
       "  0,\n",
       "  0,\n",
       "  2,\n",
       "  2,\n",
       "  2,\n",
       "  2,\n",
       "  2,\n",
       "  2,\n",
       "  0,\n",
       "  2,\n",
       "  2,\n",
       "  0,\n",
       "  0,\n",
       "  0,\n",
       "  0,\n",
       "  2,\n",
       "  0,\n",
       "  1,\n",
       "  1,\n",
       "  1,\n",
       "  -1,\n",
       "  2,\n",
       "  2,\n",
       "  1,\n",
       "  2,\n",
       "  -1,\n",
       "  2,\n",
       "  -1,\n",
       "  2,\n",
       "  2,\n",
       "  -1,\n",
       "  2,\n",
       "  2,\n",
       "  2,\n",
       "  1,\n",
       "  2,\n",
       "  0,\n",
       "  -1,\n",
       "  0,\n",
       "  2,\n",
       "  2,\n",
       "  2,\n",
       "  -1,\n",
       "  1,\n",
       "  0,\n",
       "  2,\n",
       "  0,\n",
       "  2,\n",
       "  2,\n",
       "  2,\n",
       "  -1,\n",
       "  1,\n",
       "  0,\n",
       "  2,\n",
       "  2,\n",
       "  2,\n",
       "  2,\n",
       "  2,\n",
       "  0,\n",
       "  0,\n",
       "  2,\n",
       "  2,\n",
       "  2,\n",
       "  2,\n",
       "  2,\n",
       "  2,\n",
       "  2,\n",
       "  2,\n",
       "  2,\n",
       "  2,\n",
       "  2,\n",
       "  -1,\n",
       "  2,\n",
       "  1,\n",
       "  1,\n",
       "  0,\n",
       "  1,\n",
       "  2,\n",
       "  2,\n",
       "  2,\n",
       "  2,\n",
       "  1,\n",
       "  1,\n",
       "  1,\n",
       "  1,\n",
       "  2,\n",
       "  2,\n",
       "  2,\n",
       "  2,\n",
       "  1,\n",
       "  2,\n",
       "  2,\n",
       "  -1,\n",
       "  -1,\n",
       "  1,\n",
       "  1,\n",
       "  2,\n",
       "  2,\n",
       "  -1,\n",
       "  1,\n",
       "  0,\n",
       "  2,\n",
       "  0,\n",
       "  2,\n",
       "  2,\n",
       "  1,\n",
       "  0,\n",
       "  0,\n",
       "  0,\n",
       "  0,\n",
       "  1,\n",
       "  1,\n",
       "  1,\n",
       "  1,\n",
       "  2,\n",
       "  2,\n",
       "  1,\n",
       "  0,\n",
       "  0,\n",
       "  -1,\n",
       "  2,\n",
       "  1,\n",
       "  1,\n",
       "  1,\n",
       "  1,\n",
       "  1,\n",
       "  1,\n",
       "  1,\n",
       "  1,\n",
       "  1,\n",
       "  1,\n",
       "  1,\n",
       "  1,\n",
       "  1,\n",
       "  1,\n",
       "  1,\n",
       "  2,\n",
       "  0,\n",
       "  1,\n",
       "  2,\n",
       "  1,\n",
       "  0,\n",
       "  0,\n",
       "  2,\n",
       "  2,\n",
       "  2,\n",
       "  2,\n",
       "  2,\n",
       "  -1,\n",
       "  0,\n",
       "  1,\n",
       "  0,\n",
       "  -1,\n",
       "  2,\n",
       "  2,\n",
       "  2,\n",
       "  0,\n",
       "  2,\n",
       "  0,\n",
       "  2,\n",
       "  2,\n",
       "  2,\n",
       "  2,\n",
       "  2,\n",
       "  2,\n",
       "  2,\n",
       "  2,\n",
       "  2,\n",
       "  2,\n",
       "  -1,\n",
       "  -1,\n",
       "  2,\n",
       "  2,\n",
       "  2,\n",
       "  0,\n",
       "  2,\n",
       "  2,\n",
       "  2,\n",
       "  0,\n",
       "  2,\n",
       "  2,\n",
       "  2,\n",
       "  2,\n",
       "  2,\n",
       "  2,\n",
       "  0,\n",
       "  2,\n",
       "  2,\n",
       "  2,\n",
       "  0,\n",
       "  2,\n",
       "  2,\n",
       "  2,\n",
       "  2,\n",
       "  2,\n",
       "  2,\n",
       "  2,\n",
       "  2,\n",
       "  2,\n",
       "  2,\n",
       "  2,\n",
       "  2],\n",
       " array([1.        , 0.94534193, 0.        , 0.48715981, 1.        ,\n",
       "        1.        , 1.        , 1.        , 0.        , 0.63516484,\n",
       "        1.        , 1.        , 1.        , 1.        , 0.        ,\n",
       "        1.        , 1.        , 0.80725976, 0.94897978, 0.90643953,\n",
       "        0.47539764, 0.83250933, 0.77032083, 0.95907357, 1.        ,\n",
       "        1.        , 0.97101917, 1.        , 1.        , 1.        ,\n",
       "        1.        , 1.        , 0.80021203, 0.93279244, 1.        ,\n",
       "        0.59249076, 0.        , 0.95502747, 1.        , 1.        ,\n",
       "        0.        , 1.        , 0.46719863, 0.61506123, 0.        ,\n",
       "        1.        , 1.        , 1.        , 1.        , 1.        ,\n",
       "        0.95645622, 0.82965992, 0.99450532, 1.        , 1.        ,\n",
       "        1.        , 1.        , 1.        , 0.92230068, 1.        ,\n",
       "        0.8638723 , 1.        , 0.71805959, 0.64721819, 0.63047632,\n",
       "        0.76706944, 1.        , 0.42777204, 1.        , 0.95269847,\n",
       "        0.47332336, 0.        , 1.        , 1.        , 0.76586188,\n",
       "        1.        , 0.        , 0.9236087 , 0.        , 1.        ,\n",
       "        0.9476959 , 0.        , 1.        , 1.        , 0.90177129,\n",
       "        0.92826265, 1.        , 0.7015474 , 0.        , 0.86819402,\n",
       "        1.        , 1.        , 1.        , 0.        , 0.85912088,\n",
       "        0.58306466, 1.        , 0.84323984, 0.81315476, 1.        ,\n",
       "        1.        , 0.        , 0.81778532, 1.        , 1.        ,\n",
       "        0.9788973 , 1.        , 1.        , 0.99620469, 0.58253407,\n",
       "        0.58949636, 1.        , 1.        , 1.        , 0.7938318 ,\n",
       "        0.92507509, 1.        , 0.86057905, 0.96380535, 1.        ,\n",
       "        0.89331498, 1.        , 0.        , 0.93680201, 0.71657503,\n",
       "        0.89357171, 1.        , 0.89813374, 0.95502747, 1.        ,\n",
       "        0.81568422, 0.81246701, 0.68697301, 0.99993466, 0.76586188,\n",
       "        0.64176583, 0.85102408, 0.86111306, 0.78308385, 1.        ,\n",
       "        1.        , 1.        , 1.        , 0.        , 0.        ,\n",
       "        1.        , 0.88186075, 0.92784386, 0.87354592, 0.        ,\n",
       "        0.99198437, 0.63047632, 1.        , 0.53384189, 1.        ,\n",
       "        0.88451232, 0.46176397, 0.59768757, 0.63232384, 0.65680043,\n",
       "        0.61307515, 1.        , 0.99198437, 1.        , 1.        ,\n",
       "        1.        , 1.        , 0.69563316, 1.        , 0.6909694 ,\n",
       "        0.        , 1.        , 0.73671885, 0.68713512, 0.99993466,\n",
       "        0.70710276, 0.79884032, 0.68322745, 0.8004255 , 0.68524912,\n",
       "        1.        , 0.94040391, 0.7602893 , 0.89357171, 0.99993466,\n",
       "        0.7928415 , 0.8004255 , 0.95562572, 0.85286469, 0.84981243,\n",
       "        1.        , 0.90643953, 0.50519018, 0.46135443, 1.        ,\n",
       "        0.87617551, 1.        , 1.        , 1.        , 0.        ,\n",
       "        1.        , 1.        , 0.84428776, 0.        , 1.        ,\n",
       "        1.        , 0.84139365, 1.        , 1.        , 0.7015474 ,\n",
       "        1.        , 1.        , 0.87747585, 1.        , 1.        ,\n",
       "        0.99388974, 0.97314273, 0.92341639, 1.        , 1.        ,\n",
       "        0.        , 0.        , 1.        , 1.        , 0.98732487,\n",
       "        0.65680043, 1.        , 0.93881387, 1.        , 0.72380978,\n",
       "        1.        , 1.        , 1.        , 0.94759788, 1.        ,\n",
       "        1.        , 0.58309222, 0.87175826, 1.        , 0.98451411,\n",
       "        0.37952814, 1.        , 0.93283874, 0.92859814, 1.        ,\n",
       "        0.86197829, 0.92157066, 0.98720645, 0.95321107, 0.81597621,\n",
       "        0.85310839, 1.        , 1.        ]))"
      ]
     },
     "execution_count": 45,
     "metadata": {},
     "output_type": "execute_result"
    }
   ],
   "source": [
    "model.fit_transform(research_titles)"
   ]
  },
  {
   "cell_type": "code",
   "execution_count": 46,
   "id": "1ca8ec24",
   "metadata": {},
   "outputs": [],
   "source": [
    "# model.get_topic"
   ]
  },
  {
   "cell_type": "code",
   "execution_count": 48,
   "id": "f614ce19",
   "metadata": {},
   "outputs": [
    {
     "data": {
      "text/html": [
       "<div>\n",
       "<style scoped>\n",
       "    .dataframe tbody tr th:only-of-type {\n",
       "        vertical-align: middle;\n",
       "    }\n",
       "\n",
       "    .dataframe tbody tr th {\n",
       "        vertical-align: top;\n",
       "    }\n",
       "\n",
       "    .dataframe thead th {\n",
       "        text-align: right;\n",
       "    }\n",
       "</style>\n",
       "<table border=\"1\" class=\"dataframe\">\n",
       "  <thead>\n",
       "    <tr style=\"text-align: right;\">\n",
       "      <th></th>\n",
       "      <th>Topic</th>\n",
       "      <th>Count</th>\n",
       "      <th>Name</th>\n",
       "      <th>Representation</th>\n",
       "      <th>Representative_Docs</th>\n",
       "    </tr>\n",
       "  </thead>\n",
       "  <tbody>\n",
       "    <tr>\n",
       "      <th>0</th>\n",
       "      <td>-1</td>\n",
       "      <td>22</td>\n",
       "      <td>-1_in_using_of_the</td>\n",
       "      <td>[in, using, of, the, learning, threshold, nort...</td>\n",
       "      <td>[Predicting Insurance Penetration Rate in Ghan...</td>\n",
       "    </tr>\n",
       "    <tr>\n",
       "      <th>1</th>\n",
       "      <td>0</td>\n",
       "      <td>42</td>\n",
       "      <td>0_19_covid_of_the</td>\n",
       "      <td>[19, covid, of, the, in, to, and, ebola, afric...</td>\n",
       "      <td>[Modelling the impact of vaccination on the CO...</td>\n",
       "    </tr>\n",
       "    <tr>\n",
       "      <th>2</th>\n",
       "      <td>1</td>\n",
       "      <td>49</td>\n",
       "      <td>1_the_of_in_and</td>\n",
       "      <td>[the, of, in, and, radio, giant, on, isoscalar...</td>\n",
       "      <td>[Radio astronomy in Africa: the case of Ghana,...</td>\n",
       "    </tr>\n",
       "    <tr>\n",
       "      <th>3</th>\n",
       "      <td>2</td>\n",
       "      <td>140</td>\n",
       "      <td>2_in_and_of_africa</td>\n",
       "      <td>[in, and, of, africa, the, for, south, on, res...</td>\n",
       "      <td>[Physics Education for Capacity Development an...</td>\n",
       "    </tr>\n",
       "  </tbody>\n",
       "</table>\n",
       "</div>"
      ],
      "text/plain": [
       "   Topic  Count                Name  \\\n",
       "0     -1     22  -1_in_using_of_the   \n",
       "1      0     42   0_19_covid_of_the   \n",
       "2      1     49     1_the_of_in_and   \n",
       "3      2    140  2_in_and_of_africa   \n",
       "\n",
       "                                      Representation  \\\n",
       "0  [in, using, of, the, learning, threshold, nort...   \n",
       "1  [19, covid, of, the, in, to, and, ebola, afric...   \n",
       "2  [the, of, in, and, radio, giant, on, isoscalar...   \n",
       "3  [in, and, of, africa, the, for, south, on, res...   \n",
       "\n",
       "                                 Representative_Docs  \n",
       "0  [Predicting Insurance Penetration Rate in Ghan...  \n",
       "1  [Modelling the impact of vaccination on the CO...  \n",
       "2  [Radio astronomy in Africa: the case of Ghana,...  \n",
       "3  [Physics Education for Capacity Development an...  "
      ]
     },
     "execution_count": 48,
     "metadata": {},
     "output_type": "execute_result"
    }
   ],
   "source": [
    "model.get_topic_info()"
   ]
  },
  {
   "cell_type": "code",
   "execution_count": 49,
   "id": "454cb79e",
   "metadata": {},
   "outputs": [
    {
     "data": {
      "text/plain": [
       "{-1: [('in', np.float64(0.0935493377827508)),\n",
       "  ('using', np.float64(0.08435485313721941)),\n",
       "  ('of', np.float64(0.07993324982072599)),\n",
       "  ('the', np.float64(0.060712108469137986)),\n",
       "  ('learning', np.float64(0.05701123754381682)),\n",
       "  ('threshold', np.float64(0.05067924395938736)),\n",
       "  ('northwest', np.float64(0.05067924395938736)),\n",
       "  ('image', np.float64(0.05067924395938736)),\n",
       "  ('war', np.float64(0.05067924395938736)),\n",
       "  ('africa', np.float64(0.04937349828739871))],\n",
       " 0: [('19', np.float64(0.11310482202354656)),\n",
       "  ('covid', np.float64(0.11310482202354656)),\n",
       "  ('of', np.float64(0.09432123478845666)),\n",
       "  ('the', np.float64(0.09175603388340657)),\n",
       "  ('in', np.float64(0.0856460316597253)),\n",
       "  ('to', np.float64(0.08297527266445064)),\n",
       "  ('and', np.float64(0.08087505170678941)),\n",
       "  ('ebola', np.float64(0.06959302789831431)),\n",
       "  ('africa', np.float64(0.06830568107898057)),\n",
       "  ('south', np.float64(0.0645176778411558))],\n",
       " 1: [('the', np.float64(0.10812221451022128)),\n",
       "  ('of', np.float64(0.09964720615173929)),\n",
       "  ('in', np.float64(0.07707738395336541)),\n",
       "  ('and', np.float64(0.07058232912083783)),\n",
       "  ('radio', np.float64(0.05340527481340193)),\n",
       "  ('giant', np.float64(0.04615342029884368)),\n",
       "  ('on', np.float64(0.03865097432996269)),\n",
       "  ('isoscalar', np.float64(0.038539372389908615)),\n",
       "  ('monopole', np.float64(0.038539372389908615)),\n",
       "  ('resonance', np.float64(0.038539372389908615))],\n",
       " 2: [('in', np.float64(0.0892710077781855)),\n",
       "  ('and', np.float64(0.08303425614746875)),\n",
       "  ('of', np.float64(0.07680368253828597)),\n",
       "  ('africa', np.float64(0.07668450531553146)),\n",
       "  ('the', np.float64(0.0627872813265406)),\n",
       "  ('for', np.float64(0.057875702038936126)),\n",
       "  ('south', np.float64(0.05297817812345969)),\n",
       "  ('on', np.float64(0.04564762907282582)),\n",
       "  ('research', np.float64(0.03277958913981134)),\n",
       "  ('to', np.float64(0.03187351871034042))]}"
      ]
     },
     "execution_count": 49,
     "metadata": {},
     "output_type": "execute_result"
    }
   ],
   "source": [
    "model.topic_representations_"
   ]
  },
  {
   "cell_type": "code",
   "execution_count": 57,
   "id": "c3b484c4",
   "metadata": {},
   "outputs": [
    {
     "data": {
      "text/plain": [
       "[('in', np.float64(0.0892710077781855)),\n",
       " ('and', np.float64(0.08303425614746875)),\n",
       " ('of', np.float64(0.07680368253828597)),\n",
       " ('africa', np.float64(0.07668450531553146)),\n",
       " ('the', np.float64(0.0627872813265406)),\n",
       " ('for', np.float64(0.057875702038936126)),\n",
       " ('south', np.float64(0.05297817812345969)),\n",
       " ('on', np.float64(0.04564762907282582)),\n",
       " ('research', np.float64(0.03277958913981134)),\n",
       " ('to', np.float64(0.03187351871034042))]"
      ]
     },
     "execution_count": 57,
     "metadata": {},
     "output_type": "execute_result"
    }
   ],
   "source": [
    "model.get_topic(2)"
   ]
  },
  {
   "cell_type": "code",
   "execution_count": 59,
   "id": "0efdc86c",
   "metadata": {},
   "outputs": [
    {
     "ename": "TypeError",
     "evalue": "Cannot use scipy.linalg.eigh for sparse A with k >= N. Use scipy.linalg.eigh(A.toarray()) or reduce k.",
     "output_type": "error",
     "traceback": [
      "\u001b[31m---------------------------------------------------------------------------\u001b[39m",
      "\u001b[31mTypeError\u001b[39m                                 Traceback (most recent call last)",
      "\u001b[36mCell\u001b[39m\u001b[36m \u001b[39m\u001b[32mIn[59]\u001b[39m\u001b[32m, line 1\u001b[39m\n\u001b[32m----> \u001b[39m\u001b[32m1\u001b[39m fig = \u001b[43mmodel\u001b[49m\u001b[43m.\u001b[49m\u001b[43mvisualize_topics\u001b[49m\u001b[43m(\u001b[49m\u001b[43m)\u001b[49m\n\u001b[32m      2\u001b[39m fig\n",
      "\u001b[36mFile \u001b[39m\u001b[32mc:\\Users\\Rise Networks\\AppData\\Local\\Programs\\Python\\Python313\\Lib\\site-packages\\bertopic\\_bertopic.py:2442\u001b[39m, in \u001b[36mBERTopic.visualize_topics\u001b[39m\u001b[34m(self, topics, top_n_topics, use_ctfidf, custom_labels, title, width, height)\u001b[39m\n\u001b[32m   2409\u001b[39m \u001b[38;5;250m\u001b[39m\u001b[33;03m\"\"\"Visualize topics, their sizes, and their corresponding words.\u001b[39;00m\n\u001b[32m   2410\u001b[39m \n\u001b[32m   2411\u001b[39m \u001b[33;03mThis visualization is highly inspired by LDAvis, a great visualization\u001b[39;00m\n\u001b[32m   (...)\u001b[39m\u001b[32m   2439\u001b[39m \u001b[33;03m```\u001b[39;00m\n\u001b[32m   2440\u001b[39m \u001b[33;03m\"\"\"\u001b[39;00m\n\u001b[32m   2441\u001b[39m check_is_fitted(\u001b[38;5;28mself\u001b[39m)\n\u001b[32m-> \u001b[39m\u001b[32m2442\u001b[39m \u001b[38;5;28;01mreturn\u001b[39;00m \u001b[43mplotting\u001b[49m\u001b[43m.\u001b[49m\u001b[43mvisualize_topics\u001b[49m\u001b[43m(\u001b[49m\n\u001b[32m   2443\u001b[39m \u001b[43m    \u001b[49m\u001b[38;5;28;43mself\u001b[39;49m\u001b[43m,\u001b[49m\n\u001b[32m   2444\u001b[39m \u001b[43m    \u001b[49m\u001b[43mtopics\u001b[49m\u001b[43m=\u001b[49m\u001b[43mtopics\u001b[49m\u001b[43m,\u001b[49m\n\u001b[32m   2445\u001b[39m \u001b[43m    \u001b[49m\u001b[43mtop_n_topics\u001b[49m\u001b[43m=\u001b[49m\u001b[43mtop_n_topics\u001b[49m\u001b[43m,\u001b[49m\n\u001b[32m   2446\u001b[39m \u001b[43m    \u001b[49m\u001b[43muse_ctfidf\u001b[49m\u001b[43m=\u001b[49m\u001b[43muse_ctfidf\u001b[49m\u001b[43m,\u001b[49m\n\u001b[32m   2447\u001b[39m \u001b[43m    \u001b[49m\u001b[43mcustom_labels\u001b[49m\u001b[43m=\u001b[49m\u001b[43mcustom_labels\u001b[49m\u001b[43m,\u001b[49m\n\u001b[32m   2448\u001b[39m \u001b[43m    \u001b[49m\u001b[43mtitle\u001b[49m\u001b[43m=\u001b[49m\u001b[43mtitle\u001b[49m\u001b[43m,\u001b[49m\n\u001b[32m   2449\u001b[39m \u001b[43m    \u001b[49m\u001b[43mwidth\u001b[49m\u001b[43m=\u001b[49m\u001b[43mwidth\u001b[49m\u001b[43m,\u001b[49m\n\u001b[32m   2450\u001b[39m \u001b[43m    \u001b[49m\u001b[43mheight\u001b[49m\u001b[43m=\u001b[49m\u001b[43mheight\u001b[49m\u001b[43m,\u001b[49m\n\u001b[32m   2451\u001b[39m \u001b[43m\u001b[49m\u001b[43m)\u001b[49m\n",
      "\u001b[36mFile \u001b[39m\u001b[32mc:\\Users\\Rise Networks\\AppData\\Local\\Programs\\Python\\Python313\\Lib\\site-packages\\bertopic\\plotting\\_topics.py:102\u001b[39m, in \u001b[36mvisualize_topics\u001b[39m\u001b[34m(topic_model, topics, top_n_topics, use_ctfidf, custom_labels, title, width, height)\u001b[39m\n\u001b[32m     98\u001b[39m         embeddings = UMAP(n_neighbors=\u001b[32m2\u001b[39m, n_components=\u001b[32m2\u001b[39m, metric=\u001b[33m\"\u001b[39m\u001b[33mhellinger\u001b[39m\u001b[33m\"\u001b[39m, random_state=\u001b[32m42\u001b[39m).fit_transform(\n\u001b[32m     99\u001b[39m             embeddings\n\u001b[32m    100\u001b[39m         )\n\u001b[32m    101\u001b[39m     \u001b[38;5;28;01melse\u001b[39;00m:\n\u001b[32m--> \u001b[39m\u001b[32m102\u001b[39m         embeddings = \u001b[43mUMAP\u001b[49m\u001b[43m(\u001b[49m\u001b[43mn_neighbors\u001b[49m\u001b[43m=\u001b[49m\u001b[32;43m2\u001b[39;49m\u001b[43m,\u001b[49m\u001b[43m \u001b[49m\u001b[43mn_components\u001b[49m\u001b[43m=\u001b[49m\u001b[32;43m2\u001b[39;49m\u001b[43m,\u001b[49m\u001b[43m \u001b[49m\u001b[43mmetric\u001b[49m\u001b[43m=\u001b[49m\u001b[33;43m\"\u001b[39;49m\u001b[33;43mcosine\u001b[39;49m\u001b[33;43m\"\u001b[39;49m\u001b[43m,\u001b[49m\u001b[43m \u001b[49m\u001b[43mrandom_state\u001b[49m\u001b[43m=\u001b[49m\u001b[32;43m42\u001b[39;49m\u001b[43m)\u001b[49m\u001b[43m.\u001b[49m\u001b[43mfit_transform\u001b[49m\u001b[43m(\u001b[49m\u001b[43membeddings\u001b[49m\u001b[43m)\u001b[49m\n\u001b[32m    103\u001b[39m \u001b[38;5;28;01melse\u001b[39;00m:\n\u001b[32m    104\u001b[39m     \u001b[38;5;28;01mraise\u001b[39;00m \u001b[38;5;167;01mModuleNotFoundError\u001b[39;00m(\n\u001b[32m    105\u001b[39m         \u001b[33m\"\u001b[39m\u001b[33mUMAP is required to reduce the embeddings.. Please install it using `pip install umap-learn`.\u001b[39m\u001b[33m\"\u001b[39m\n\u001b[32m    106\u001b[39m     )\n",
      "\u001b[36mFile \u001b[39m\u001b[32mc:\\Users\\Rise Networks\\AppData\\Local\\Programs\\Python\\Python313\\Lib\\site-packages\\umap\\umap_.py:2928\u001b[39m, in \u001b[36mUMAP.fit_transform\u001b[39m\u001b[34m(self, X, y, force_all_finite, **kwargs)\u001b[39m\n\u001b[32m   2890\u001b[39m \u001b[38;5;28;01mdef\u001b[39;00m\u001b[38;5;250m \u001b[39m\u001b[34mfit_transform\u001b[39m(\u001b[38;5;28mself\u001b[39m, X, y=\u001b[38;5;28;01mNone\u001b[39;00m, force_all_finite=\u001b[38;5;28;01mTrue\u001b[39;00m, **kwargs):\n\u001b[32m   2891\u001b[39m \u001b[38;5;250m    \u001b[39m\u001b[33;03m\"\"\"Fit X into an embedded space and return that transformed\u001b[39;00m\n\u001b[32m   2892\u001b[39m \u001b[33;03m    output.\u001b[39;00m\n\u001b[32m   2893\u001b[39m \n\u001b[32m   (...)\u001b[39m\u001b[32m   2926\u001b[39m \u001b[33;03m        Local radii of data points in the embedding (log-transformed).\u001b[39;00m\n\u001b[32m   2927\u001b[39m \u001b[33;03m    \"\"\"\u001b[39;00m\n\u001b[32m-> \u001b[39m\u001b[32m2928\u001b[39m     \u001b[38;5;28;43mself\u001b[39;49m\u001b[43m.\u001b[49m\u001b[43mfit\u001b[49m\u001b[43m(\u001b[49m\u001b[43mX\u001b[49m\u001b[43m,\u001b[49m\u001b[43m \u001b[49m\u001b[43my\u001b[49m\u001b[43m,\u001b[49m\u001b[43m \u001b[49m\u001b[43mforce_all_finite\u001b[49m\u001b[43m,\u001b[49m\u001b[43m \u001b[49m\u001b[43m*\u001b[49m\u001b[43m*\u001b[49m\u001b[43mkwargs\u001b[49m\u001b[43m)\u001b[49m\n\u001b[32m   2929\u001b[39m     \u001b[38;5;28;01mif\u001b[39;00m \u001b[38;5;28mself\u001b[39m.transform_mode == \u001b[33m\"\u001b[39m\u001b[33membedding\u001b[39m\u001b[33m\"\u001b[39m:\n\u001b[32m   2930\u001b[39m         \u001b[38;5;28;01mif\u001b[39;00m \u001b[38;5;28mself\u001b[39m.output_dens:\n",
      "\u001b[36mFile \u001b[39m\u001b[32mc:\\Users\\Rise Networks\\AppData\\Local\\Programs\\Python\\Python313\\Lib\\site-packages\\umap\\umap_.py:2817\u001b[39m, in \u001b[36mUMAP.fit\u001b[39m\u001b[34m(self, X, y, force_all_finite, **kwargs)\u001b[39m\n\u001b[32m   2813\u001b[39m \u001b[38;5;28;01mif\u001b[39;00m \u001b[38;5;28mself\u001b[39m.transform_mode == \u001b[33m\"\u001b[39m\u001b[33membedding\u001b[39m\u001b[33m\"\u001b[39m:\n\u001b[32m   2814\u001b[39m     epochs = (\n\u001b[32m   2815\u001b[39m         \u001b[38;5;28mself\u001b[39m.n_epochs_list \u001b[38;5;28;01mif\u001b[39;00m \u001b[38;5;28mself\u001b[39m.n_epochs_list \u001b[38;5;129;01mis\u001b[39;00m \u001b[38;5;129;01mnot\u001b[39;00m \u001b[38;5;28;01mNone\u001b[39;00m \u001b[38;5;28;01melse\u001b[39;00m \u001b[38;5;28mself\u001b[39m.n_epochs\n\u001b[32m   2816\u001b[39m     )\n\u001b[32m-> \u001b[39m\u001b[32m2817\u001b[39m     \u001b[38;5;28mself\u001b[39m.embedding_, aux_data = \u001b[38;5;28;43mself\u001b[39;49m\u001b[43m.\u001b[49m\u001b[43m_fit_embed_data\u001b[49m\u001b[43m(\u001b[49m\n\u001b[32m   2818\u001b[39m \u001b[43m        \u001b[49m\u001b[38;5;28;43mself\u001b[39;49m\u001b[43m.\u001b[49m\u001b[43m_raw_data\u001b[49m\u001b[43m[\u001b[49m\u001b[43mindex\u001b[49m\u001b[43m]\u001b[49m\u001b[43m,\u001b[49m\n\u001b[32m   2819\u001b[39m \u001b[43m        \u001b[49m\u001b[43mepochs\u001b[49m\u001b[43m,\u001b[49m\n\u001b[32m   2820\u001b[39m \u001b[43m        \u001b[49m\u001b[43minit\u001b[49m\u001b[43m,\u001b[49m\n\u001b[32m   2821\u001b[39m \u001b[43m        \u001b[49m\u001b[43mrandom_state\u001b[49m\u001b[43m,\u001b[49m\u001b[43m  \u001b[49m\u001b[38;5;66;43;03m# JH why raw data?\u001b[39;49;00m\n\u001b[32m   2822\u001b[39m \u001b[43m        \u001b[49m\u001b[43m*\u001b[49m\u001b[43m*\u001b[49m\u001b[43mkwargs\u001b[49m\u001b[43m,\u001b[49m\n\u001b[32m   2823\u001b[39m \u001b[43m    \u001b[49m\u001b[43m)\u001b[49m\n\u001b[32m   2825\u001b[39m     \u001b[38;5;28;01mif\u001b[39;00m \u001b[38;5;28mself\u001b[39m.n_epochs_list \u001b[38;5;129;01mis\u001b[39;00m \u001b[38;5;129;01mnot\u001b[39;00m \u001b[38;5;28;01mNone\u001b[39;00m:\n\u001b[32m   2826\u001b[39m         \u001b[38;5;28;01mif\u001b[39;00m \u001b[33m\"\u001b[39m\u001b[33membedding_list\u001b[39m\u001b[33m\"\u001b[39m \u001b[38;5;129;01mnot\u001b[39;00m \u001b[38;5;129;01min\u001b[39;00m aux_data:\n",
      "\u001b[36mFile \u001b[39m\u001b[32mc:\\Users\\Rise Networks\\AppData\\Local\\Programs\\Python\\Python313\\Lib\\site-packages\\umap\\umap_.py:2865\u001b[39m, in \u001b[36mUMAP._fit_embed_data\u001b[39m\u001b[34m(self, X, n_epochs, init, random_state, **kwargs)\u001b[39m\n\u001b[32m   2860\u001b[39m \u001b[38;5;28;01mdef\u001b[39;00m\u001b[38;5;250m \u001b[39m\u001b[34m_fit_embed_data\u001b[39m(\u001b[38;5;28mself\u001b[39m, X, n_epochs, init, random_state, **kwargs):\n\u001b[32m   2861\u001b[39m \u001b[38;5;250m    \u001b[39m\u001b[33;03m\"\"\"A method wrapper for simplicial_set_embedding that can be\u001b[39;00m\n\u001b[32m   2862\u001b[39m \u001b[33;03m    replaced by subclasses. Arbitrary keyword arguments can be passed\u001b[39;00m\n\u001b[32m   2863\u001b[39m \u001b[33;03m    through .fit() and .fit_transform().\u001b[39;00m\n\u001b[32m   2864\u001b[39m \u001b[33;03m    \"\"\"\u001b[39;00m\n\u001b[32m-> \u001b[39m\u001b[32m2865\u001b[39m     \u001b[38;5;28;01mreturn\u001b[39;00m \u001b[43msimplicial_set_embedding\u001b[49m\u001b[43m(\u001b[49m\n\u001b[32m   2866\u001b[39m \u001b[43m        \u001b[49m\u001b[43mX\u001b[49m\u001b[43m,\u001b[49m\n\u001b[32m   2867\u001b[39m \u001b[43m        \u001b[49m\u001b[38;5;28;43mself\u001b[39;49m\u001b[43m.\u001b[49m\u001b[43mgraph_\u001b[49m\u001b[43m,\u001b[49m\n\u001b[32m   2868\u001b[39m \u001b[43m        \u001b[49m\u001b[38;5;28;43mself\u001b[39;49m\u001b[43m.\u001b[49m\u001b[43mn_components\u001b[49m\u001b[43m,\u001b[49m\n\u001b[32m   2869\u001b[39m \u001b[43m        \u001b[49m\u001b[38;5;28;43mself\u001b[39;49m\u001b[43m.\u001b[49m\u001b[43m_initial_alpha\u001b[49m\u001b[43m,\u001b[49m\n\u001b[32m   2870\u001b[39m \u001b[43m        \u001b[49m\u001b[38;5;28;43mself\u001b[39;49m\u001b[43m.\u001b[49m\u001b[43m_a\u001b[49m\u001b[43m,\u001b[49m\n\u001b[32m   2871\u001b[39m \u001b[43m        \u001b[49m\u001b[38;5;28;43mself\u001b[39;49m\u001b[43m.\u001b[49m\u001b[43m_b\u001b[49m\u001b[43m,\u001b[49m\n\u001b[32m   2872\u001b[39m \u001b[43m        \u001b[49m\u001b[38;5;28;43mself\u001b[39;49m\u001b[43m.\u001b[49m\u001b[43mrepulsion_strength\u001b[49m\u001b[43m,\u001b[49m\n\u001b[32m   2873\u001b[39m \u001b[43m        \u001b[49m\u001b[38;5;28;43mself\u001b[39;49m\u001b[43m.\u001b[49m\u001b[43mnegative_sample_rate\u001b[49m\u001b[43m,\u001b[49m\n\u001b[32m   2874\u001b[39m \u001b[43m        \u001b[49m\u001b[43mn_epochs\u001b[49m\u001b[43m,\u001b[49m\n\u001b[32m   2875\u001b[39m \u001b[43m        \u001b[49m\u001b[43minit\u001b[49m\u001b[43m,\u001b[49m\n\u001b[32m   2876\u001b[39m \u001b[43m        \u001b[49m\u001b[43mrandom_state\u001b[49m\u001b[43m,\u001b[49m\n\u001b[32m   2877\u001b[39m \u001b[43m        \u001b[49m\u001b[38;5;28;43mself\u001b[39;49m\u001b[43m.\u001b[49m\u001b[43m_input_distance_func\u001b[49m\u001b[43m,\u001b[49m\n\u001b[32m   2878\u001b[39m \u001b[43m        \u001b[49m\u001b[38;5;28;43mself\u001b[39;49m\u001b[43m.\u001b[49m\u001b[43m_metric_kwds\u001b[49m\u001b[43m,\u001b[49m\n\u001b[32m   2879\u001b[39m \u001b[43m        \u001b[49m\u001b[38;5;28;43mself\u001b[39;49m\u001b[43m.\u001b[49m\u001b[43mdensmap\u001b[49m\u001b[43m,\u001b[49m\n\u001b[32m   2880\u001b[39m \u001b[43m        \u001b[49m\u001b[38;5;28;43mself\u001b[39;49m\u001b[43m.\u001b[49m\u001b[43m_densmap_kwds\u001b[49m\u001b[43m,\u001b[49m\n\u001b[32m   2881\u001b[39m \u001b[43m        \u001b[49m\u001b[38;5;28;43mself\u001b[39;49m\u001b[43m.\u001b[49m\u001b[43moutput_dens\u001b[49m\u001b[43m,\u001b[49m\n\u001b[32m   2882\u001b[39m \u001b[43m        \u001b[49m\u001b[38;5;28;43mself\u001b[39;49m\u001b[43m.\u001b[49m\u001b[43m_output_distance_func\u001b[49m\u001b[43m,\u001b[49m\n\u001b[32m   2883\u001b[39m \u001b[43m        \u001b[49m\u001b[38;5;28;43mself\u001b[39;49m\u001b[43m.\u001b[49m\u001b[43m_output_metric_kwds\u001b[49m\u001b[43m,\u001b[49m\n\u001b[32m   2884\u001b[39m \u001b[43m        \u001b[49m\u001b[38;5;28;43mself\u001b[39;49m\u001b[43m.\u001b[49m\u001b[43moutput_metric\u001b[49m\u001b[43m \u001b[49m\u001b[38;5;129;43;01min\u001b[39;49;00m\u001b[43m \u001b[49m\u001b[43m(\u001b[49m\u001b[33;43m\"\u001b[39;49m\u001b[33;43meuclidean\u001b[39;49m\u001b[33;43m\"\u001b[39;49m\u001b[43m,\u001b[49m\u001b[43m \u001b[49m\u001b[33;43m\"\u001b[39;49m\u001b[33;43ml2\u001b[39;49m\u001b[33;43m\"\u001b[39;49m\u001b[43m)\u001b[49m\u001b[43m,\u001b[49m\n\u001b[32m   2885\u001b[39m \u001b[43m        \u001b[49m\u001b[38;5;28;43mself\u001b[39;49m\u001b[43m.\u001b[49m\u001b[43mrandom_state\u001b[49m\u001b[43m \u001b[49m\u001b[38;5;129;43;01mis\u001b[39;49;00m\u001b[43m \u001b[49m\u001b[38;5;28;43;01mNone\u001b[39;49;00m\u001b[43m,\u001b[49m\n\u001b[32m   2886\u001b[39m \u001b[43m        \u001b[49m\u001b[38;5;28;43mself\u001b[39;49m\u001b[43m.\u001b[49m\u001b[43mverbose\u001b[49m\u001b[43m,\u001b[49m\n\u001b[32m   2887\u001b[39m \u001b[43m        \u001b[49m\u001b[43mtqdm_kwds\u001b[49m\u001b[43m=\u001b[49m\u001b[38;5;28;43mself\u001b[39;49m\u001b[43m.\u001b[49m\u001b[43mtqdm_kwds\u001b[49m\u001b[43m,\u001b[49m\n\u001b[32m   2888\u001b[39m \u001b[43m    \u001b[49m\u001b[43m)\u001b[49m\n",
      "\u001b[36mFile \u001b[39m\u001b[32mc:\\Users\\Rise Networks\\AppData\\Local\\Programs\\Python\\Python313\\Lib\\site-packages\\umap\\umap_.py:1109\u001b[39m, in \u001b[36msimplicial_set_embedding\u001b[39m\u001b[34m(data, graph, n_components, initial_alpha, a, b, gamma, negative_sample_rate, n_epochs, init, random_state, metric, metric_kwds, densmap, densmap_kwds, output_dens, output_metric, output_metric_kwds, euclidean_output, parallel, verbose, tqdm_kwds)\u001b[39m\n\u001b[32m   1105\u001b[39m     embedding = noisy_scale_coords(\n\u001b[32m   1106\u001b[39m         embedding, random_state, max_coord=\u001b[32m10\u001b[39m, noise=\u001b[32m0.0001\u001b[39m\n\u001b[32m   1107\u001b[39m     )\n\u001b[32m   1108\u001b[39m \u001b[38;5;28;01melif\u001b[39;00m \u001b[38;5;28misinstance\u001b[39m(init, \u001b[38;5;28mstr\u001b[39m) \u001b[38;5;129;01mand\u001b[39;00m init == \u001b[33m\"\u001b[39m\u001b[33mspectral\u001b[39m\u001b[33m\"\u001b[39m:\n\u001b[32m-> \u001b[39m\u001b[32m1109\u001b[39m     embedding = \u001b[43mspectral_layout\u001b[49m\u001b[43m(\u001b[49m\n\u001b[32m   1110\u001b[39m \u001b[43m        \u001b[49m\u001b[43mdata\u001b[49m\u001b[43m,\u001b[49m\n\u001b[32m   1111\u001b[39m \u001b[43m        \u001b[49m\u001b[43mgraph\u001b[49m\u001b[43m,\u001b[49m\n\u001b[32m   1112\u001b[39m \u001b[43m        \u001b[49m\u001b[43mn_components\u001b[49m\u001b[43m,\u001b[49m\n\u001b[32m   1113\u001b[39m \u001b[43m        \u001b[49m\u001b[43mrandom_state\u001b[49m\u001b[43m,\u001b[49m\n\u001b[32m   1114\u001b[39m \u001b[43m        \u001b[49m\u001b[43mmetric\u001b[49m\u001b[43m=\u001b[49m\u001b[43mmetric\u001b[49m\u001b[43m,\u001b[49m\n\u001b[32m   1115\u001b[39m \u001b[43m        \u001b[49m\u001b[43mmetric_kwds\u001b[49m\u001b[43m=\u001b[49m\u001b[43mmetric_kwds\u001b[49m\u001b[43m,\u001b[49m\n\u001b[32m   1116\u001b[39m \u001b[43m    \u001b[49m\u001b[43m)\u001b[49m\n\u001b[32m   1117\u001b[39m     \u001b[38;5;66;03m# We add a little noise to avoid local minima for optimization to come\u001b[39;00m\n\u001b[32m   1118\u001b[39m     embedding = noisy_scale_coords(\n\u001b[32m   1119\u001b[39m         embedding, random_state, max_coord=\u001b[32m10\u001b[39m, noise=\u001b[32m0.0001\u001b[39m\n\u001b[32m   1120\u001b[39m     )\n",
      "\u001b[36mFile \u001b[39m\u001b[32mc:\\Users\\Rise Networks\\AppData\\Local\\Programs\\Python\\Python313\\Lib\\site-packages\\umap\\spectral.py:304\u001b[39m, in \u001b[36mspectral_layout\u001b[39m\u001b[34m(data, graph, dim, random_state, metric, metric_kwds, tol, maxiter)\u001b[39m\n\u001b[32m    263\u001b[39m \u001b[38;5;28;01mdef\u001b[39;00m\u001b[38;5;250m \u001b[39m\u001b[34mspectral_layout\u001b[39m(\n\u001b[32m    264\u001b[39m     data,\n\u001b[32m    265\u001b[39m     graph,\n\u001b[32m   (...)\u001b[39m\u001b[32m    271\u001b[39m     maxiter=\u001b[32m0\u001b[39m,\n\u001b[32m    272\u001b[39m ):\n\u001b[32m    273\u001b[39m \u001b[38;5;250m    \u001b[39m\u001b[33;03m\"\"\"\u001b[39;00m\n\u001b[32m    274\u001b[39m \u001b[33;03m    Given a graph compute the spectral embedding of the graph. This is\u001b[39;00m\n\u001b[32m    275\u001b[39m \u001b[33;03m    simply the eigenvectors of the laplacian of the graph. Here we use the\u001b[39;00m\n\u001b[32m   (...)\u001b[39m\u001b[32m    302\u001b[39m \u001b[33;03m        The spectral embedding of the graph.\u001b[39;00m\n\u001b[32m    303\u001b[39m \u001b[33;03m    \"\"\"\u001b[39;00m\n\u001b[32m--> \u001b[39m\u001b[32m304\u001b[39m     \u001b[38;5;28;01mreturn\u001b[39;00m \u001b[43m_spectral_layout\u001b[49m\u001b[43m(\u001b[49m\n\u001b[32m    305\u001b[39m \u001b[43m        \u001b[49m\u001b[43mdata\u001b[49m\u001b[43m=\u001b[49m\u001b[43mdata\u001b[49m\u001b[43m,\u001b[49m\n\u001b[32m    306\u001b[39m \u001b[43m        \u001b[49m\u001b[43mgraph\u001b[49m\u001b[43m=\u001b[49m\u001b[43mgraph\u001b[49m\u001b[43m,\u001b[49m\n\u001b[32m    307\u001b[39m \u001b[43m        \u001b[49m\u001b[43mdim\u001b[49m\u001b[43m=\u001b[49m\u001b[43mdim\u001b[49m\u001b[43m,\u001b[49m\n\u001b[32m    308\u001b[39m \u001b[43m        \u001b[49m\u001b[43mrandom_state\u001b[49m\u001b[43m=\u001b[49m\u001b[43mrandom_state\u001b[49m\u001b[43m,\u001b[49m\n\u001b[32m    309\u001b[39m \u001b[43m        \u001b[49m\u001b[43mmetric\u001b[49m\u001b[43m=\u001b[49m\u001b[43mmetric\u001b[49m\u001b[43m,\u001b[49m\n\u001b[32m    310\u001b[39m \u001b[43m        \u001b[49m\u001b[43mmetric_kwds\u001b[49m\u001b[43m=\u001b[49m\u001b[43mmetric_kwds\u001b[49m\u001b[43m,\u001b[49m\n\u001b[32m    311\u001b[39m \u001b[43m        \u001b[49m\u001b[43minit\u001b[49m\u001b[43m=\u001b[49m\u001b[33;43m\"\u001b[39;49m\u001b[33;43mrandom\u001b[39;49m\u001b[33;43m\"\u001b[39;49m\u001b[43m,\u001b[49m\n\u001b[32m    312\u001b[39m \u001b[43m        \u001b[49m\u001b[43mtol\u001b[49m\u001b[43m=\u001b[49m\u001b[43mtol\u001b[49m\u001b[43m,\u001b[49m\n\u001b[32m    313\u001b[39m \u001b[43m        \u001b[49m\u001b[43mmaxiter\u001b[49m\u001b[43m=\u001b[49m\u001b[43mmaxiter\u001b[49m\u001b[43m,\u001b[49m\n\u001b[32m    314\u001b[39m \u001b[43m    \u001b[49m\u001b[43m)\u001b[49m\n",
      "\u001b[36mFile \u001b[39m\u001b[32mc:\\Users\\Rise Networks\\AppData\\Local\\Programs\\Python\\Python313\\Lib\\site-packages\\umap\\spectral.py:519\u001b[39m, in \u001b[36m_spectral_layout\u001b[39m\u001b[34m(data, graph, dim, random_state, metric, metric_kwds, init, method, tol, maxiter)\u001b[39m\n\u001b[32m    516\u001b[39m X[:, \u001b[32m0\u001b[39m] = sqrt_deg / np.linalg.norm(sqrt_deg)\n\u001b[32m    518\u001b[39m \u001b[38;5;28;01mif\u001b[39;00m method == \u001b[33m\"\u001b[39m\u001b[33meigsh\u001b[39m\u001b[33m\"\u001b[39m:\n\u001b[32m--> \u001b[39m\u001b[32m519\u001b[39m     eigenvalues, eigenvectors = \u001b[43mscipy\u001b[49m\u001b[43m.\u001b[49m\u001b[43msparse\u001b[49m\u001b[43m.\u001b[49m\u001b[43mlinalg\u001b[49m\u001b[43m.\u001b[49m\u001b[43meigsh\u001b[49m\u001b[43m(\u001b[49m\n\u001b[32m    520\u001b[39m \u001b[43m        \u001b[49m\u001b[43mL\u001b[49m\u001b[43m,\u001b[49m\n\u001b[32m    521\u001b[39m \u001b[43m        \u001b[49m\u001b[43mk\u001b[49m\u001b[43m,\u001b[49m\n\u001b[32m    522\u001b[39m \u001b[43m        \u001b[49m\u001b[43mwhich\u001b[49m\u001b[43m=\u001b[49m\u001b[33;43m\"\u001b[39;49m\u001b[33;43mSM\u001b[39;49m\u001b[33;43m\"\u001b[39;49m\u001b[43m,\u001b[49m\n\u001b[32m    523\u001b[39m \u001b[43m        \u001b[49m\u001b[43mncv\u001b[49m\u001b[43m=\u001b[49m\u001b[43mnum_lanczos_vectors\u001b[49m\u001b[43m,\u001b[49m\n\u001b[32m    524\u001b[39m \u001b[43m        \u001b[49m\u001b[43mtol\u001b[49m\u001b[43m=\u001b[49m\u001b[43mtol\u001b[49m\u001b[43m \u001b[49m\u001b[38;5;129;43;01mor\u001b[39;49;00m\u001b[43m \u001b[49m\u001b[32;43m1e-4\u001b[39;49m\u001b[43m,\u001b[49m\n\u001b[32m    525\u001b[39m \u001b[43m        \u001b[49m\u001b[43mv0\u001b[49m\u001b[43m=\u001b[49m\u001b[43mnp\u001b[49m\u001b[43m.\u001b[49m\u001b[43mones\u001b[49m\u001b[43m(\u001b[49m\u001b[43mL\u001b[49m\u001b[43m.\u001b[49m\u001b[43mshape\u001b[49m\u001b[43m[\u001b[49m\u001b[32;43m0\u001b[39;49m\u001b[43m]\u001b[49m\u001b[43m)\u001b[49m\u001b[43m,\u001b[49m\n\u001b[32m    526\u001b[39m \u001b[43m        \u001b[49m\u001b[43mmaxiter\u001b[49m\u001b[43m=\u001b[49m\u001b[43mmaxiter\u001b[49m\u001b[43m \u001b[49m\u001b[38;5;129;43;01mor\u001b[39;49;00m\u001b[43m \u001b[49m\u001b[43mgraph\u001b[49m\u001b[43m.\u001b[49m\u001b[43mshape\u001b[49m\u001b[43m[\u001b[49m\u001b[32;43m0\u001b[39;49m\u001b[43m]\u001b[49m\u001b[43m \u001b[49m\u001b[43m*\u001b[49m\u001b[43m \u001b[49m\u001b[32;43m5\u001b[39;49m\u001b[43m,\u001b[49m\n\u001b[32m    527\u001b[39m \u001b[43m    \u001b[49m\u001b[43m)\u001b[49m\n\u001b[32m    528\u001b[39m \u001b[38;5;28;01melif\u001b[39;00m method == \u001b[33m\"\u001b[39m\u001b[33mlobpcg\u001b[39m\u001b[33m\"\u001b[39m:\n\u001b[32m    529\u001b[39m     \u001b[38;5;28;01mwith\u001b[39;00m warnings.catch_warnings():\n",
      "\u001b[36mFile \u001b[39m\u001b[32mc:\\Users\\Rise Networks\\AppData\\Local\\Programs\\Python\\Python313\\Lib\\site-packages\\scipy\\sparse\\linalg\\_eigen\\arpack\\arpack.py:1604\u001b[39m, in \u001b[36meigsh\u001b[39m\u001b[34m(A, k, M, sigma, which, v0, ncv, maxiter, tol, return_eigenvectors, Minv, OPinv, mode)\u001b[39m\n\u001b[32m   1599\u001b[39m warnings.warn(\u001b[33m\"\u001b[39m\u001b[33mk >= N for N * N square matrix. \u001b[39m\u001b[33m\"\u001b[39m\n\u001b[32m   1600\u001b[39m               \u001b[33m\"\u001b[39m\u001b[33mAttempting to use scipy.linalg.eigh instead.\u001b[39m\u001b[33m\"\u001b[39m,\n\u001b[32m   1601\u001b[39m               \u001b[38;5;167;01mRuntimeWarning\u001b[39;00m, stacklevel=\u001b[32m2\u001b[39m)\n\u001b[32m   1603\u001b[39m \u001b[38;5;28;01mif\u001b[39;00m issparse(A):\n\u001b[32m-> \u001b[39m\u001b[32m1604\u001b[39m     \u001b[38;5;28;01mraise\u001b[39;00m \u001b[38;5;167;01mTypeError\u001b[39;00m(\u001b[33m\"\u001b[39m\u001b[33mCannot use scipy.linalg.eigh for sparse A with \u001b[39m\u001b[33m\"\u001b[39m\n\u001b[32m   1605\u001b[39m                     \u001b[33m\"\u001b[39m\u001b[33mk >= N. Use scipy.linalg.eigh(A.toarray()) or\u001b[39m\u001b[33m\"\u001b[39m\n\u001b[32m   1606\u001b[39m                     \u001b[33m\"\u001b[39m\u001b[33m reduce k.\u001b[39m\u001b[33m\"\u001b[39m)\n\u001b[32m   1607\u001b[39m \u001b[38;5;28;01mif\u001b[39;00m \u001b[38;5;28misinstance\u001b[39m(A, LinearOperator):\n\u001b[32m   1608\u001b[39m     \u001b[38;5;28;01mraise\u001b[39;00m \u001b[38;5;167;01mTypeError\u001b[39;00m(\u001b[33m\"\u001b[39m\u001b[33mCannot use scipy.linalg.eigh for LinearOperator \u001b[39m\u001b[33m\"\u001b[39m\n\u001b[32m   1609\u001b[39m                     \u001b[33m\"\u001b[39m\u001b[33mA with k >= N.\u001b[39m\u001b[33m\"\u001b[39m)\n",
      "\u001b[31mTypeError\u001b[39m: Cannot use scipy.linalg.eigh for sparse A with k >= N. Use scipy.linalg.eigh(A.toarray()) or reduce k."
     ]
    }
   ],
   "source": [
    "fig = model.visualize_topics()\n",
    "fig"
   ]
  },
  {
   "cell_type": "code",
   "execution_count": 4,
   "id": "2d98cfef",
   "metadata": {},
   "outputs": [],
   "source": [
    "# %pip install gensim"
   ]
  },
  {
   "cell_type": "markdown",
   "id": "319c899f",
   "metadata": {},
   "source": [
    "Applying Topic Modelling using LDA"
   ]
  },
  {
   "cell_type": "code",
   "execution_count": null,
   "id": "99669add",
   "metadata": {},
   "outputs": [],
   "source": [
    "# Preprocessing text data\n",
    "import re\n",
    "\n",
    "def clean_abstract(text):\n",
    "    text = re.sub('\\s+', ' ', text)  # Remove extra spaces\n",
    "    text = re.sub('\\'', '', text)  # Remove apostrophes\n",
    "    text = text.lower() # convert to lowercase\n",
    "\n",
    "    return text\n",
    "\n",
    "df[\"clean_abstract\"] = df[\"Abstract\"].apply(clean_abstract)"
   ]
  },
  {
   "cell_type": "code",
   "execution_count": null,
   "id": "1e135638",
   "metadata": {},
   "outputs": [],
   "source": [
    "# Tokenize and remove stop words\n",
    "import nltk\n",
    "import gensim\n",
    "from nltk.corpus import stopwords\n",
    "\n",
    "# Download stopwords\n",
    "nltk.download(\"stopwords\")\n",
    "stop_words = stopwords.words(\"english\")\n",
    "\n",
    "# Tokenize and remove stopwords\n",
    "def tokenize(text):\n",
    "    tokens_list = []\n",
    "    tokens = gensim.utils.simple_preprocess(text, deacc=True)\n",
    "    for token in tokens:\n",
    "        if token not in stop_words:\n",
    "            tokens_list.append(token)\n",
    "    \n",
    "    return tokens_list\n",
    "    \n",
    "df[\"tokens\"] = df[\"clean_abstract\"].apply(tokenize)"
   ]
  },
  {
   "cell_type": "markdown",
   "id": "a105233d",
   "metadata": {},
   "source": [
    "BERTopic Modelling"
   ]
  },
  {
   "cell_type": "code",
   "execution_count": 8,
   "id": "5a2ba3e8",
   "metadata": {},
   "outputs": [],
   "source": [
    "# %pip install bertopic"
   ]
  },
  {
   "cell_type": "code",
   "execution_count": 9,
   "metadata": {},
   "outputs": [],
   "source": [
    "# # Choose an embedding backend\n",
    "# %pip install bertopic[flair, gensim, spacy, use]\n",
    "\n",
    "# # Topic modeling with images\n",
    "# %pip install bertopic[vision]"
   ]
  },
  {
   "cell_type": "code",
   "execution_count": 10,
   "id": "54dfdf43",
   "metadata": {},
   "outputs": [],
   "source": [
    "from bertopic import BERTopic"
   ]
  },
  {
   "cell_type": "code",
   "execution_count": 1,
   "id": "773f1e3e",
   "metadata": {},
   "outputs": [],
   "source": [
    "import pandas as pd\n",
    "\n",
    "df = pd.read_csv(r\"C:\\Users\\Rise Networks\\Desktop\\Automated_Newsletter\\notebooks\\Automated_Newsletter_Research_Dataset.csv\")"
   ]
  },
  {
   "cell_type": "code",
   "execution_count": 13,
   "id": "50bca29e",
   "metadata": {},
   "outputs": [
    {
     "data": {
      "text/html": [
       "<div>\n",
       "<style scoped>\n",
       "    .dataframe tbody tr th:only-of-type {\n",
       "        vertical-align: middle;\n",
       "    }\n",
       "\n",
       "    .dataframe tbody tr th {\n",
       "        vertical-align: top;\n",
       "    }\n",
       "\n",
       "    .dataframe thead th {\n",
       "        text-align: right;\n",
       "    }\n",
       "</style>\n",
       "<table border=\"1\" class=\"dataframe\">\n",
       "  <thead>\n",
       "    <tr style=\"text-align: right;\">\n",
       "      <th></th>\n",
       "      <th>Unnamed: 0.1</th>\n",
       "      <th>Unnamed: 0</th>\n",
       "      <th>Title</th>\n",
       "      <th>Author</th>\n",
       "      <th>Publication_Year</th>\n",
       "      <th>Link</th>\n",
       "      <th>Abstract</th>\n",
       "      <th>Repository</th>\n",
       "      <th>Topic_Category</th>\n",
       "      <th>Year</th>\n",
       "      <th>Country(s)</th>\n",
       "    </tr>\n",
       "  </thead>\n",
       "  <tbody>\n",
       "    <tr>\n",
       "      <th>0</th>\n",
       "      <td>0</td>\n",
       "      <td>0</td>\n",
       "      <td>A Continent-Wide Assessment of Cyber Vulnerabi...</td>\n",
       "      <td>Abdijabar Yussuf Mohamed, Samuel Kang'ara Kamau</td>\n",
       "      <td>2023-01-08</td>\n",
       "      <td>http://arxiv.org/pdf/2301.03008v1</td>\n",
       "      <td>As the internet penetration rate in Africa inc...</td>\n",
       "      <td>arxiv</td>\n",
       "      <td>Cybersecurity</td>\n",
       "      <td>2023</td>\n",
       "      <td>South Africa, Tunisia, Morocco, Egypt, Nigeria</td>\n",
       "    </tr>\n",
       "    <tr>\n",
       "      <th>1</th>\n",
       "      <td>1</td>\n",
       "      <td>1</td>\n",
       "      <td>Physics Masterclasses in Africa and the World</td>\n",
       "      <td>Uta Bilow, Kenneth Cecire</td>\n",
       "      <td>2022-05-24</td>\n",
       "      <td>http://arxiv.org/pdf/2206.07004v1</td>\n",
       "      <td>International Masterclasses (IMC) enable high ...</td>\n",
       "      <td>arxiv</td>\n",
       "      <td>Physics Education</td>\n",
       "      <td>2022</td>\n",
       "      <td>Egypt, Algeria, Morocco, Sao Tomé and Principe...</td>\n",
       "    </tr>\n",
       "    <tr>\n",
       "      <th>2</th>\n",
       "      <td>2</td>\n",
       "      <td>2</td>\n",
       "      <td>Modelling spatio-temporal trends of air pollut...</td>\n",
       "      <td>Paterne Gahungu, Jean Remy Kubwimana, Lionel J...</td>\n",
       "      <td>2022-08-21</td>\n",
       "      <td>http://arxiv.org/pdf/2208.12719v1</td>\n",
       "      <td>Atmospheric pollution remains one of the major...</td>\n",
       "      <td>arxiv</td>\n",
       "      <td>Environmental Science</td>\n",
       "      <td>2022</td>\n",
       "      <td>Africa, Nigeria, Uganda, Rwanda, Chad</td>\n",
       "    </tr>\n",
       "    <tr>\n",
       "      <th>3</th>\n",
       "      <td>3</td>\n",
       "      <td>3</td>\n",
       "      <td>Radio astronomy in Africa: the case of Ghana</td>\n",
       "      <td>Bernard Duah Asabere, Michael Gaylard, Cathy H...</td>\n",
       "      <td>2015-03-30</td>\n",
       "      <td>http://arxiv.org/pdf/1503.08850v2</td>\n",
       "      <td>South Africa has played a leading role in radi...</td>\n",
       "      <td>arxiv</td>\n",
       "      <td>Astronomy</td>\n",
       "      <td>2015</td>\n",
       "      <td>South Africa, Ghana</td>\n",
       "    </tr>\n",
       "    <tr>\n",
       "      <th>4</th>\n",
       "      <td>4</td>\n",
       "      <td>4</td>\n",
       "      <td>Modelling the impact of vaccination on the COV...</td>\n",
       "      <td>Dephney Mathebula, Abigail Amankwah, Kossi Amo...</td>\n",
       "      <td>2022-09-19</td>\n",
       "      <td>http://arxiv.org/pdf/2209.08694v4</td>\n",
       "      <td>The rapid development of vaccines to combat th...</td>\n",
       "      <td>arxiv</td>\n",
       "      <td>Epidemiology</td>\n",
       "      <td>2022</td>\n",
       "      <td>Ghana, Kenya, Mozambique, Nigeria, South Afric...</td>\n",
       "    </tr>\n",
       "  </tbody>\n",
       "</table>\n",
       "</div>"
      ],
      "text/plain": [
       "   Unnamed: 0.1  Unnamed: 0  \\\n",
       "0             0           0   \n",
       "1             1           1   \n",
       "2             2           2   \n",
       "3             3           3   \n",
       "4             4           4   \n",
       "\n",
       "                                               Title  \\\n",
       "0  A Continent-Wide Assessment of Cyber Vulnerabi...   \n",
       "1      Physics Masterclasses in Africa and the World   \n",
       "2  Modelling spatio-temporal trends of air pollut...   \n",
       "3       Radio astronomy in Africa: the case of Ghana   \n",
       "4  Modelling the impact of vaccination on the COV...   \n",
       "\n",
       "                                              Author Publication_Year  \\\n",
       "0    Abdijabar Yussuf Mohamed, Samuel Kang'ara Kamau       2023-01-08   \n",
       "1                          Uta Bilow, Kenneth Cecire       2022-05-24   \n",
       "2  Paterne Gahungu, Jean Remy Kubwimana, Lionel J...       2022-08-21   \n",
       "3  Bernard Duah Asabere, Michael Gaylard, Cathy H...       2015-03-30   \n",
       "4  Dephney Mathebula, Abigail Amankwah, Kossi Amo...       2022-09-19   \n",
       "\n",
       "                                Link  \\\n",
       "0  http://arxiv.org/pdf/2301.03008v1   \n",
       "1  http://arxiv.org/pdf/2206.07004v1   \n",
       "2  http://arxiv.org/pdf/2208.12719v1   \n",
       "3  http://arxiv.org/pdf/1503.08850v2   \n",
       "4  http://arxiv.org/pdf/2209.08694v4   \n",
       "\n",
       "                                            Abstract Repository  \\\n",
       "0  As the internet penetration rate in Africa inc...      arxiv   \n",
       "1  International Masterclasses (IMC) enable high ...      arxiv   \n",
       "2  Atmospheric pollution remains one of the major...      arxiv   \n",
       "3  South Africa has played a leading role in radi...      arxiv   \n",
       "4  The rapid development of vaccines to combat th...      arxiv   \n",
       "\n",
       "          Topic_Category  Year  \\\n",
       "0          Cybersecurity  2023   \n",
       "1      Physics Education  2022   \n",
       "2  Environmental Science  2022   \n",
       "3              Astronomy  2015   \n",
       "4           Epidemiology  2022   \n",
       "\n",
       "                                          Country(s)  \n",
       "0     South Africa, Tunisia, Morocco, Egypt, Nigeria  \n",
       "1  Egypt, Algeria, Morocco, Sao Tomé and Principe...  \n",
       "2              Africa, Nigeria, Uganda, Rwanda, Chad  \n",
       "3                                South Africa, Ghana  \n",
       "4  Ghana, Kenya, Mozambique, Nigeria, South Afric...  "
      ]
     },
     "execution_count": 13,
     "metadata": {},
     "output_type": "execute_result"
    }
   ],
   "source": [
    "df.head()"
   ]
  },
  {
   "cell_type": "code",
   "execution_count": 14,
   "id": "2d8e4f02",
   "metadata": {},
   "outputs": [],
   "source": [
    "doc = df[\"Title\"]"
   ]
  },
  {
   "cell_type": "code",
   "execution_count": 15,
   "metadata": {},
   "outputs": [],
   "source": [
    "topic_model = BERTopic()\n",
    "topics, probs = topic_model.fit_transform(doc)"
   ]
  },
  {
   "cell_type": "code",
   "execution_count": 16,
   "metadata": {},
   "outputs": [
    {
     "data": {
      "text/html": [
       "<div>\n",
       "<style scoped>\n",
       "    .dataframe tbody tr th:only-of-type {\n",
       "        vertical-align: middle;\n",
       "    }\n",
       "\n",
       "    .dataframe tbody tr th {\n",
       "        vertical-align: top;\n",
       "    }\n",
       "\n",
       "    .dataframe thead th {\n",
       "        text-align: right;\n",
       "    }\n",
       "</style>\n",
       "<table border=\"1\" class=\"dataframe\">\n",
       "  <thead>\n",
       "    <tr style=\"text-align: right;\">\n",
       "      <th></th>\n",
       "      <th>Topic</th>\n",
       "      <th>Count</th>\n",
       "      <th>Name</th>\n",
       "      <th>Representation</th>\n",
       "      <th>Representative_Docs</th>\n",
       "    </tr>\n",
       "  </thead>\n",
       "  <tbody>\n",
       "    <tr>\n",
       "      <th>0</th>\n",
       "      <td>-1</td>\n",
       "      <td>12</td>\n",
       "      <td>-1_of_africa_the_war</td>\n",
       "      <td>[of, africa, the, war, northwest, during, cape...</td>\n",
       "      <td>[Impact of Culture on the Adoption of Diabetes...</td>\n",
       "    </tr>\n",
       "    <tr>\n",
       "      <th>1</th>\n",
       "      <td>0</td>\n",
       "      <td>155</td>\n",
       "      <td>0_in_and_of_africa</td>\n",
       "      <td>[in, and, of, africa, the, for, south, on, res...</td>\n",
       "      <td>[Social and Economic Impact Analysis of Solar ...</td>\n",
       "    </tr>\n",
       "    <tr>\n",
       "      <th>2</th>\n",
       "      <td>1</td>\n",
       "      <td>48</td>\n",
       "      <td>1_the_of_in_and</td>\n",
       "      <td>[the, of, in, and, giant, radio, on, monopole,...</td>\n",
       "      <td>[Isoscalar giant monopole strength in $^{58}$N...</td>\n",
       "    </tr>\n",
       "    <tr>\n",
       "      <th>3</th>\n",
       "      <td>2</td>\n",
       "      <td>42</td>\n",
       "      <td>2_covid19_the_in_of</td>\n",
       "      <td>[covid19, the, in, of, to, and, ebola, for, af...</td>\n",
       "      <td>[Use of Available Data To Inform The COVID-19 ...</td>\n",
       "    </tr>\n",
       "  </tbody>\n",
       "</table>\n",
       "</div>"
      ],
      "text/plain": [
       "   Topic  Count                  Name  \\\n",
       "0     -1     12  -1_of_africa_the_war   \n",
       "1      0    155    0_in_and_of_africa   \n",
       "2      1     48       1_the_of_in_and   \n",
       "3      2     42   2_covid19_the_in_of   \n",
       "\n",
       "                                      Representation  \\\n",
       "0  [of, africa, the, war, northwest, during, cape...   \n",
       "1  [in, and, of, africa, the, for, south, on, res...   \n",
       "2  [the, of, in, and, giant, radio, on, monopole,...   \n",
       "3  [covid19, the, in, of, to, and, ebola, for, af...   \n",
       "\n",
       "                                 Representative_Docs  \n",
       "0  [Impact of Culture on the Adoption of Diabetes...  \n",
       "1  [Social and Economic Impact Analysis of Solar ...  \n",
       "2  [Isoscalar giant monopole strength in $^{58}$N...  \n",
       "3  [Use of Available Data To Inform The COVID-19 ...  "
      ]
     },
     "execution_count": 16,
     "metadata": {},
     "output_type": "execute_result"
    }
   ],
   "source": [
    "topic_model.get_topic_info()"
   ]
  },
  {
   "cell_type": "code",
   "execution_count": 17,
   "metadata": {},
   "outputs": [
    {
     "data": {
      "text/plain": [
       "[('in', np.float64(0.09325385337451579)),\n",
       " ('and', np.float64(0.08095017293020317)),\n",
       " ('of', np.float64(0.07969995391929527)),\n",
       " ('africa', np.float64(0.07025255060964597)),\n",
       " ('the', np.float64(0.062482029043755646)),\n",
       " ('for', np.float64(0.05599922329572976)),\n",
       " ('south', np.float64(0.04888652422983273)),\n",
       " ('on', np.float64(0.04497503868214873)),\n",
       " ('research', np.float64(0.03366973491426365)),\n",
       " ('to', np.float64(0.03201755411955633))]"
      ]
     },
     "execution_count": 17,
     "metadata": {},
     "output_type": "execute_result"
    }
   ],
   "source": [
    "topic_model.get_topic(0)"
   ]
  },
  {
   "cell_type": "code",
   "execution_count": 18,
   "id": "c23fca28",
   "metadata": {},
   "outputs": [
    {
     "data": {
      "text/html": [
       "<div>\n",
       "<style scoped>\n",
       "    .dataframe tbody tr th:only-of-type {\n",
       "        vertical-align: middle;\n",
       "    }\n",
       "\n",
       "    .dataframe tbody tr th {\n",
       "        vertical-align: top;\n",
       "    }\n",
       "\n",
       "    .dataframe thead th {\n",
       "        text-align: right;\n",
       "    }\n",
       "</style>\n",
       "<table border=\"1\" class=\"dataframe\">\n",
       "  <thead>\n",
       "    <tr style=\"text-align: right;\">\n",
       "      <th></th>\n",
       "      <th>Document</th>\n",
       "      <th>Topic</th>\n",
       "      <th>Name</th>\n",
       "      <th>Representation</th>\n",
       "      <th>Representative_Docs</th>\n",
       "      <th>Top_n_words</th>\n",
       "      <th>Probability</th>\n",
       "      <th>Representative_document</th>\n",
       "    </tr>\n",
       "  </thead>\n",
       "  <tbody>\n",
       "    <tr>\n",
       "      <th>0</th>\n",
       "      <td>A Continent-Wide Assessment of Cyber Vulnerabi...</td>\n",
       "      <td>0</td>\n",
       "      <td>0_in_and_of_africa</td>\n",
       "      <td>[in, and, of, africa, the, for, south, on, res...</td>\n",
       "      <td>[Social and Economic Impact Analysis of Solar ...</td>\n",
       "      <td>in - and - of - africa - the - for - south - o...</td>\n",
       "      <td>1.000000</td>\n",
       "      <td>False</td>\n",
       "    </tr>\n",
       "    <tr>\n",
       "      <th>1</th>\n",
       "      <td>Physics Masterclasses in Africa and the World</td>\n",
       "      <td>0</td>\n",
       "      <td>0_in_and_of_africa</td>\n",
       "      <td>[in, and, of, africa, the, for, south, on, res...</td>\n",
       "      <td>[Social and Economic Impact Analysis of Solar ...</td>\n",
       "      <td>in - and - of - africa - the - for - south - o...</td>\n",
       "      <td>0.839351</td>\n",
       "      <td>False</td>\n",
       "    </tr>\n",
       "    <tr>\n",
       "      <th>2</th>\n",
       "      <td>Modelling spatio-temporal trends of air pollut...</td>\n",
       "      <td>-1</td>\n",
       "      <td>-1_of_africa_the_war</td>\n",
       "      <td>[of, africa, the, war, northwest, during, cape...</td>\n",
       "      <td>[Impact of Culture on the Adoption of Diabetes...</td>\n",
       "      <td>of - africa - the - war - northwest - during -...</td>\n",
       "      <td>0.000000</td>\n",
       "      <td>False</td>\n",
       "    </tr>\n",
       "    <tr>\n",
       "      <th>3</th>\n",
       "      <td>Radio astronomy in Africa: the case of Ghana</td>\n",
       "      <td>-1</td>\n",
       "      <td>-1_of_africa_the_war</td>\n",
       "      <td>[of, africa, the, war, northwest, during, cape...</td>\n",
       "      <td>[Impact of Culture on the Adoption of Diabetes...</td>\n",
       "      <td>of - africa - the - war - northwest - during -...</td>\n",
       "      <td>0.000000</td>\n",
       "      <td>False</td>\n",
       "    </tr>\n",
       "    <tr>\n",
       "      <th>4</th>\n",
       "      <td>Modelling the impact of vaccination on the COV...</td>\n",
       "      <td>2</td>\n",
       "      <td>2_covid19_the_in_of</td>\n",
       "      <td>[covid19, the, in, of, to, and, ebola, for, af...</td>\n",
       "      <td>[Use of Available Data To Inform The COVID-19 ...</td>\n",
       "      <td>covid19 - the - in - of - to - and - ebola - f...</td>\n",
       "      <td>1.000000</td>\n",
       "      <td>False</td>\n",
       "    </tr>\n",
       "    <tr>\n",
       "      <th>...</th>\n",
       "      <td>...</td>\n",
       "      <td>...</td>\n",
       "      <td>...</td>\n",
       "      <td>...</td>\n",
       "      <td>...</td>\n",
       "      <td>...</td>\n",
       "      <td>...</td>\n",
       "      <td>...</td>\n",
       "    </tr>\n",
       "    <tr>\n",
       "      <th>252</th>\n",
       "      <td>Information and communication technology as a ...</td>\n",
       "      <td>0</td>\n",
       "      <td>0_in_and_of_africa</td>\n",
       "      <td>[in, and, of, africa, the, for, south, on, res...</td>\n",
       "      <td>[Social and Economic Impact Analysis of Solar ...</td>\n",
       "      <td>in - and - of - africa - the - for - south - o...</td>\n",
       "      <td>0.985813</td>\n",
       "      <td>False</td>\n",
       "    </tr>\n",
       "    <tr>\n",
       "      <th>253</th>\n",
       "      <td>Systematic review on the conservation genetics...</td>\n",
       "      <td>0</td>\n",
       "      <td>0_in_and_of_africa</td>\n",
       "      <td>[in, and, of, africa, the, for, south, on, res...</td>\n",
       "      <td>[Social and Economic Impact Analysis of Solar ...</td>\n",
       "      <td>in - and - of - africa - the - for - south - o...</td>\n",
       "      <td>0.869449</td>\n",
       "      <td>False</td>\n",
       "    </tr>\n",
       "    <tr>\n",
       "      <th>254</th>\n",
       "      <td>Postcolonial Reverberations</td>\n",
       "      <td>0</td>\n",
       "      <td>0_in_and_of_africa</td>\n",
       "      <td>[in, and, of, africa, the, for, south, on, res...</td>\n",
       "      <td>[Social and Economic Impact Analysis of Solar ...</td>\n",
       "      <td>in - and - of - africa - the - for - south - o...</td>\n",
       "      <td>1.000000</td>\n",
       "      <td>False</td>\n",
       "    </tr>\n",
       "    <tr>\n",
       "      <th>255</th>\n",
       "      <td>Publishing patterns at the Cape Peninsula Univ...</td>\n",
       "      <td>0</td>\n",
       "      <td>0_in_and_of_africa</td>\n",
       "      <td>[in, and, of, africa, the, for, south, on, res...</td>\n",
       "      <td>[Social and Economic Impact Analysis of Solar ...</td>\n",
       "      <td>in - and - of - africa - the - for - south - o...</td>\n",
       "      <td>1.000000</td>\n",
       "      <td>False</td>\n",
       "    </tr>\n",
       "    <tr>\n",
       "      <th>256</th>\n",
       "      <td>Open scholarship practices reshaping South Afr...</td>\n",
       "      <td>0</td>\n",
       "      <td>0_in_and_of_africa</td>\n",
       "      <td>[in, and, of, africa, the, for, south, on, res...</td>\n",
       "      <td>[Social and Economic Impact Analysis of Solar ...</td>\n",
       "      <td>in - and - of - africa - the - for - south - o...</td>\n",
       "      <td>1.000000</td>\n",
       "      <td>False</td>\n",
       "    </tr>\n",
       "  </tbody>\n",
       "</table>\n",
       "<p>257 rows × 8 columns</p>\n",
       "</div>"
      ],
      "text/plain": [
       "                                              Document  Topic  \\\n",
       "0    A Continent-Wide Assessment of Cyber Vulnerabi...      0   \n",
       "1        Physics Masterclasses in Africa and the World      0   \n",
       "2    Modelling spatio-temporal trends of air pollut...     -1   \n",
       "3         Radio astronomy in Africa: the case of Ghana     -1   \n",
       "4    Modelling the impact of vaccination on the COV...      2   \n",
       "..                                                 ...    ...   \n",
       "252  Information and communication technology as a ...      0   \n",
       "253  Systematic review on the conservation genetics...      0   \n",
       "254                        Postcolonial Reverberations      0   \n",
       "255  Publishing patterns at the Cape Peninsula Univ...      0   \n",
       "256  Open scholarship practices reshaping South Afr...      0   \n",
       "\n",
       "                     Name                                     Representation  \\\n",
       "0      0_in_and_of_africa  [in, and, of, africa, the, for, south, on, res...   \n",
       "1      0_in_and_of_africa  [in, and, of, africa, the, for, south, on, res...   \n",
       "2    -1_of_africa_the_war  [of, africa, the, war, northwest, during, cape...   \n",
       "3    -1_of_africa_the_war  [of, africa, the, war, northwest, during, cape...   \n",
       "4     2_covid19_the_in_of  [covid19, the, in, of, to, and, ebola, for, af...   \n",
       "..                    ...                                                ...   \n",
       "252    0_in_and_of_africa  [in, and, of, africa, the, for, south, on, res...   \n",
       "253    0_in_and_of_africa  [in, and, of, africa, the, for, south, on, res...   \n",
       "254    0_in_and_of_africa  [in, and, of, africa, the, for, south, on, res...   \n",
       "255    0_in_and_of_africa  [in, and, of, africa, the, for, south, on, res...   \n",
       "256    0_in_and_of_africa  [in, and, of, africa, the, for, south, on, res...   \n",
       "\n",
       "                                   Representative_Docs  \\\n",
       "0    [Social and Economic Impact Analysis of Solar ...   \n",
       "1    [Social and Economic Impact Analysis of Solar ...   \n",
       "2    [Impact of Culture on the Adoption of Diabetes...   \n",
       "3    [Impact of Culture on the Adoption of Diabetes...   \n",
       "4    [Use of Available Data To Inform The COVID-19 ...   \n",
       "..                                                 ...   \n",
       "252  [Social and Economic Impact Analysis of Solar ...   \n",
       "253  [Social and Economic Impact Analysis of Solar ...   \n",
       "254  [Social and Economic Impact Analysis of Solar ...   \n",
       "255  [Social and Economic Impact Analysis of Solar ...   \n",
       "256  [Social and Economic Impact Analysis of Solar ...   \n",
       "\n",
       "                                           Top_n_words  Probability  \\\n",
       "0    in - and - of - africa - the - for - south - o...     1.000000   \n",
       "1    in - and - of - africa - the - for - south - o...     0.839351   \n",
       "2    of - africa - the - war - northwest - during -...     0.000000   \n",
       "3    of - africa - the - war - northwest - during -...     0.000000   \n",
       "4    covid19 - the - in - of - to - and - ebola - f...     1.000000   \n",
       "..                                                 ...          ...   \n",
       "252  in - and - of - africa - the - for - south - o...     0.985813   \n",
       "253  in - and - of - africa - the - for - south - o...     0.869449   \n",
       "254  in - and - of - africa - the - for - south - o...     1.000000   \n",
       "255  in - and - of - africa - the - for - south - o...     1.000000   \n",
       "256  in - and - of - africa - the - for - south - o...     1.000000   \n",
       "\n",
       "     Representative_document  \n",
       "0                      False  \n",
       "1                      False  \n",
       "2                      False  \n",
       "3                      False  \n",
       "4                      False  \n",
       "..                       ...  \n",
       "252                    False  \n",
       "253                    False  \n",
       "254                    False  \n",
       "255                    False  \n",
       "256                    False  \n",
       "\n",
       "[257 rows x 8 columns]"
      ]
     },
     "execution_count": 18,
     "metadata": {},
     "output_type": "execute_result"
    }
   ],
   "source": [
    "topic_model.get_document_info(doc)"
   ]
  },
  {
   "cell_type": "code",
   "execution_count": 32,
   "metadata": {},
   "outputs": [],
   "source": [
    "from bertopic.representation import KeyBERTInspired\n",
    "\n",
    "# Fine-tune your topic representations\n",
    "representation_model = KeyBERTInspired()\n",
    "topic_model = BERTopic(representation_model=representation_model)"
   ]
  },
  {
   "cell_type": "code",
   "execution_count": 33,
   "id": "700d6237",
   "metadata": {},
   "outputs": [
    {
     "data": {
      "text/html": [
       "<div>\n",
       "<style scoped>\n",
       "    .dataframe tbody tr th:only-of-type {\n",
       "        vertical-align: middle;\n",
       "    }\n",
       "\n",
       "    .dataframe tbody tr th {\n",
       "        vertical-align: top;\n",
       "    }\n",
       "\n",
       "    .dataframe thead th {\n",
       "        text-align: right;\n",
       "    }\n",
       "</style>\n",
       "<table border=\"1\" class=\"dataframe\">\n",
       "  <thead>\n",
       "    <tr style=\"text-align: right;\">\n",
       "      <th></th>\n",
       "      <th>Topic</th>\n",
       "      <th>Count</th>\n",
       "      <th>Name</th>\n",
       "      <th>Representation</th>\n",
       "      <th>Representative_Docs</th>\n",
       "    </tr>\n",
       "  </thead>\n",
       "  <tbody>\n",
       "    <tr>\n",
       "      <th>0</th>\n",
       "      <td>-1</td>\n",
       "      <td>15</td>\n",
       "      <td>-1_altitudes_aviation_continent_africa</td>\n",
       "      <td>[altitudes, aviation, continent, africa, trips...</td>\n",
       "      <td>[Analysis of Modal Split of Intra-urban Trips ...</td>\n",
       "    </tr>\n",
       "    <tr>\n",
       "      <th>1</th>\n",
       "      <td>0</td>\n",
       "      <td>154</td>\n",
       "      <td>0_africa_africas_kenya_nigeria</td>\n",
       "      <td>[africa, africas, kenya, nigeria, african, cap...</td>\n",
       "      <td>[Social and Economic Impact Analysis of Solar ...</td>\n",
       "    </tr>\n",
       "    <tr>\n",
       "      <th>2</th>\n",
       "      <td>1</td>\n",
       "      <td>47</td>\n",
       "      <td>1_monopole_resonance_dipole_isoscalar</td>\n",
       "      <td>[monopole, resonance, dipole, isoscalar, giant...</td>\n",
       "      <td>[Isoscalar giant monopole strength in $^{58}$N...</td>\n",
       "    </tr>\n",
       "    <tr>\n",
       "      <th>3</th>\n",
       "      <td>2</td>\n",
       "      <td>41</td>\n",
       "      <td>2_ebola_epidemic_pandemic_outbreak</td>\n",
       "      <td>[ebola, epidemic, pandemic, outbreak, covid19,...</td>\n",
       "      <td>[Use of Available Data To Inform The COVID-19 ...</td>\n",
       "    </tr>\n",
       "  </tbody>\n",
       "</table>\n",
       "</div>"
      ],
      "text/plain": [
       "   Topic  Count                                    Name  \\\n",
       "0     -1     15  -1_altitudes_aviation_continent_africa   \n",
       "1      0    154          0_africa_africas_kenya_nigeria   \n",
       "2      1     47   1_monopole_resonance_dipole_isoscalar   \n",
       "3      2     41      2_ebola_epidemic_pandemic_outbreak   \n",
       "\n",
       "                                      Representation  \\\n",
       "0  [altitudes, aviation, continent, africa, trips...   \n",
       "1  [africa, africas, kenya, nigeria, african, cap...   \n",
       "2  [monopole, resonance, dipole, isoscalar, giant...   \n",
       "3  [ebola, epidemic, pandemic, outbreak, covid19,...   \n",
       "\n",
       "                                 Representative_Docs  \n",
       "0  [Analysis of Modal Split of Intra-urban Trips ...  \n",
       "1  [Social and Economic Impact Analysis of Solar ...  \n",
       "2  [Isoscalar giant monopole strength in $^{58}$N...  \n",
       "3  [Use of Available Data To Inform The COVID-19 ...  "
      ]
     },
     "execution_count": 33,
     "metadata": {},
     "output_type": "execute_result"
    }
   ],
   "source": [
    "topics, probs = topic_model.fit_transform(doc)\n",
    "\n",
    "topic_model.get_topic_info()"
   ]
  },
  {
   "cell_type": "code",
   "execution_count": 34,
   "id": "7526cc46",
   "metadata": {},
   "outputs": [
    {
     "data": {
      "text/html": [
       "<div>\n",
       "<style scoped>\n",
       "    .dataframe tbody tr th:only-of-type {\n",
       "        vertical-align: middle;\n",
       "    }\n",
       "\n",
       "    .dataframe tbody tr th {\n",
       "        vertical-align: top;\n",
       "    }\n",
       "\n",
       "    .dataframe thead th {\n",
       "        text-align: right;\n",
       "    }\n",
       "</style>\n",
       "<table border=\"1\" class=\"dataframe\">\n",
       "  <thead>\n",
       "    <tr style=\"text-align: right;\">\n",
       "      <th></th>\n",
       "      <th>Document</th>\n",
       "      <th>Topic</th>\n",
       "      <th>Name</th>\n",
       "      <th>Representation</th>\n",
       "      <th>Representative_Docs</th>\n",
       "      <th>Top_n_words</th>\n",
       "      <th>Probability</th>\n",
       "      <th>Representative_document</th>\n",
       "    </tr>\n",
       "  </thead>\n",
       "  <tbody>\n",
       "    <tr>\n",
       "      <th>0</th>\n",
       "      <td>A Continent-Wide Assessment of Cyber Vulnerabi...</td>\n",
       "      <td>0</td>\n",
       "      <td>0_africa_africas_kenya_nigeria</td>\n",
       "      <td>[africa, africas, kenya, nigeria, african, cap...</td>\n",
       "      <td>[Social and Economic Impact Analysis of Solar ...</td>\n",
       "      <td>africa - africas - kenya - nigeria - african -...</td>\n",
       "      <td>0.958399</td>\n",
       "      <td>False</td>\n",
       "    </tr>\n",
       "    <tr>\n",
       "      <th>1</th>\n",
       "      <td>Physics Masterclasses in Africa and the World</td>\n",
       "      <td>0</td>\n",
       "      <td>0_africa_africas_kenya_nigeria</td>\n",
       "      <td>[africa, africas, kenya, nigeria, african, cap...</td>\n",
       "      <td>[Social and Economic Impact Analysis of Solar ...</td>\n",
       "      <td>africa - africas - kenya - nigeria - african -...</td>\n",
       "      <td>0.768679</td>\n",
       "      <td>False</td>\n",
       "    </tr>\n",
       "    <tr>\n",
       "      <th>2</th>\n",
       "      <td>Modelling spatio-temporal trends of air pollut...</td>\n",
       "      <td>-1</td>\n",
       "      <td>-1_altitudes_aviation_continent_africa</td>\n",
       "      <td>[altitudes, aviation, continent, africa, trips...</td>\n",
       "      <td>[Analysis of Modal Split of Intra-urban Trips ...</td>\n",
       "      <td>altitudes - aviation - continent - africa - tr...</td>\n",
       "      <td>0.000000</td>\n",
       "      <td>False</td>\n",
       "    </tr>\n",
       "    <tr>\n",
       "      <th>3</th>\n",
       "      <td>Radio astronomy in Africa: the case of Ghana</td>\n",
       "      <td>-1</td>\n",
       "      <td>-1_altitudes_aviation_continent_africa</td>\n",
       "      <td>[altitudes, aviation, continent, africa, trips...</td>\n",
       "      <td>[Analysis of Modal Split of Intra-urban Trips ...</td>\n",
       "      <td>altitudes - aviation - continent - africa - tr...</td>\n",
       "      <td>0.000000</td>\n",
       "      <td>False</td>\n",
       "    </tr>\n",
       "    <tr>\n",
       "      <th>4</th>\n",
       "      <td>Modelling the impact of vaccination on the COV...</td>\n",
       "      <td>2</td>\n",
       "      <td>2_ebola_epidemic_pandemic_outbreak</td>\n",
       "      <td>[ebola, epidemic, pandemic, outbreak, covid19,...</td>\n",
       "      <td>[Use of Available Data To Inform The COVID-19 ...</td>\n",
       "      <td>ebola - epidemic - pandemic - outbreak - covid...</td>\n",
       "      <td>1.000000</td>\n",
       "      <td>False</td>\n",
       "    </tr>\n",
       "    <tr>\n",
       "      <th>...</th>\n",
       "      <td>...</td>\n",
       "      <td>...</td>\n",
       "      <td>...</td>\n",
       "      <td>...</td>\n",
       "      <td>...</td>\n",
       "      <td>...</td>\n",
       "      <td>...</td>\n",
       "      <td>...</td>\n",
       "    </tr>\n",
       "    <tr>\n",
       "      <th>252</th>\n",
       "      <td>Information and communication technology as a ...</td>\n",
       "      <td>0</td>\n",
       "      <td>0_africa_africas_kenya_nigeria</td>\n",
       "      <td>[africa, africas, kenya, nigeria, african, cap...</td>\n",
       "      <td>[Social and Economic Impact Analysis of Solar ...</td>\n",
       "      <td>africa - africas - kenya - nigeria - african -...</td>\n",
       "      <td>0.948794</td>\n",
       "      <td>False</td>\n",
       "    </tr>\n",
       "    <tr>\n",
       "      <th>253</th>\n",
       "      <td>Systematic review on the conservation genetics...</td>\n",
       "      <td>0</td>\n",
       "      <td>0_africa_africas_kenya_nigeria</td>\n",
       "      <td>[africa, africas, kenya, nigeria, african, cap...</td>\n",
       "      <td>[Social and Economic Impact Analysis of Solar ...</td>\n",
       "      <td>africa - africas - kenya - nigeria - african -...</td>\n",
       "      <td>0.834549</td>\n",
       "      <td>False</td>\n",
       "    </tr>\n",
       "    <tr>\n",
       "      <th>254</th>\n",
       "      <td>Postcolonial Reverberations</td>\n",
       "      <td>0</td>\n",
       "      <td>0_africa_africas_kenya_nigeria</td>\n",
       "      <td>[africa, africas, kenya, nigeria, african, cap...</td>\n",
       "      <td>[Social and Economic Impact Analysis of Solar ...</td>\n",
       "      <td>africa - africas - kenya - nigeria - african -...</td>\n",
       "      <td>1.000000</td>\n",
       "      <td>False</td>\n",
       "    </tr>\n",
       "    <tr>\n",
       "      <th>255</th>\n",
       "      <td>Publishing patterns at the Cape Peninsula Univ...</td>\n",
       "      <td>0</td>\n",
       "      <td>0_africa_africas_kenya_nigeria</td>\n",
       "      <td>[africa, africas, kenya, nigeria, african, cap...</td>\n",
       "      <td>[Social and Economic Impact Analysis of Solar ...</td>\n",
       "      <td>africa - africas - kenya - nigeria - african -...</td>\n",
       "      <td>1.000000</td>\n",
       "      <td>False</td>\n",
       "    </tr>\n",
       "    <tr>\n",
       "      <th>256</th>\n",
       "      <td>Open scholarship practices reshaping South Afr...</td>\n",
       "      <td>0</td>\n",
       "      <td>0_africa_africas_kenya_nigeria</td>\n",
       "      <td>[africa, africas, kenya, nigeria, african, cap...</td>\n",
       "      <td>[Social and Economic Impact Analysis of Solar ...</td>\n",
       "      <td>africa - africas - kenya - nigeria - african -...</td>\n",
       "      <td>1.000000</td>\n",
       "      <td>False</td>\n",
       "    </tr>\n",
       "  </tbody>\n",
       "</table>\n",
       "<p>257 rows × 8 columns</p>\n",
       "</div>"
      ],
      "text/plain": [
       "                                              Document  Topic  \\\n",
       "0    A Continent-Wide Assessment of Cyber Vulnerabi...      0   \n",
       "1        Physics Masterclasses in Africa and the World      0   \n",
       "2    Modelling spatio-temporal trends of air pollut...     -1   \n",
       "3         Radio astronomy in Africa: the case of Ghana     -1   \n",
       "4    Modelling the impact of vaccination on the COV...      2   \n",
       "..                                                 ...    ...   \n",
       "252  Information and communication technology as a ...      0   \n",
       "253  Systematic review on the conservation genetics...      0   \n",
       "254                        Postcolonial Reverberations      0   \n",
       "255  Publishing patterns at the Cape Peninsula Univ...      0   \n",
       "256  Open scholarship practices reshaping South Afr...      0   \n",
       "\n",
       "                                       Name  \\\n",
       "0            0_africa_africas_kenya_nigeria   \n",
       "1            0_africa_africas_kenya_nigeria   \n",
       "2    -1_altitudes_aviation_continent_africa   \n",
       "3    -1_altitudes_aviation_continent_africa   \n",
       "4        2_ebola_epidemic_pandemic_outbreak   \n",
       "..                                      ...   \n",
       "252          0_africa_africas_kenya_nigeria   \n",
       "253          0_africa_africas_kenya_nigeria   \n",
       "254          0_africa_africas_kenya_nigeria   \n",
       "255          0_africa_africas_kenya_nigeria   \n",
       "256          0_africa_africas_kenya_nigeria   \n",
       "\n",
       "                                        Representation  \\\n",
       "0    [africa, africas, kenya, nigeria, african, cap...   \n",
       "1    [africa, africas, kenya, nigeria, african, cap...   \n",
       "2    [altitudes, aviation, continent, africa, trips...   \n",
       "3    [altitudes, aviation, continent, africa, trips...   \n",
       "4    [ebola, epidemic, pandemic, outbreak, covid19,...   \n",
       "..                                                 ...   \n",
       "252  [africa, africas, kenya, nigeria, african, cap...   \n",
       "253  [africa, africas, kenya, nigeria, african, cap...   \n",
       "254  [africa, africas, kenya, nigeria, african, cap...   \n",
       "255  [africa, africas, kenya, nigeria, african, cap...   \n",
       "256  [africa, africas, kenya, nigeria, african, cap...   \n",
       "\n",
       "                                   Representative_Docs  \\\n",
       "0    [Social and Economic Impact Analysis of Solar ...   \n",
       "1    [Social and Economic Impact Analysis of Solar ...   \n",
       "2    [Analysis of Modal Split of Intra-urban Trips ...   \n",
       "3    [Analysis of Modal Split of Intra-urban Trips ...   \n",
       "4    [Use of Available Data To Inform The COVID-19 ...   \n",
       "..                                                 ...   \n",
       "252  [Social and Economic Impact Analysis of Solar ...   \n",
       "253  [Social and Economic Impact Analysis of Solar ...   \n",
       "254  [Social and Economic Impact Analysis of Solar ...   \n",
       "255  [Social and Economic Impact Analysis of Solar ...   \n",
       "256  [Social and Economic Impact Analysis of Solar ...   \n",
       "\n",
       "                                           Top_n_words  Probability  \\\n",
       "0    africa - africas - kenya - nigeria - african -...     0.958399   \n",
       "1    africa - africas - kenya - nigeria - african -...     0.768679   \n",
       "2    altitudes - aviation - continent - africa - tr...     0.000000   \n",
       "3    altitudes - aviation - continent - africa - tr...     0.000000   \n",
       "4    ebola - epidemic - pandemic - outbreak - covid...     1.000000   \n",
       "..                                                 ...          ...   \n",
       "252  africa - africas - kenya - nigeria - african -...     0.948794   \n",
       "253  africa - africas - kenya - nigeria - african -...     0.834549   \n",
       "254  africa - africas - kenya - nigeria - african -...     1.000000   \n",
       "255  africa - africas - kenya - nigeria - african -...     1.000000   \n",
       "256  africa - africas - kenya - nigeria - african -...     1.000000   \n",
       "\n",
       "     Representative_document  \n",
       "0                      False  \n",
       "1                      False  \n",
       "2                      False  \n",
       "3                      False  \n",
       "4                      False  \n",
       "..                       ...  \n",
       "252                    False  \n",
       "253                    False  \n",
       "254                    False  \n",
       "255                    False  \n",
       "256                    False  \n",
       "\n",
       "[257 rows x 8 columns]"
      ]
     },
     "execution_count": 34,
     "metadata": {},
     "output_type": "execute_result"
    }
   ],
   "source": [
    "topic_model.get_document_info(doc)"
   ]
  },
  {
   "cell_type": "code",
   "execution_count": 41,
   "id": "aed89946",
   "metadata": {},
   "outputs": [
    {
     "data": {
      "text/plain": [
       "[('africa', np.float32(0.5633618)),\n",
       " ('africas', np.float32(0.5021794)),\n",
       " ('kenya', np.float32(0.4992967)),\n",
       " ('nigeria', np.float32(0.43761742)),\n",
       " ('african', np.float32(0.41881678)),\n",
       " ('cape', np.float32(0.3605876)),\n",
       " ('economic', np.float32(0.3201517)),\n",
       " ('countries', np.float32(0.3185532)),\n",
       " ('sustainability', np.float32(0.3040918)),\n",
       " ('development', np.float32(0.29187232))]"
      ]
     },
     "execution_count": 41,
     "metadata": {},
     "output_type": "execute_result"
    }
   ],
   "source": [
    "topic_model.get_topic(topic=0)"
   ]
  },
  {
   "cell_type": "code",
   "execution_count": 42,
   "id": "f5720f4d",
   "metadata": {},
   "outputs": [
    {
     "data": {
      "text/plain": [
       "['-1_altitudes_aviation_continent',\n",
       " '0_africa_africas_kenya',\n",
       " '1_monopole_resonance_dipole',\n",
       " '2_ebola_epidemic_pandemic']"
      ]
     },
     "execution_count": 42,
     "metadata": {},
     "output_type": "execute_result"
    }
   ],
   "source": [
    "topic_model.generate_topic_labels()"
   ]
  },
  {
   "cell_type": "code",
   "execution_count": 67,
   "metadata": {},
   "outputs": [],
   "source": [
    "import openai\n",
    "from bertopic.representation import OpenAI\n",
    "from dotenv import load_dotenv\n",
    "import os\n",
    "\n",
    "load_dotenv()\n",
    "\n",
    "api_key = os.getenv(\"OPENAI_API_KEY\")\n",
    "\n",
    "# Fine-tune topic representations with GPT\n",
    "client = openai.OpenAI(api_key=api_key)\n",
    "representation_model = OpenAI(client, model=\"gpt-4o-mini\", chat=True)\n",
    "topic_model = BERTopic(representation_model=representation_model, min_topic_size=15)"
   ]
  },
  {
   "cell_type": "code",
   "execution_count": 68,
   "id": "6a98a38d",
   "metadata": {},
   "outputs": [
    {
     "data": {
      "text/html": [
       "<div>\n",
       "<style scoped>\n",
       "    .dataframe tbody tr th:only-of-type {\n",
       "        vertical-align: middle;\n",
       "    }\n",
       "\n",
       "    .dataframe tbody tr th {\n",
       "        vertical-align: top;\n",
       "    }\n",
       "\n",
       "    .dataframe thead th {\n",
       "        text-align: right;\n",
       "    }\n",
       "</style>\n",
       "<table border=\"1\" class=\"dataframe\">\n",
       "  <thead>\n",
       "    <tr style=\"text-align: right;\">\n",
       "      <th></th>\n",
       "      <th>Topic</th>\n",
       "      <th>Count</th>\n",
       "      <th>Name</th>\n",
       "      <th>Representation</th>\n",
       "      <th>Representative_Docs</th>\n",
       "    </tr>\n",
       "  </thead>\n",
       "  <tbody>\n",
       "    <tr>\n",
       "      <th>0</th>\n",
       "      <td>-1</td>\n",
       "      <td>22</td>\n",
       "      <td>-1_Research in Africa</td>\n",
       "      <td>[Research in Africa]</td>\n",
       "      <td>[Hierarchical Deep Learning Ensemble to Automa...</td>\n",
       "    </tr>\n",
       "    <tr>\n",
       "      <th>1</th>\n",
       "      <td>0</td>\n",
       "      <td>147</td>\n",
       "      <td>0_Research and Education in Africa</td>\n",
       "      <td>[Research and Education in Africa]</td>\n",
       "      <td>[Social and Economic Impact Analysis of Solar ...</td>\n",
       "    </tr>\n",
       "    <tr>\n",
       "      <th>2</th>\n",
       "      <td>1</td>\n",
       "      <td>47</td>\n",
       "      <td>1_Giant resonance studies</td>\n",
       "      <td>[Giant resonance studies]</td>\n",
       "      <td>[Isoscalar giant monopole strength in $^{58}$N...</td>\n",
       "    </tr>\n",
       "    <tr>\n",
       "      <th>3</th>\n",
       "      <td>2</td>\n",
       "      <td>41</td>\n",
       "      <td>2_Infectious disease modeling</td>\n",
       "      <td>[Infectious disease modeling]</td>\n",
       "      <td>[Use of Available Data To Inform The COVID-19 ...</td>\n",
       "    </tr>\n",
       "  </tbody>\n",
       "</table>\n",
       "</div>"
      ],
      "text/plain": [
       "   Topic  Count                                Name  \\\n",
       "0     -1     22               -1_Research in Africa   \n",
       "1      0    147  0_Research and Education in Africa   \n",
       "2      1     47           1_Giant resonance studies   \n",
       "3      2     41       2_Infectious disease modeling   \n",
       "\n",
       "                       Representation  \\\n",
       "0                [Research in Africa]   \n",
       "1  [Research and Education in Africa]   \n",
       "2           [Giant resonance studies]   \n",
       "3       [Infectious disease modeling]   \n",
       "\n",
       "                                 Representative_Docs  \n",
       "0  [Hierarchical Deep Learning Ensemble to Automa...  \n",
       "1  [Social and Economic Impact Analysis of Solar ...  \n",
       "2  [Isoscalar giant monopole strength in $^{58}$N...  \n",
       "3  [Use of Available Data To Inform The COVID-19 ...  "
      ]
     },
     "execution_count": 68,
     "metadata": {},
     "output_type": "execute_result"
    }
   ],
   "source": [
    "topics, probs = topic_model.fit_transform(doc)\n",
    "\n",
    "topic_model.get_topic_info()"
   ]
  },
  {
   "cell_type": "code",
   "execution_count": 69,
   "id": "7b312331",
   "metadata": {},
   "outputs": [
    {
     "data": {
      "text/html": [
       "<div>\n",
       "<style scoped>\n",
       "    .dataframe tbody tr th:only-of-type {\n",
       "        vertical-align: middle;\n",
       "    }\n",
       "\n",
       "    .dataframe tbody tr th {\n",
       "        vertical-align: top;\n",
       "    }\n",
       "\n",
       "    .dataframe thead th {\n",
       "        text-align: right;\n",
       "    }\n",
       "</style>\n",
       "<table border=\"1\" class=\"dataframe\">\n",
       "  <thead>\n",
       "    <tr style=\"text-align: right;\">\n",
       "      <th></th>\n",
       "      <th>Document</th>\n",
       "      <th>Topic</th>\n",
       "      <th>Name</th>\n",
       "      <th>Representation</th>\n",
       "      <th>Representative_Docs</th>\n",
       "      <th>Top_n_words</th>\n",
       "      <th>Probability</th>\n",
       "      <th>Representative_document</th>\n",
       "    </tr>\n",
       "  </thead>\n",
       "  <tbody>\n",
       "    <tr>\n",
       "      <th>0</th>\n",
       "      <td>A Continent-Wide Assessment of Cyber Vulnerabi...</td>\n",
       "      <td>0</td>\n",
       "      <td>0_Research and Education in Africa</td>\n",
       "      <td>[Research and Education in Africa]</td>\n",
       "      <td>[Social and Economic Impact Analysis of Solar ...</td>\n",
       "      <td>Research and Education in Africa</td>\n",
       "      <td>0.788657</td>\n",
       "      <td>False</td>\n",
       "    </tr>\n",
       "    <tr>\n",
       "      <th>1</th>\n",
       "      <td>Physics Masterclasses in Africa and the World</td>\n",
       "      <td>0</td>\n",
       "      <td>0_Research and Education in Africa</td>\n",
       "      <td>[Research and Education in Africa]</td>\n",
       "      <td>[Social and Economic Impact Analysis of Solar ...</td>\n",
       "      <td>Research and Education in Africa</td>\n",
       "      <td>0.800520</td>\n",
       "      <td>False</td>\n",
       "    </tr>\n",
       "    <tr>\n",
       "      <th>2</th>\n",
       "      <td>Modelling spatio-temporal trends of air pollut...</td>\n",
       "      <td>-1</td>\n",
       "      <td>-1_Research in Africa</td>\n",
       "      <td>[Research in Africa]</td>\n",
       "      <td>[Hierarchical Deep Learning Ensemble to Automa...</td>\n",
       "      <td>Research in Africa</td>\n",
       "      <td>0.000000</td>\n",
       "      <td>False</td>\n",
       "    </tr>\n",
       "    <tr>\n",
       "      <th>3</th>\n",
       "      <td>Radio astronomy in Africa: the case of Ghana</td>\n",
       "      <td>-1</td>\n",
       "      <td>-1_Research in Africa</td>\n",
       "      <td>[Research in Africa]</td>\n",
       "      <td>[Hierarchical Deep Learning Ensemble to Automa...</td>\n",
       "      <td>Research in Africa</td>\n",
       "      <td>0.000000</td>\n",
       "      <td>False</td>\n",
       "    </tr>\n",
       "    <tr>\n",
       "      <th>4</th>\n",
       "      <td>Modelling the impact of vaccination on the COV...</td>\n",
       "      <td>2</td>\n",
       "      <td>2_Infectious disease modeling</td>\n",
       "      <td>[Infectious disease modeling]</td>\n",
       "      <td>[Use of Available Data To Inform The COVID-19 ...</td>\n",
       "      <td>Infectious disease modeling</td>\n",
       "      <td>1.000000</td>\n",
       "      <td>False</td>\n",
       "    </tr>\n",
       "    <tr>\n",
       "      <th>...</th>\n",
       "      <td>...</td>\n",
       "      <td>...</td>\n",
       "      <td>...</td>\n",
       "      <td>...</td>\n",
       "      <td>...</td>\n",
       "      <td>...</td>\n",
       "      <td>...</td>\n",
       "      <td>...</td>\n",
       "    </tr>\n",
       "    <tr>\n",
       "      <th>252</th>\n",
       "      <td>Information and communication technology as a ...</td>\n",
       "      <td>0</td>\n",
       "      <td>0_Research and Education in Africa</td>\n",
       "      <td>[Research and Education in Africa]</td>\n",
       "      <td>[Social and Economic Impact Analysis of Solar ...</td>\n",
       "      <td>Research and Education in Africa</td>\n",
       "      <td>0.844964</td>\n",
       "      <td>False</td>\n",
       "    </tr>\n",
       "    <tr>\n",
       "      <th>253</th>\n",
       "      <td>Systematic review on the conservation genetics...</td>\n",
       "      <td>0</td>\n",
       "      <td>0_Research and Education in Africa</td>\n",
       "      <td>[Research and Education in Africa]</td>\n",
       "      <td>[Social and Economic Impact Analysis of Solar ...</td>\n",
       "      <td>Research and Education in Africa</td>\n",
       "      <td>0.741751</td>\n",
       "      <td>False</td>\n",
       "    </tr>\n",
       "    <tr>\n",
       "      <th>254</th>\n",
       "      <td>Postcolonial Reverberations</td>\n",
       "      <td>0</td>\n",
       "      <td>0_Research and Education in Africa</td>\n",
       "      <td>[Research and Education in Africa]</td>\n",
       "      <td>[Social and Economic Impact Analysis of Solar ...</td>\n",
       "      <td>Research and Education in Africa</td>\n",
       "      <td>0.803462</td>\n",
       "      <td>False</td>\n",
       "    </tr>\n",
       "    <tr>\n",
       "      <th>255</th>\n",
       "      <td>Publishing patterns at the Cape Peninsula Univ...</td>\n",
       "      <td>0</td>\n",
       "      <td>0_Research and Education in Africa</td>\n",
       "      <td>[Research and Education in Africa]</td>\n",
       "      <td>[Social and Economic Impact Analysis of Solar ...</td>\n",
       "      <td>Research and Education in Africa</td>\n",
       "      <td>0.999986</td>\n",
       "      <td>False</td>\n",
       "    </tr>\n",
       "    <tr>\n",
       "      <th>256</th>\n",
       "      <td>Open scholarship practices reshaping South Afr...</td>\n",
       "      <td>0</td>\n",
       "      <td>0_Research and Education in Africa</td>\n",
       "      <td>[Research and Education in Africa]</td>\n",
       "      <td>[Social and Economic Impact Analysis of Solar ...</td>\n",
       "      <td>Research and Education in Africa</td>\n",
       "      <td>0.975226</td>\n",
       "      <td>False</td>\n",
       "    </tr>\n",
       "  </tbody>\n",
       "</table>\n",
       "<p>257 rows × 8 columns</p>\n",
       "</div>"
      ],
      "text/plain": [
       "                                              Document  Topic  \\\n",
       "0    A Continent-Wide Assessment of Cyber Vulnerabi...      0   \n",
       "1        Physics Masterclasses in Africa and the World      0   \n",
       "2    Modelling spatio-temporal trends of air pollut...     -1   \n",
       "3         Radio astronomy in Africa: the case of Ghana     -1   \n",
       "4    Modelling the impact of vaccination on the COV...      2   \n",
       "..                                                 ...    ...   \n",
       "252  Information and communication technology as a ...      0   \n",
       "253  Systematic review on the conservation genetics...      0   \n",
       "254                        Postcolonial Reverberations      0   \n",
       "255  Publishing patterns at the Cape Peninsula Univ...      0   \n",
       "256  Open scholarship practices reshaping South Afr...      0   \n",
       "\n",
       "                                   Name                      Representation  \\\n",
       "0    0_Research and Education in Africa  [Research and Education in Africa]   \n",
       "1    0_Research and Education in Africa  [Research and Education in Africa]   \n",
       "2                 -1_Research in Africa                [Research in Africa]   \n",
       "3                 -1_Research in Africa                [Research in Africa]   \n",
       "4         2_Infectious disease modeling       [Infectious disease modeling]   \n",
       "..                                  ...                                 ...   \n",
       "252  0_Research and Education in Africa  [Research and Education in Africa]   \n",
       "253  0_Research and Education in Africa  [Research and Education in Africa]   \n",
       "254  0_Research and Education in Africa  [Research and Education in Africa]   \n",
       "255  0_Research and Education in Africa  [Research and Education in Africa]   \n",
       "256  0_Research and Education in Africa  [Research and Education in Africa]   \n",
       "\n",
       "                                   Representative_Docs  \\\n",
       "0    [Social and Economic Impact Analysis of Solar ...   \n",
       "1    [Social and Economic Impact Analysis of Solar ...   \n",
       "2    [Hierarchical Deep Learning Ensemble to Automa...   \n",
       "3    [Hierarchical Deep Learning Ensemble to Automa...   \n",
       "4    [Use of Available Data To Inform The COVID-19 ...   \n",
       "..                                                 ...   \n",
       "252  [Social and Economic Impact Analysis of Solar ...   \n",
       "253  [Social and Economic Impact Analysis of Solar ...   \n",
       "254  [Social and Economic Impact Analysis of Solar ...   \n",
       "255  [Social and Economic Impact Analysis of Solar ...   \n",
       "256  [Social and Economic Impact Analysis of Solar ...   \n",
       "\n",
       "                          Top_n_words  Probability  Representative_document  \n",
       "0    Research and Education in Africa     0.788657                    False  \n",
       "1    Research and Education in Africa     0.800520                    False  \n",
       "2                  Research in Africa     0.000000                    False  \n",
       "3                  Research in Africa     0.000000                    False  \n",
       "4         Infectious disease modeling     1.000000                    False  \n",
       "..                                ...          ...                      ...  \n",
       "252  Research and Education in Africa     0.844964                    False  \n",
       "253  Research and Education in Africa     0.741751                    False  \n",
       "254  Research and Education in Africa     0.803462                    False  \n",
       "255  Research and Education in Africa     0.999986                    False  \n",
       "256  Research and Education in Africa     0.975226                    False  \n",
       "\n",
       "[257 rows x 8 columns]"
      ]
     },
     "execution_count": 69,
     "metadata": {},
     "output_type": "execute_result"
    }
   ],
   "source": [
    "topic_model.get_document_info(doc)"
   ]
  },
  {
   "cell_type": "code",
   "execution_count": 70,
   "id": "9903781a",
   "metadata": {},
   "outputs": [
    {
     "data": {
      "text/plain": [
       "[('Infectious disease modeling', 1)]"
      ]
     },
     "execution_count": 70,
     "metadata": {},
     "output_type": "execute_result"
    }
   ],
   "source": [
    "topic_model.get_topic(topic=2)"
   ]
  },
  {
   "cell_type": "code",
   "execution_count": 71,
   "id": "f8e11c32",
   "metadata": {},
   "outputs": [
    {
     "data": {
      "text/plain": [
       "['-1_Research in Africa',\n",
       " '0_Research and Education in Africa',\n",
       " '1_Giant resonance studies',\n",
       " '2_Infectious disease modeling']"
      ]
     },
     "execution_count": 71,
     "metadata": {},
     "output_type": "execute_result"
    }
   ],
   "source": [
    "topic_model.generate_topic_labels()"
   ]
  },
  {
   "cell_type": "code",
   "execution_count": 57,
   "id": "c330e1c6",
   "metadata": {},
   "outputs": [
    {
     "data": {
      "application/vnd.plotly.v1+json": {
       "config": {
        "plotlyServerURL": "https://plot.ly"
       },
       "data": [
        {
         "customdata": [
          [
           2,
           "Infectious disease modeling",
           41
          ]
         ],
         "hovertemplate": "<b>Topic %{customdata[0]}</b><br>%{customdata[1]}<br>Size: %{customdata[2]}",
         "legendgroup": "",
         "marker": {
          "color": "#B0BEC5",
          "line": {
           "color": "DarkSlateGrey",
           "width": 2
          },
          "size": {
           "bdata": "KQ==",
           "dtype": "i1"
          },
          "sizemode": "area",
          "sizeref": 0.025625,
          "symbol": "circle"
         },
         "mode": "markers",
         "name": "",
         "orientation": "v",
         "showlegend": false,
         "type": "scatter",
         "x": {
          "bdata": "AAAAAAAAAAA=",
          "dtype": "f8"
         },
         "xaxis": "x",
         "y": {
          "bdata": "AAAAAAAAAAA=",
          "dtype": "f8"
         },
         "yaxis": "y"
        }
       ],
       "layout": {
        "annotations": [
         {
          "showarrow": false,
          "text": "D1",
          "x": 0,
          "y": 0,
          "yshift": 10
         },
         {
          "showarrow": false,
          "text": "D2",
          "x": 0,
          "xshift": 10,
          "y": 0
         }
        ],
        "height": 650,
        "hoverlabel": {
         "bgcolor": "white",
         "font": {
          "family": "Rockwell",
          "size": 16
         }
        },
        "legend": {
         "itemsizing": "constant",
         "tracegroupgap": 0
        },
        "margin": {
         "t": 60
        },
        "shapes": [
         {
          "line": {
           "color": "#CFD8DC",
           "width": 2
          },
          "type": "line",
          "x0": 0,
          "x1": 0,
          "y0": 0,
          "y1": 0
         },
         {
          "line": {
           "color": "#9E9E9E",
           "width": 2
          },
          "type": "line",
          "x0": 0,
          "x1": 0,
          "y0": 0,
          "y1": 0
         }
        ],
        "sliders": [
         {
          "active": 0,
          "pad": {
           "t": 50
          },
          "steps": [
           {
            "args": [
             {
              "marker.color": [
               [
                "red"
               ]
              ]
             }
            ],
            "label": "Topic 2",
            "method": "update"
           }
          ]
         }
        ],
        "template": {
         "data": {
          "bar": [
           {
            "error_x": {
             "color": "rgb(36,36,36)"
            },
            "error_y": {
             "color": "rgb(36,36,36)"
            },
            "marker": {
             "line": {
              "color": "white",
              "width": 0.5
             },
             "pattern": {
              "fillmode": "overlay",
              "size": 10,
              "solidity": 0.2
             }
            },
            "type": "bar"
           }
          ],
          "barpolar": [
           {
            "marker": {
             "line": {
              "color": "white",
              "width": 0.5
             },
             "pattern": {
              "fillmode": "overlay",
              "size": 10,
              "solidity": 0.2
             }
            },
            "type": "barpolar"
           }
          ],
          "carpet": [
           {
            "aaxis": {
             "endlinecolor": "rgb(36,36,36)",
             "gridcolor": "white",
             "linecolor": "white",
             "minorgridcolor": "white",
             "startlinecolor": "rgb(36,36,36)"
            },
            "baxis": {
             "endlinecolor": "rgb(36,36,36)",
             "gridcolor": "white",
             "linecolor": "white",
             "minorgridcolor": "white",
             "startlinecolor": "rgb(36,36,36)"
            },
            "type": "carpet"
           }
          ],
          "choropleth": [
           {
            "colorbar": {
             "outlinewidth": 1,
             "tickcolor": "rgb(36,36,36)",
             "ticks": "outside"
            },
            "type": "choropleth"
           }
          ],
          "contour": [
           {
            "colorbar": {
             "outlinewidth": 1,
             "tickcolor": "rgb(36,36,36)",
             "ticks": "outside"
            },
            "colorscale": [
             [
              0,
              "#440154"
             ],
             [
              0.1111111111111111,
              "#482878"
             ],
             [
              0.2222222222222222,
              "#3e4989"
             ],
             [
              0.3333333333333333,
              "#31688e"
             ],
             [
              0.4444444444444444,
              "#26828e"
             ],
             [
              0.5555555555555556,
              "#1f9e89"
             ],
             [
              0.6666666666666666,
              "#35b779"
             ],
             [
              0.7777777777777778,
              "#6ece58"
             ],
             [
              0.8888888888888888,
              "#b5de2b"
             ],
             [
              1,
              "#fde725"
             ]
            ],
            "type": "contour"
           }
          ],
          "contourcarpet": [
           {
            "colorbar": {
             "outlinewidth": 1,
             "tickcolor": "rgb(36,36,36)",
             "ticks": "outside"
            },
            "type": "contourcarpet"
           }
          ],
          "heatmap": [
           {
            "colorbar": {
             "outlinewidth": 1,
             "tickcolor": "rgb(36,36,36)",
             "ticks": "outside"
            },
            "colorscale": [
             [
              0,
              "#440154"
             ],
             [
              0.1111111111111111,
              "#482878"
             ],
             [
              0.2222222222222222,
              "#3e4989"
             ],
             [
              0.3333333333333333,
              "#31688e"
             ],
             [
              0.4444444444444444,
              "#26828e"
             ],
             [
              0.5555555555555556,
              "#1f9e89"
             ],
             [
              0.6666666666666666,
              "#35b779"
             ],
             [
              0.7777777777777778,
              "#6ece58"
             ],
             [
              0.8888888888888888,
              "#b5de2b"
             ],
             [
              1,
              "#fde725"
             ]
            ],
            "type": "heatmap"
           }
          ],
          "histogram": [
           {
            "marker": {
             "line": {
              "color": "white",
              "width": 0.6
             }
            },
            "type": "histogram"
           }
          ],
          "histogram2d": [
           {
            "colorbar": {
             "outlinewidth": 1,
             "tickcolor": "rgb(36,36,36)",
             "ticks": "outside"
            },
            "colorscale": [
             [
              0,
              "#440154"
             ],
             [
              0.1111111111111111,
              "#482878"
             ],
             [
              0.2222222222222222,
              "#3e4989"
             ],
             [
              0.3333333333333333,
              "#31688e"
             ],
             [
              0.4444444444444444,
              "#26828e"
             ],
             [
              0.5555555555555556,
              "#1f9e89"
             ],
             [
              0.6666666666666666,
              "#35b779"
             ],
             [
              0.7777777777777778,
              "#6ece58"
             ],
             [
              0.8888888888888888,
              "#b5de2b"
             ],
             [
              1,
              "#fde725"
             ]
            ],
            "type": "histogram2d"
           }
          ],
          "histogram2dcontour": [
           {
            "colorbar": {
             "outlinewidth": 1,
             "tickcolor": "rgb(36,36,36)",
             "ticks": "outside"
            },
            "colorscale": [
             [
              0,
              "#440154"
             ],
             [
              0.1111111111111111,
              "#482878"
             ],
             [
              0.2222222222222222,
              "#3e4989"
             ],
             [
              0.3333333333333333,
              "#31688e"
             ],
             [
              0.4444444444444444,
              "#26828e"
             ],
             [
              0.5555555555555556,
              "#1f9e89"
             ],
             [
              0.6666666666666666,
              "#35b779"
             ],
             [
              0.7777777777777778,
              "#6ece58"
             ],
             [
              0.8888888888888888,
              "#b5de2b"
             ],
             [
              1,
              "#fde725"
             ]
            ],
            "type": "histogram2dcontour"
           }
          ],
          "mesh3d": [
           {
            "colorbar": {
             "outlinewidth": 1,
             "tickcolor": "rgb(36,36,36)",
             "ticks": "outside"
            },
            "type": "mesh3d"
           }
          ],
          "parcoords": [
           {
            "line": {
             "colorbar": {
              "outlinewidth": 1,
              "tickcolor": "rgb(36,36,36)",
              "ticks": "outside"
             }
            },
            "type": "parcoords"
           }
          ],
          "pie": [
           {
            "automargin": true,
            "type": "pie"
           }
          ],
          "scatter": [
           {
            "fillpattern": {
             "fillmode": "overlay",
             "size": 10,
             "solidity": 0.2
            },
            "type": "scatter"
           }
          ],
          "scatter3d": [
           {
            "line": {
             "colorbar": {
              "outlinewidth": 1,
              "tickcolor": "rgb(36,36,36)",
              "ticks": "outside"
             }
            },
            "marker": {
             "colorbar": {
              "outlinewidth": 1,
              "tickcolor": "rgb(36,36,36)",
              "ticks": "outside"
             }
            },
            "type": "scatter3d"
           }
          ],
          "scattercarpet": [
           {
            "marker": {
             "colorbar": {
              "outlinewidth": 1,
              "tickcolor": "rgb(36,36,36)",
              "ticks": "outside"
             }
            },
            "type": "scattercarpet"
           }
          ],
          "scattergeo": [
           {
            "marker": {
             "colorbar": {
              "outlinewidth": 1,
              "tickcolor": "rgb(36,36,36)",
              "ticks": "outside"
             }
            },
            "type": "scattergeo"
           }
          ],
          "scattergl": [
           {
            "marker": {
             "colorbar": {
              "outlinewidth": 1,
              "tickcolor": "rgb(36,36,36)",
              "ticks": "outside"
             }
            },
            "type": "scattergl"
           }
          ],
          "scattermap": [
           {
            "marker": {
             "colorbar": {
              "outlinewidth": 1,
              "tickcolor": "rgb(36,36,36)",
              "ticks": "outside"
             }
            },
            "type": "scattermap"
           }
          ],
          "scattermapbox": [
           {
            "marker": {
             "colorbar": {
              "outlinewidth": 1,
              "tickcolor": "rgb(36,36,36)",
              "ticks": "outside"
             }
            },
            "type": "scattermapbox"
           }
          ],
          "scatterpolar": [
           {
            "marker": {
             "colorbar": {
              "outlinewidth": 1,
              "tickcolor": "rgb(36,36,36)",
              "ticks": "outside"
             }
            },
            "type": "scatterpolar"
           }
          ],
          "scatterpolargl": [
           {
            "marker": {
             "colorbar": {
              "outlinewidth": 1,
              "tickcolor": "rgb(36,36,36)",
              "ticks": "outside"
             }
            },
            "type": "scatterpolargl"
           }
          ],
          "scatterternary": [
           {
            "marker": {
             "colorbar": {
              "outlinewidth": 1,
              "tickcolor": "rgb(36,36,36)",
              "ticks": "outside"
             }
            },
            "type": "scatterternary"
           }
          ],
          "surface": [
           {
            "colorbar": {
             "outlinewidth": 1,
             "tickcolor": "rgb(36,36,36)",
             "ticks": "outside"
            },
            "colorscale": [
             [
              0,
              "#440154"
             ],
             [
              0.1111111111111111,
              "#482878"
             ],
             [
              0.2222222222222222,
              "#3e4989"
             ],
             [
              0.3333333333333333,
              "#31688e"
             ],
             [
              0.4444444444444444,
              "#26828e"
             ],
             [
              0.5555555555555556,
              "#1f9e89"
             ],
             [
              0.6666666666666666,
              "#35b779"
             ],
             [
              0.7777777777777778,
              "#6ece58"
             ],
             [
              0.8888888888888888,
              "#b5de2b"
             ],
             [
              1,
              "#fde725"
             ]
            ],
            "type": "surface"
           }
          ],
          "table": [
           {
            "cells": {
             "fill": {
              "color": "rgb(237,237,237)"
             },
             "line": {
              "color": "white"
             }
            },
            "header": {
             "fill": {
              "color": "rgb(217,217,217)"
             },
             "line": {
              "color": "white"
             }
            },
            "type": "table"
           }
          ]
         },
         "layout": {
          "annotationdefaults": {
           "arrowhead": 0,
           "arrowwidth": 1
          },
          "autotypenumbers": "strict",
          "coloraxis": {
           "colorbar": {
            "outlinewidth": 1,
            "tickcolor": "rgb(36,36,36)",
            "ticks": "outside"
           }
          },
          "colorscale": {
           "diverging": [
            [
             0,
             "rgb(103,0,31)"
            ],
            [
             0.1,
             "rgb(178,24,43)"
            ],
            [
             0.2,
             "rgb(214,96,77)"
            ],
            [
             0.3,
             "rgb(244,165,130)"
            ],
            [
             0.4,
             "rgb(253,219,199)"
            ],
            [
             0.5,
             "rgb(247,247,247)"
            ],
            [
             0.6,
             "rgb(209,229,240)"
            ],
            [
             0.7,
             "rgb(146,197,222)"
            ],
            [
             0.8,
             "rgb(67,147,195)"
            ],
            [
             0.9,
             "rgb(33,102,172)"
            ],
            [
             1,
             "rgb(5,48,97)"
            ]
           ],
           "sequential": [
            [
             0,
             "#440154"
            ],
            [
             0.1111111111111111,
             "#482878"
            ],
            [
             0.2222222222222222,
             "#3e4989"
            ],
            [
             0.3333333333333333,
             "#31688e"
            ],
            [
             0.4444444444444444,
             "#26828e"
            ],
            [
             0.5555555555555556,
             "#1f9e89"
            ],
            [
             0.6666666666666666,
             "#35b779"
            ],
            [
             0.7777777777777778,
             "#6ece58"
            ],
            [
             0.8888888888888888,
             "#b5de2b"
            ],
            [
             1,
             "#fde725"
            ]
           ],
           "sequentialminus": [
            [
             0,
             "#440154"
            ],
            [
             0.1111111111111111,
             "#482878"
            ],
            [
             0.2222222222222222,
             "#3e4989"
            ],
            [
             0.3333333333333333,
             "#31688e"
            ],
            [
             0.4444444444444444,
             "#26828e"
            ],
            [
             0.5555555555555556,
             "#1f9e89"
            ],
            [
             0.6666666666666666,
             "#35b779"
            ],
            [
             0.7777777777777778,
             "#6ece58"
            ],
            [
             0.8888888888888888,
             "#b5de2b"
            ],
            [
             1,
             "#fde725"
            ]
           ]
          },
          "colorway": [
           "#1F77B4",
           "#FF7F0E",
           "#2CA02C",
           "#D62728",
           "#9467BD",
           "#8C564B",
           "#E377C2",
           "#7F7F7F",
           "#BCBD22",
           "#17BECF"
          ],
          "font": {
           "color": "rgb(36,36,36)"
          },
          "geo": {
           "bgcolor": "white",
           "lakecolor": "white",
           "landcolor": "white",
           "showlakes": true,
           "showland": true,
           "subunitcolor": "white"
          },
          "hoverlabel": {
           "align": "left"
          },
          "hovermode": "closest",
          "mapbox": {
           "style": "light"
          },
          "paper_bgcolor": "white",
          "plot_bgcolor": "white",
          "polar": {
           "angularaxis": {
            "gridcolor": "rgb(232,232,232)",
            "linecolor": "rgb(36,36,36)",
            "showgrid": false,
            "showline": true,
            "ticks": "outside"
           },
           "bgcolor": "white",
           "radialaxis": {
            "gridcolor": "rgb(232,232,232)",
            "linecolor": "rgb(36,36,36)",
            "showgrid": false,
            "showline": true,
            "ticks": "outside"
           }
          },
          "scene": {
           "xaxis": {
            "backgroundcolor": "white",
            "gridcolor": "rgb(232,232,232)",
            "gridwidth": 2,
            "linecolor": "rgb(36,36,36)",
            "showbackground": true,
            "showgrid": false,
            "showline": true,
            "ticks": "outside",
            "zeroline": false,
            "zerolinecolor": "rgb(36,36,36)"
           },
           "yaxis": {
            "backgroundcolor": "white",
            "gridcolor": "rgb(232,232,232)",
            "gridwidth": 2,
            "linecolor": "rgb(36,36,36)",
            "showbackground": true,
            "showgrid": false,
            "showline": true,
            "ticks": "outside",
            "zeroline": false,
            "zerolinecolor": "rgb(36,36,36)"
           },
           "zaxis": {
            "backgroundcolor": "white",
            "gridcolor": "rgb(232,232,232)",
            "gridwidth": 2,
            "linecolor": "rgb(36,36,36)",
            "showbackground": true,
            "showgrid": false,
            "showline": true,
            "ticks": "outside",
            "zeroline": false,
            "zerolinecolor": "rgb(36,36,36)"
           }
          },
          "shapedefaults": {
           "fillcolor": "black",
           "line": {
            "width": 0
           },
           "opacity": 0.3
          },
          "ternary": {
           "aaxis": {
            "gridcolor": "rgb(232,232,232)",
            "linecolor": "rgb(36,36,36)",
            "showgrid": false,
            "showline": true,
            "ticks": "outside"
           },
           "baxis": {
            "gridcolor": "rgb(232,232,232)",
            "linecolor": "rgb(36,36,36)",
            "showgrid": false,
            "showline": true,
            "ticks": "outside"
           },
           "bgcolor": "white",
           "caxis": {
            "gridcolor": "rgb(232,232,232)",
            "linecolor": "rgb(36,36,36)",
            "showgrid": false,
            "showline": true,
            "ticks": "outside"
           }
          },
          "title": {
           "x": 0.05
          },
          "xaxis": {
           "automargin": true,
           "gridcolor": "rgb(232,232,232)",
           "linecolor": "rgb(36,36,36)",
           "showgrid": false,
           "showline": true,
           "ticks": "outside",
           "title": {
            "standoff": 15
           },
           "zeroline": false,
           "zerolinecolor": "rgb(36,36,36)"
          },
          "yaxis": {
           "automargin": true,
           "gridcolor": "rgb(232,232,232)",
           "linecolor": "rgb(36,36,36)",
           "showgrid": false,
           "showline": true,
           "ticks": "outside",
           "title": {
            "standoff": 15
           },
           "zeroline": false,
           "zerolinecolor": "rgb(36,36,36)"
          }
         }
        },
        "title": {
         "font": {
          "color": "Black",
          "size": 22
         },
         "text": "<b>Intertopic Distance Map</b>",
         "x": 0.5,
         "xanchor": "center",
         "y": 0.95,
         "yanchor": "top"
        },
        "width": 650,
        "xaxis": {
         "anchor": "y",
         "domain": [
          0,
          1
         ],
         "range": [
          0,
          0
         ],
         "title": {
          "text": ""
         },
         "visible": false
        },
        "yaxis": {
         "anchor": "x",
         "domain": [
          0,
          1
         ],
         "range": [
          0,
          0
         ],
         "title": {
          "text": ""
         },
         "visible": false
        }
       }
      }
     },
     "metadata": {},
     "output_type": "display_data"
    }
   ],
   "source": [
    "topic_model.visualize_topics(topics=[2])"
   ]
  },
  {
   "cell_type": "code",
   "execution_count": 65,
   "id": "55cb4c25",
   "metadata": {},
   "outputs": [
    {
     "data": {
      "application/vnd.plotly.v1+json": {
       "config": {
        "plotlyServerURL": "https://plot.ly"
       },
       "data": [
        {
         "marker": {
          "color": "#D55E00"
         },
         "orientation": "h",
         "type": "bar",
         "x": [
          1
         ],
         "xaxis": "x",
         "y": [
          "Research in Africa  "
         ],
         "yaxis": "y"
        },
        {
         "marker": {
          "color": "#0072B2"
         },
         "orientation": "h",
         "type": "bar",
         "x": [
          1
         ],
         "xaxis": "x2",
         "y": [
          "Giant resonance studies  "
         ],
         "yaxis": "y2"
        },
        {
         "marker": {
          "color": "#CC79A7"
         },
         "orientation": "h",
         "type": "bar",
         "x": [
          1
         ],
         "xaxis": "x3",
         "y": [
          "Infectious disease modeling  "
         ],
         "yaxis": "y3"
        }
       ],
       "layout": {
        "annotations": [
         {
          "font": {
           "size": 16
          },
          "showarrow": false,
          "text": "Topic 0",
          "x": 0.0875,
          "xanchor": "center",
          "xref": "paper",
          "y": 1,
          "yanchor": "bottom",
          "yref": "paper"
         },
         {
          "font": {
           "size": 16
          },
          "showarrow": false,
          "text": "Topic 1",
          "x": 0.36250000000000004,
          "xanchor": "center",
          "xref": "paper",
          "y": 1,
          "yanchor": "bottom",
          "yref": "paper"
         },
         {
          "font": {
           "size": 16
          },
          "showarrow": false,
          "text": "Topic 2",
          "x": 0.6375000000000001,
          "xanchor": "center",
          "xref": "paper",
          "y": 1,
          "yanchor": "bottom",
          "yref": "paper"
         }
        ],
        "height": 325,
        "hoverlabel": {
         "bgcolor": "white",
         "font": {
          "family": "Rockwell",
          "size": 16
         }
        },
        "showlegend": false,
        "template": {
         "data": {
          "bar": [
           {
            "error_x": {
             "color": "#2a3f5f"
            },
            "error_y": {
             "color": "#2a3f5f"
            },
            "marker": {
             "line": {
              "color": "white",
              "width": 0.5
             },
             "pattern": {
              "fillmode": "overlay",
              "size": 10,
              "solidity": 0.2
             }
            },
            "type": "bar"
           }
          ],
          "barpolar": [
           {
            "marker": {
             "line": {
              "color": "white",
              "width": 0.5
             },
             "pattern": {
              "fillmode": "overlay",
              "size": 10,
              "solidity": 0.2
             }
            },
            "type": "barpolar"
           }
          ],
          "carpet": [
           {
            "aaxis": {
             "endlinecolor": "#2a3f5f",
             "gridcolor": "#C8D4E3",
             "linecolor": "#C8D4E3",
             "minorgridcolor": "#C8D4E3",
             "startlinecolor": "#2a3f5f"
            },
            "baxis": {
             "endlinecolor": "#2a3f5f",
             "gridcolor": "#C8D4E3",
             "linecolor": "#C8D4E3",
             "minorgridcolor": "#C8D4E3",
             "startlinecolor": "#2a3f5f"
            },
            "type": "carpet"
           }
          ],
          "choropleth": [
           {
            "colorbar": {
             "outlinewidth": 0,
             "ticks": ""
            },
            "type": "choropleth"
           }
          ],
          "contour": [
           {
            "colorbar": {
             "outlinewidth": 0,
             "ticks": ""
            },
            "colorscale": [
             [
              0,
              "#0d0887"
             ],
             [
              0.1111111111111111,
              "#46039f"
             ],
             [
              0.2222222222222222,
              "#7201a8"
             ],
             [
              0.3333333333333333,
              "#9c179e"
             ],
             [
              0.4444444444444444,
              "#bd3786"
             ],
             [
              0.5555555555555556,
              "#d8576b"
             ],
             [
              0.6666666666666666,
              "#ed7953"
             ],
             [
              0.7777777777777778,
              "#fb9f3a"
             ],
             [
              0.8888888888888888,
              "#fdca26"
             ],
             [
              1,
              "#f0f921"
             ]
            ],
            "type": "contour"
           }
          ],
          "contourcarpet": [
           {
            "colorbar": {
             "outlinewidth": 0,
             "ticks": ""
            },
            "type": "contourcarpet"
           }
          ],
          "heatmap": [
           {
            "colorbar": {
             "outlinewidth": 0,
             "ticks": ""
            },
            "colorscale": [
             [
              0,
              "#0d0887"
             ],
             [
              0.1111111111111111,
              "#46039f"
             ],
             [
              0.2222222222222222,
              "#7201a8"
             ],
             [
              0.3333333333333333,
              "#9c179e"
             ],
             [
              0.4444444444444444,
              "#bd3786"
             ],
             [
              0.5555555555555556,
              "#d8576b"
             ],
             [
              0.6666666666666666,
              "#ed7953"
             ],
             [
              0.7777777777777778,
              "#fb9f3a"
             ],
             [
              0.8888888888888888,
              "#fdca26"
             ],
             [
              1,
              "#f0f921"
             ]
            ],
            "type": "heatmap"
           }
          ],
          "histogram": [
           {
            "marker": {
             "pattern": {
              "fillmode": "overlay",
              "size": 10,
              "solidity": 0.2
             }
            },
            "type": "histogram"
           }
          ],
          "histogram2d": [
           {
            "colorbar": {
             "outlinewidth": 0,
             "ticks": ""
            },
            "colorscale": [
             [
              0,
              "#0d0887"
             ],
             [
              0.1111111111111111,
              "#46039f"
             ],
             [
              0.2222222222222222,
              "#7201a8"
             ],
             [
              0.3333333333333333,
              "#9c179e"
             ],
             [
              0.4444444444444444,
              "#bd3786"
             ],
             [
              0.5555555555555556,
              "#d8576b"
             ],
             [
              0.6666666666666666,
              "#ed7953"
             ],
             [
              0.7777777777777778,
              "#fb9f3a"
             ],
             [
              0.8888888888888888,
              "#fdca26"
             ],
             [
              1,
              "#f0f921"
             ]
            ],
            "type": "histogram2d"
           }
          ],
          "histogram2dcontour": [
           {
            "colorbar": {
             "outlinewidth": 0,
             "ticks": ""
            },
            "colorscale": [
             [
              0,
              "#0d0887"
             ],
             [
              0.1111111111111111,
              "#46039f"
             ],
             [
              0.2222222222222222,
              "#7201a8"
             ],
             [
              0.3333333333333333,
              "#9c179e"
             ],
             [
              0.4444444444444444,
              "#bd3786"
             ],
             [
              0.5555555555555556,
              "#d8576b"
             ],
             [
              0.6666666666666666,
              "#ed7953"
             ],
             [
              0.7777777777777778,
              "#fb9f3a"
             ],
             [
              0.8888888888888888,
              "#fdca26"
             ],
             [
              1,
              "#f0f921"
             ]
            ],
            "type": "histogram2dcontour"
           }
          ],
          "mesh3d": [
           {
            "colorbar": {
             "outlinewidth": 0,
             "ticks": ""
            },
            "type": "mesh3d"
           }
          ],
          "parcoords": [
           {
            "line": {
             "colorbar": {
              "outlinewidth": 0,
              "ticks": ""
             }
            },
            "type": "parcoords"
           }
          ],
          "pie": [
           {
            "automargin": true,
            "type": "pie"
           }
          ],
          "scatter": [
           {
            "fillpattern": {
             "fillmode": "overlay",
             "size": 10,
             "solidity": 0.2
            },
            "type": "scatter"
           }
          ],
          "scatter3d": [
           {
            "line": {
             "colorbar": {
              "outlinewidth": 0,
              "ticks": ""
             }
            },
            "marker": {
             "colorbar": {
              "outlinewidth": 0,
              "ticks": ""
             }
            },
            "type": "scatter3d"
           }
          ],
          "scattercarpet": [
           {
            "marker": {
             "colorbar": {
              "outlinewidth": 0,
              "ticks": ""
             }
            },
            "type": "scattercarpet"
           }
          ],
          "scattergeo": [
           {
            "marker": {
             "colorbar": {
              "outlinewidth": 0,
              "ticks": ""
             }
            },
            "type": "scattergeo"
           }
          ],
          "scattergl": [
           {
            "marker": {
             "colorbar": {
              "outlinewidth": 0,
              "ticks": ""
             }
            },
            "type": "scattergl"
           }
          ],
          "scattermap": [
           {
            "marker": {
             "colorbar": {
              "outlinewidth": 0,
              "ticks": ""
             }
            },
            "type": "scattermap"
           }
          ],
          "scattermapbox": [
           {
            "marker": {
             "colorbar": {
              "outlinewidth": 0,
              "ticks": ""
             }
            },
            "type": "scattermapbox"
           }
          ],
          "scatterpolar": [
           {
            "marker": {
             "colorbar": {
              "outlinewidth": 0,
              "ticks": ""
             }
            },
            "type": "scatterpolar"
           }
          ],
          "scatterpolargl": [
           {
            "marker": {
             "colorbar": {
              "outlinewidth": 0,
              "ticks": ""
             }
            },
            "type": "scatterpolargl"
           }
          ],
          "scatterternary": [
           {
            "marker": {
             "colorbar": {
              "outlinewidth": 0,
              "ticks": ""
             }
            },
            "type": "scatterternary"
           }
          ],
          "surface": [
           {
            "colorbar": {
             "outlinewidth": 0,
             "ticks": ""
            },
            "colorscale": [
             [
              0,
              "#0d0887"
             ],
             [
              0.1111111111111111,
              "#46039f"
             ],
             [
              0.2222222222222222,
              "#7201a8"
             ],
             [
              0.3333333333333333,
              "#9c179e"
             ],
             [
              0.4444444444444444,
              "#bd3786"
             ],
             [
              0.5555555555555556,
              "#d8576b"
             ],
             [
              0.6666666666666666,
              "#ed7953"
             ],
             [
              0.7777777777777778,
              "#fb9f3a"
             ],
             [
              0.8888888888888888,
              "#fdca26"
             ],
             [
              1,
              "#f0f921"
             ]
            ],
            "type": "surface"
           }
          ],
          "table": [
           {
            "cells": {
             "fill": {
              "color": "#EBF0F8"
             },
             "line": {
              "color": "white"
             }
            },
            "header": {
             "fill": {
              "color": "#C8D4E3"
             },
             "line": {
              "color": "white"
             }
            },
            "type": "table"
           }
          ]
         },
         "layout": {
          "annotationdefaults": {
           "arrowcolor": "#2a3f5f",
           "arrowhead": 0,
           "arrowwidth": 1
          },
          "autotypenumbers": "strict",
          "coloraxis": {
           "colorbar": {
            "outlinewidth": 0,
            "ticks": ""
           }
          },
          "colorscale": {
           "diverging": [
            [
             0,
             "#8e0152"
            ],
            [
             0.1,
             "#c51b7d"
            ],
            [
             0.2,
             "#de77ae"
            ],
            [
             0.3,
             "#f1b6da"
            ],
            [
             0.4,
             "#fde0ef"
            ],
            [
             0.5,
             "#f7f7f7"
            ],
            [
             0.6,
             "#e6f5d0"
            ],
            [
             0.7,
             "#b8e186"
            ],
            [
             0.8,
             "#7fbc41"
            ],
            [
             0.9,
             "#4d9221"
            ],
            [
             1,
             "#276419"
            ]
           ],
           "sequential": [
            [
             0,
             "#0d0887"
            ],
            [
             0.1111111111111111,
             "#46039f"
            ],
            [
             0.2222222222222222,
             "#7201a8"
            ],
            [
             0.3333333333333333,
             "#9c179e"
            ],
            [
             0.4444444444444444,
             "#bd3786"
            ],
            [
             0.5555555555555556,
             "#d8576b"
            ],
            [
             0.6666666666666666,
             "#ed7953"
            ],
            [
             0.7777777777777778,
             "#fb9f3a"
            ],
            [
             0.8888888888888888,
             "#fdca26"
            ],
            [
             1,
             "#f0f921"
            ]
           ],
           "sequentialminus": [
            [
             0,
             "#0d0887"
            ],
            [
             0.1111111111111111,
             "#46039f"
            ],
            [
             0.2222222222222222,
             "#7201a8"
            ],
            [
             0.3333333333333333,
             "#9c179e"
            ],
            [
             0.4444444444444444,
             "#bd3786"
            ],
            [
             0.5555555555555556,
             "#d8576b"
            ],
            [
             0.6666666666666666,
             "#ed7953"
            ],
            [
             0.7777777777777778,
             "#fb9f3a"
            ],
            [
             0.8888888888888888,
             "#fdca26"
            ],
            [
             1,
             "#f0f921"
            ]
           ]
          },
          "colorway": [
           "#636efa",
           "#EF553B",
           "#00cc96",
           "#ab63fa",
           "#FFA15A",
           "#19d3f3",
           "#FF6692",
           "#B6E880",
           "#FF97FF",
           "#FECB52"
          ],
          "font": {
           "color": "#2a3f5f"
          },
          "geo": {
           "bgcolor": "white",
           "lakecolor": "white",
           "landcolor": "white",
           "showlakes": true,
           "showland": true,
           "subunitcolor": "#C8D4E3"
          },
          "hoverlabel": {
           "align": "left"
          },
          "hovermode": "closest",
          "mapbox": {
           "style": "light"
          },
          "paper_bgcolor": "white",
          "plot_bgcolor": "white",
          "polar": {
           "angularaxis": {
            "gridcolor": "#EBF0F8",
            "linecolor": "#EBF0F8",
            "ticks": ""
           },
           "bgcolor": "white",
           "radialaxis": {
            "gridcolor": "#EBF0F8",
            "linecolor": "#EBF0F8",
            "ticks": ""
           }
          },
          "scene": {
           "xaxis": {
            "backgroundcolor": "white",
            "gridcolor": "#DFE8F3",
            "gridwidth": 2,
            "linecolor": "#EBF0F8",
            "showbackground": true,
            "ticks": "",
            "zerolinecolor": "#EBF0F8"
           },
           "yaxis": {
            "backgroundcolor": "white",
            "gridcolor": "#DFE8F3",
            "gridwidth": 2,
            "linecolor": "#EBF0F8",
            "showbackground": true,
            "ticks": "",
            "zerolinecolor": "#EBF0F8"
           },
           "zaxis": {
            "backgroundcolor": "white",
            "gridcolor": "#DFE8F3",
            "gridwidth": 2,
            "linecolor": "#EBF0F8",
            "showbackground": true,
            "ticks": "",
            "zerolinecolor": "#EBF0F8"
           }
          },
          "shapedefaults": {
           "line": {
            "color": "#2a3f5f"
           }
          },
          "ternary": {
           "aaxis": {
            "gridcolor": "#DFE8F3",
            "linecolor": "#A2B1C6",
            "ticks": ""
           },
           "baxis": {
            "gridcolor": "#DFE8F3",
            "linecolor": "#A2B1C6",
            "ticks": ""
           },
           "bgcolor": "white",
           "caxis": {
            "gridcolor": "#DFE8F3",
            "linecolor": "#A2B1C6",
            "ticks": ""
           }
          },
          "title": {
           "x": 0.05
          },
          "xaxis": {
           "automargin": true,
           "gridcolor": "#EBF0F8",
           "linecolor": "#EBF0F8",
           "ticks": "",
           "title": {
            "standoff": 15
           },
           "zerolinecolor": "#EBF0F8",
           "zerolinewidth": 2
          },
          "yaxis": {
           "automargin": true,
           "gridcolor": "#EBF0F8",
           "linecolor": "#EBF0F8",
           "ticks": "",
           "title": {
            "standoff": 15
           },
           "zerolinecolor": "#EBF0F8",
           "zerolinewidth": 2
          }
         }
        },
        "title": {
         "font": {
          "color": "Black",
          "size": 22
         },
         "text": "Topic Word Scores",
         "x": 0.5,
         "xanchor": "center",
         "yanchor": "top"
        },
        "width": 1000,
        "xaxis": {
         "anchor": "y",
         "domain": [
          0,
          0.175
         ],
         "showgrid": true
        },
        "xaxis2": {
         "anchor": "y2",
         "domain": [
          0.275,
          0.45
         ],
         "showgrid": true
        },
        "xaxis3": {
         "anchor": "y3",
         "domain": [
          0.55,
          0.7250000000000001
         ],
         "showgrid": true
        },
        "xaxis4": {
         "anchor": "y4",
         "domain": [
          0.825,
          1
         ],
         "showgrid": true
        },
        "yaxis": {
         "anchor": "x",
         "domain": [
          0,
          1
         ],
         "showgrid": true
        },
        "yaxis2": {
         "anchor": "x2",
         "domain": [
          0,
          1
         ],
         "showgrid": true
        },
        "yaxis3": {
         "anchor": "x3",
         "domain": [
          0,
          1
         ],
         "showgrid": true
        },
        "yaxis4": {
         "anchor": "x4",
         "domain": [
          0,
          1
         ],
         "showgrid": true
        }
       }
      }
     },
     "metadata": {},
     "output_type": "display_data"
    }
   ],
   "source": [
    "topic_model.visualize_barchart(topics=[0, 1, 2])"
   ]
  },
  {
   "cell_type": "code",
   "execution_count": null,
   "id": "a6a85ef7",
   "metadata": {},
   "outputs": [],
   "source": []
  }
 ],
 "metadata": {
  "kernelspec": {
   "display_name": "Python 3",
   "language": "python",
   "name": "python3"
  },
  "language_info": {
   "codemirror_mode": {
    "name": "ipython",
    "version": 3
   },
   "file_extension": ".py",
   "mimetype": "text/x-python",
   "name": "python",
   "nbconvert_exporter": "python",
   "pygments_lexer": "ipython3",
   "version": "3.13.2"
  }
 },
 "nbformat": 4,
 "nbformat_minor": 5
}
